{
 "metadata": {
  "language_info": {
   "codemirror_mode": {
    "name": "ipython",
    "version": 3
   },
   "file_extension": ".py",
   "mimetype": "text/x-python",
   "name": "python",
   "nbconvert_exporter": "python",
   "pygments_lexer": "ipython3",
   "version": 3
  },
  "orig_nbformat": 2
 },
 "nbformat": 4,
 "nbformat_minor": 2,
 "cells": [
  {
   "source": [
    "## Dataset annotation estraction 2\n",
    "\n",
    "### Mask R-CNN dataset input format\n",
    "\n",
    "#### In this project each object contained into one image must be passed to the network as an image in grey scale (one value for each pixel) where only one instance should be present in one mask image, obviusly can be more than one mask for each image, each mask should be associated with their class, with one array associated to the array of masks."
   ],
   "cell_type": "markdown",
   "metadata": {}
  },
  {
   "source": [
    "### Parsing of Supervisely dataset with annotations in json  format\n",
    "\n",
    "#### "
   ],
   "cell_type": "markdown",
   "metadata": {}
  }
 ]
}