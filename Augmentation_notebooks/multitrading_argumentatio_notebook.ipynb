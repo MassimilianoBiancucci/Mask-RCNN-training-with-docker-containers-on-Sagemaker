{
 "metadata": {
  "language_info": {
   "codemirror_mode": {
    "name": "ipython",
    "version": 3
   },
   "file_extension": ".py",
   "mimetype": "text/x-python",
   "name": "python",
   "nbconvert_exporter": "python",
   "pygments_lexer": "ipython3",
   "version": "3.6.8"
  },
  "orig_nbformat": 2,
  "kernelspec": {
   "name": "python368jvsc74a57bd031f2aee4e71d21fbe5cf8b01ff0e069b9275f58929596ceb00d14d90e3e16cd6",
   "display_name": "Python 3.6.8 64-bit"
  },
  "metadata": {
   "interpreter": {
    "hash": "31f2aee4e71d21fbe5cf8b01ff0e069b9275f58929596ceb00d14d90e3e16cd6"
   }
  }
 },
 "nbformat": 4,
 "nbformat_minor": 2,
 "cells": [
  {
   "cell_type": "code",
   "execution_count": 1,
   "metadata": {},
   "outputs": [],
   "source": [
    "import numpy as np\n",
    "import imgaug as ia\n",
    "from imgaug import augmenters as iaa\n",
    "import time\n",
    "from imgaug.augmentables.batches import UnnormalizedBatch\n",
    "import pandas as pd\n",
    "import cProfile\n",
    "%matplotlib inline\n",
    "\n",
    "aug = iaa.Sequential([\n",
    "    iaa.PiecewiseAffine(scale=0.05, nb_cols=6, nb_rows=6),  # very slow\n",
    "    iaa.Fliplr(0.5),  # very fast\n",
    "    iaa.CropAndPad(px=(-10, 10))  # very fast\n",
    "])"
   ]
  },
  {
   "cell_type": "code",
   "execution_count": 2,
   "metadata": {},
   "outputs": [],
   "source": [
    "def do_tests(BATCH_SIZE, NB_BATCHES):\n",
    "    image = ia.quokka_square(size=(256, 256))\n",
    "    images = [np.copy(image) for _ in range(BATCH_SIZE)]\n",
    "    batches = [UnnormalizedBatch(images=images) for _ in range(NB_BATCHES)]\n",
    "\n",
    "    results = {}\n",
    "\n",
    "    ## sequential one at time\n",
    "    tic = time.time()\n",
    "    batches_ = []\n",
    "    for _ in range(NB_BATCHES):\n",
    "        images_ = []\n",
    "        for _ in range(BATCH_SIZE):\n",
    "            images_.append(aug.augment_image(image))\n",
    "        batches_.append(images_)\n",
    "\n",
    "    toc = time.time()\n",
    "    delta = (toc - tic) * 10 ** 3\n",
    "    results['sequential'] = delta\n",
    "    \n",
    "    ## with batches not multitrading\n",
    "    tic = time.time()\n",
    "    batches_aug = list(aug.augment_batches(batches, background=False))  # list() converts generator to list\n",
    "    toc = time.time()\n",
    "\n",
    "    delta = (toc - tic) * 10 ** 3\n",
    "    results['batches_no_multi'] = delta\n",
    "\n",
    "    ## with batches multitrading\n",
    "    tic = time.time()\n",
    "    batches_aug = list(aug.augment_batches(batches, background=True))  # background=True for multicore aug\n",
    "    toc = time.time()\n",
    "\n",
    "    delta = (toc - tic) * 10 ** 3\n",
    "    results['batches_multi'] = delta\n",
    "\n",
    "    ## with pool\n",
    "    tic = time.time()\n",
    "    \n",
    "    with aug.pool(processes=-1, maxtasksperchild=20, seed=1) as pool:\n",
    "        batches_aug = pool.map_batches(batches)\n",
    "    toc = time.time()\n",
    "\n",
    "    delta = (toc - tic) * 10 ** 3\n",
    "    results['batches_pool'] = delta\n",
    "\n",
    "    return results"
   ]
  },
  {
   "source": [
    "# experiment 1"
   ],
   "cell_type": "markdown",
   "metadata": {}
  },
  {
   "cell_type": "code",
   "execution_count": 3,
   "metadata": {},
   "outputs": [
    {
     "output_type": "execute_result",
     "data": {
      "text/plain": [
       "                            ms\n",
       "sequential        24045.284986\n",
       "batches_no_multi  21913.042784\n",
       "batches_multi      8320.817709\n",
       "batches_pool       8527.624607"
      ],
      "text/html": "<div>\n<style scoped>\n    .dataframe tbody tr th:only-of-type {\n        vertical-align: middle;\n    }\n\n    .dataframe tbody tr th {\n        vertical-align: top;\n    }\n\n    .dataframe thead th {\n        text-align: right;\n    }\n</style>\n<table border=\"1\" class=\"dataframe\">\n  <thead>\n    <tr style=\"text-align: right;\">\n      <th></th>\n      <th>ms</th>\n    </tr>\n  </thead>\n  <tbody>\n    <tr>\n      <th>sequential</th>\n      <td>24045.284986</td>\n    </tr>\n    <tr>\n      <th>batches_no_multi</th>\n      <td>21913.042784</td>\n    </tr>\n    <tr>\n      <th>batches_multi</th>\n      <td>8320.817709</td>\n    </tr>\n    <tr>\n      <th>batches_pool</th>\n      <td>8527.624607</td>\n    </tr>\n  </tbody>\n</table>\n</div>"
     },
     "metadata": {},
     "execution_count": 3
    }
   ],
   "source": [
    "results = do_tests(BATCH_SIZE = 16, NB_BATCHES = 20)\n",
    "pd.DataFrame.from_dict(results, orient='index', columns=['ms'])"
   ]
  },
  {
   "source": [
    "# experiment 2"
   ],
   "cell_type": "markdown",
   "metadata": {}
  },
  {
   "cell_type": "code",
   "execution_count": 4,
   "metadata": {},
   "outputs": [
    {
     "output_type": "execute_result",
     "data": {
      "text/plain": [
       "                            ms\n",
       "sequential        23388.743877\n",
       "batches_no_multi  22255.701542\n",
       "batches_multi      8496.857882\n",
       "batches_pool       8103.905439"
      ],
      "text/html": "<div>\n<style scoped>\n    .dataframe tbody tr th:only-of-type {\n        vertical-align: middle;\n    }\n\n    .dataframe tbody tr th {\n        vertical-align: top;\n    }\n\n    .dataframe thead th {\n        text-align: right;\n    }\n</style>\n<table border=\"1\" class=\"dataframe\">\n  <thead>\n    <tr style=\"text-align: right;\">\n      <th></th>\n      <th>ms</th>\n    </tr>\n  </thead>\n  <tbody>\n    <tr>\n      <th>sequential</th>\n      <td>23388.743877</td>\n    </tr>\n    <tr>\n      <th>batches_no_multi</th>\n      <td>22255.701542</td>\n    </tr>\n    <tr>\n      <th>batches_multi</th>\n      <td>8496.857882</td>\n    </tr>\n    <tr>\n      <th>batches_pool</th>\n      <td>8103.905439</td>\n    </tr>\n  </tbody>\n</table>\n</div>"
     },
     "metadata": {},
     "execution_count": 4
    }
   ],
   "source": [
    "results = do_tests(BATCH_SIZE = 1, NB_BATCHES = 320)\n",
    "pd.DataFrame.from_dict(results, orient='index', columns=['ms'])"
   ]
  },
  {
   "cell_type": "code",
   "execution_count": null,
   "metadata": {},
   "outputs": [],
   "source": []
  }
 ]
}