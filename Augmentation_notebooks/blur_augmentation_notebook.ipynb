{
 "metadata": {
  "orig_nbformat": 2,
  "kernelspec": {
   "name": "python3",
   "display_name": "Python 3",
   "language": "python"
  }
 },
 "nbformat": 4,
 "nbformat_minor": 2,
 "cells": [
  {
   "source": [
    "## Augmentation functions of blur group\n",
    "#### **[overview]()** **[docs]()**"
   ],
   "cell_type": "markdown",
   "metadata": {}
  },
  {
   "cell_type": "code",
   "execution_count": 1,
   "metadata": {},
   "outputs": [],
   "source": [
    "import matplotlib.pyplot as plt\n",
    "import numpy as np\n",
    "import imgaug as ia\n",
    "from imgaug import augmenters as iaa\n",
    "from imgaug import parameters as iap"
   ]
  },
  {
   "cell_type": "code",
   "execution_count": 2,
   "metadata": {},
   "outputs": [],
   "source": [
    "image = ia.quokka(size=(128, 128), extract=\"square\")"
   ]
  },
  {
   "cell_type": "code",
   "execution_count": 3,
   "metadata": {},
   "outputs": [],
   "source": [
    "def print_aug(aug, n=16):\n",
    "    # Augment images and segmaps.\n",
    "    images_aug = []\n",
    "\n",
    "    for _ in range(n):\n",
    "        images_aug_i = aug(image=image)\n",
    "        images_aug.append(images_aug_i)\n",
    "\n",
    "    cells = []\n",
    "    for image_aug in images_aug:\n",
    "        cells.append(image_aug)                                      \n",
    "\n",
    "    # Convert cells to a grid image and save.\n",
    "    result_grid_image = ia.draw_grid(cells, cols=8)\n",
    "\n",
    "    # plot functions \n",
    "    # note that the last image is augmented by matplotlib to make classes distingushable\n",
    "\n",
    "    plt.figure()\n",
    "    f, window = plt.subplots(1,1,figsize=(40,20)) \n",
    "    window.imshow(result_grid_image)\n",
    "    window.axis('off')"
   ]
  },
  {
   "cell_type": "code",
   "execution_count": null,
   "metadata": {},
   "outputs": [],
   "source": []
  }
 ]
}