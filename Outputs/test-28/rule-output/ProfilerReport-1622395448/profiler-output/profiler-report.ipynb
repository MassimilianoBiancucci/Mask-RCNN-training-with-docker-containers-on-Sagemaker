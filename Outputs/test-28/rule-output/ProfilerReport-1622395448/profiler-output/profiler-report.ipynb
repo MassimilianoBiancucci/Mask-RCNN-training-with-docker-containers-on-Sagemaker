{
 "cells": [
  {
   "cell_type": "markdown",
   "metadata": {
    "papermill": {
     "duration": 0.018691,
     "end_time": "2021-05-30T22:12:53.206495",
     "exception": false,
     "start_time": "2021-05-30T22:12:53.187804",
     "status": "completed"
    },
    "tags": []
   },
   "source": [
    "# SageMaker Debugger Profiling Report\n",
    "\n",
    "SageMaker Debugger auto generated this report. You can generate similar reports on all supported training jobs. The report provides summary of training job, system resource usage statistics, framework metrics, rules summary, and detailed analysis from each rule. The graphs and tables are interactive. \n",
    "\n",
    "**Legal disclaimer:** This report and any recommendations are provided for informational purposes only and are not definitive. You are responsible for making your own independent assessment of the information.\n"
   ]
  },
  {
   "cell_type": "code",
   "execution_count": 1,
   "metadata": {
    "execution": {
     "iopub.execute_input": "2021-05-30T22:12:53.249551Z",
     "iopub.status.busy": "2021-05-30T22:12:53.248975Z",
     "iopub.status.idle": "2021-05-30T22:12:53.790007Z",
     "shell.execute_reply": "2021-05-30T22:12:53.790413Z"
    },
    "papermill": {
     "duration": 0.566257,
     "end_time": "2021-05-30T22:12:53.790626",
     "exception": false,
     "start_time": "2021-05-30T22:12:53.224369",
     "status": "completed"
    },
    "tags": [
     "hide-output",
     "hide-input"
    ]
   },
   "outputs": [
    {
     "output_type": "stream",
     "name": "stdout",
     "text": [
      "[2021-05-31 10:55:40.999 massi-GL75-9SE:10082 INFO utils.py:27] RULE_JOB_STOP_SIGNAL_FILENAME: None\n"
     ]
    }
   ],
   "source": [
    "import json\n",
    "import pandas as pd\n",
    "import glob\n",
    "import matplotlib.pyplot as plt\n",
    "import numpy as np\n",
    "import datetime\n",
    "from smdebug.profiler.utils import us_since_epoch_to_human_readable_time, ns_since_epoch_to_human_readable_time\n"
   ]
  },
  {
   "cell_type": "code",
   "execution_count": 2,
   "metadata": {
    "execution": {
     "iopub.execute_input": "2021-05-30T22:12:53.830924Z",
     "iopub.status.busy": "2021-05-30T22:12:53.830413Z",
     "iopub.status.idle": "2021-05-30T22:12:54.055344Z",
     "shell.execute_reply": "2021-05-30T22:12:54.055745Z"
    },
    "papermill": {
     "duration": 0.24736,
     "end_time": "2021-05-30T22:12:54.055894",
     "exception": false,
     "start_time": "2021-05-30T22:12:53.808534",
     "status": "completed"
    },
    "tags": [
     "hide-input"
    ]
   },
   "outputs": [
    {
     "output_type": "display_data",
     "data": {
      "application/javascript": "\n(function(root) {\n  function now() {\n    return new Date();\n  }\n\n  var force = true;\n\n  if (typeof root._bokeh_onload_callbacks === \"undefined\" || force === true) {\n    root._bokeh_onload_callbacks = [];\n    root._bokeh_is_loading = undefined;\n  }\n\n  var JS_MIME_TYPE = 'application/javascript';\n  var HTML_MIME_TYPE = 'text/html';\n  var EXEC_MIME_TYPE = 'application/vnd.bokehjs_exec.v0+json';\n  var CLASS_NAME = 'output_bokeh rendered_html';\n\n  /**\n   * Render data to the DOM node\n   */\n  function render(props, node) {\n    var script = document.createElement(\"script\");\n    node.appendChild(script);\n  }\n\n  /**\n   * Handle when an output is cleared or removed\n   */\n  function handleClearOutput(event, handle) {\n    var cell = handle.cell;\n\n    var id = cell.output_area._bokeh_element_id;\n    var server_id = cell.output_area._bokeh_server_id;\n    // Clean up Bokeh references\n    if (id != null && id in Bokeh.index) {\n      Bokeh.index[id].model.document.clear();\n      delete Bokeh.index[id];\n    }\n\n    if (server_id !== undefined) {\n      // Clean up Bokeh references\n      var cmd = \"from bokeh.io.state import curstate; print(curstate().uuid_to_server['\" + server_id + \"'].get_sessions()[0].document.roots[0]._id)\";\n      cell.notebook.kernel.execute(cmd, {\n        iopub: {\n          output: function(msg) {\n            var id = msg.content.text.trim();\n            if (id in Bokeh.index) {\n              Bokeh.index[id].model.document.clear();\n              delete Bokeh.index[id];\n            }\n          }\n        }\n      });\n      // Destroy server and session\n      var cmd = \"import bokeh.io.notebook as ion; ion.destroy_server('\" + server_id + \"')\";\n      cell.notebook.kernel.execute(cmd);\n    }\n  }\n\n  /**\n   * Handle when a new output is added\n   */\n  function handleAddOutput(event, handle) {\n    var output_area = handle.output_area;\n    var output = handle.output;\n\n    // limit handleAddOutput to display_data with EXEC_MIME_TYPE content only\n    if ((output.output_type != \"display_data\") || (!Object.prototype.hasOwnProperty.call(output.data, EXEC_MIME_TYPE))) {\n      return\n    }\n\n    var toinsert = output_area.element.find(\".\" + CLASS_NAME.split(' ')[0]);\n\n    if (output.metadata[EXEC_MIME_TYPE][\"id\"] !== undefined) {\n      toinsert[toinsert.length - 1].firstChild.textContent = output.data[JS_MIME_TYPE];\n      // store reference to embed id on output_area\n      output_area._bokeh_element_id = output.metadata[EXEC_MIME_TYPE][\"id\"];\n    }\n    if (output.metadata[EXEC_MIME_TYPE][\"server_id\"] !== undefined) {\n      var bk_div = document.createElement(\"div\");\n      bk_div.innerHTML = output.data[HTML_MIME_TYPE];\n      var script_attrs = bk_div.children[0].attributes;\n      for (var i = 0; i < script_attrs.length; i++) {\n        toinsert[toinsert.length - 1].firstChild.setAttribute(script_attrs[i].name, script_attrs[i].value);\n        toinsert[toinsert.length - 1].firstChild.textContent = bk_div.children[0].textContent\n      }\n      // store reference to server id on output_area\n      output_area._bokeh_server_id = output.metadata[EXEC_MIME_TYPE][\"server_id\"];\n    }\n  }\n\n  function register_renderer(events, OutputArea) {\n\n    function append_mime(data, metadata, element) {\n      // create a DOM node to render to\n      var toinsert = this.create_output_subarea(\n        metadata,\n        CLASS_NAME,\n        EXEC_MIME_TYPE\n      );\n      this.keyboard_manager.register_events(toinsert);\n      // Render to node\n      var props = {data: data, metadata: metadata[EXEC_MIME_TYPE]};\n      render(props, toinsert[toinsert.length - 1]);\n      element.append(toinsert);\n      return toinsert\n    }\n\n    /* Handle when an output is cleared or removed */\n    events.on('clear_output.CodeCell', handleClearOutput);\n    events.on('delete.Cell', handleClearOutput);\n\n    /* Handle when a new output is added */\n    events.on('output_added.OutputArea', handleAddOutput);\n\n    /**\n     * Register the mime type and append_mime function with output_area\n     */\n    OutputArea.prototype.register_mime_type(EXEC_MIME_TYPE, append_mime, {\n      /* Is output safe? */\n      safe: true,\n      /* Index of renderer in `output_area.display_order` */\n      index: 0\n    });\n  }\n\n  // register the mime type if in Jupyter Notebook environment and previously unregistered\n  if (root.Jupyter !== undefined) {\n    var events = require('base/js/events');\n    var OutputArea = require('notebook/js/outputarea').OutputArea;\n\n    if (OutputArea.prototype.mime_types().indexOf(EXEC_MIME_TYPE) == -1) {\n      register_renderer(events, OutputArea);\n    }\n  }\n\n  \n  if (typeof (root._bokeh_timeout) === \"undefined\" || force === true) {\n    root._bokeh_timeout = Date.now() + 5000;\n    root._bokeh_failed_load = false;\n  }\n\n  var NB_LOAD_WARNING = {'data': {'text/html':\n     \"<div style='background-color: #fdd'>\\n\"+\n     \"<p>\\n\"+\n     \"BokehJS does not appear to have successfully loaded. If loading BokehJS from CDN, this \\n\"+\n     \"may be due to a slow or bad network connection. Possible fixes:\\n\"+\n     \"</p>\\n\"+\n     \"<ul>\\n\"+\n     \"<li>re-rerun `output_notebook()` to attempt to load from CDN again, or</li>\\n\"+\n     \"<li>use INLINE resources instead, as so:</li>\\n\"+\n     \"</ul>\\n\"+\n     \"<code>\\n\"+\n     \"from bokeh.resources import INLINE\\n\"+\n     \"output_notebook(resources=INLINE)\\n\"+\n     \"</code>\\n\"+\n     \"</div>\"}};\n\n  function display_loaded() {\n    var el = document.getElementById(null);\n    if (el != null) {\n      el.textContent = \"BokehJS is loading...\";\n    }\n    if (root.Bokeh !== undefined) {\n      if (el != null) {\n        el.textContent = \"BokehJS \" + root.Bokeh.version + \" successfully loaded.\";\n      }\n    } else if (Date.now() < root._bokeh_timeout) {\n      setTimeout(display_loaded, 100)\n    }\n  }\n\n\n  function run_callbacks() {\n    try {\n      root._bokeh_onload_callbacks.forEach(function(callback) {\n        if (callback != null)\n          callback();\n      });\n    } finally {\n      delete root._bokeh_onload_callbacks\n    }\n    console.debug(\"Bokeh: all callbacks have finished\");\n  }\n\n  function load_libs(css_urls, js_urls, callback) {\n    if (css_urls == null) css_urls = [];\n    if (js_urls == null) js_urls = [];\n\n    root._bokeh_onload_callbacks.push(callback);\n    if (root._bokeh_is_loading > 0) {\n      console.debug(\"Bokeh: BokehJS is being loaded, scheduling callback at\", now());\n      return null;\n    }\n    if (js_urls == null || js_urls.length === 0) {\n      run_callbacks();\n      return null;\n    }\n    console.debug(\"Bokeh: BokehJS not loaded, scheduling load and callback at\", now());\n    root._bokeh_is_loading = css_urls.length + js_urls.length;\n\n    function on_load() {\n      root._bokeh_is_loading--;\n      if (root._bokeh_is_loading === 0) {\n        console.debug(\"Bokeh: all BokehJS libraries/stylesheets loaded\");\n        run_callbacks()\n      }\n    }\n\n    function on_error(url) {\n      console.error(\"failed to load \" + url);\n    }\n\n    for (let i = 0; i < css_urls.length; i++) {\n      const url = css_urls[i];\n      const element = document.createElement(\"link\");\n      element.onload = on_load;\n      element.onerror = on_error.bind(null, url);\n      element.rel = \"stylesheet\";\n      element.type = \"text/css\";\n      element.href = url;\n      console.debug(\"Bokeh: injecting link tag for BokehJS stylesheet: \", url);\n      document.body.appendChild(element);\n    }\n\n    const hashes = {\"https://cdn.bokeh.org/bokeh/release/bokeh-2.3.2.min.js\": \"XypntL49z55iwGVUW4qsEu83zKL3XEcz0MjuGOQ9SlaaQ68X/g+k1FcioZi7oQAc\", \"https://cdn.bokeh.org/bokeh/release/bokeh-tables-2.3.2.min.js\": \"bEsM86IHGDTLCS0Zod8a8WM6Y4+lafAL/eSiyQcuPzinmWNgNO2/olUF0Z2Dkn5i\", \"https://cdn.bokeh.org/bokeh/release/bokeh-widgets-2.3.2.min.js\": \"TX0gSQTdXTTeScqxj6PVQxTiRW8DOoGVwinyi1D3kxv7wuxQ02XkOxv0xwiypcAH\"};\n\n    for (let i = 0; i < js_urls.length; i++) {\n      const url = js_urls[i];\n      const element = document.createElement('script');\n      element.onload = on_load;\n      element.onerror = on_error.bind(null, url);\n      element.async = false;\n      element.src = url;\n      if (url in hashes) {\n        element.crossOrigin = \"anonymous\";\n        element.integrity = \"sha384-\" + hashes[url];\n      }\n      console.debug(\"Bokeh: injecting script tag for BokehJS library: \", url);\n      document.head.appendChild(element);\n    }\n  };\n\n  function inject_raw_css(css) {\n    const element = document.createElement(\"style\");\n    element.appendChild(document.createTextNode(css));\n    document.body.appendChild(element);\n  }\n\n  \n  var js_urls = [\"https://cdn.bokeh.org/bokeh/release/bokeh-2.3.2.min.js\", \"https://cdn.bokeh.org/bokeh/release/bokeh-widgets-2.3.2.min.js\", \"https://cdn.bokeh.org/bokeh/release/bokeh-tables-2.3.2.min.js\"];\n  var css_urls = [];\n  \n\n  var inline_js = [\n    function(Bokeh) {\n      Bokeh.set_log_level(\"info\");\n    },\n    function(Bokeh) {\n    \n    \n    }\n  ];\n\n  function run_inline_js() {\n    \n    if (root.Bokeh !== undefined || force === true) {\n      \n    for (var i = 0; i < inline_js.length; i++) {\n      inline_js[i].call(root, root.Bokeh);\n    }\n    } else if (Date.now() < root._bokeh_timeout) {\n      setTimeout(run_inline_js, 100);\n    } else if (!root._bokeh_failed_load) {\n      console.log(\"Bokeh: BokehJS failed to load within specified timeout.\");\n      root._bokeh_failed_load = true;\n    } else if (force !== true) {\n      var cell = $(document.getElementById(null)).parents('.cell').data().cell;\n      cell.output_area.append_execute_result(NB_LOAD_WARNING)\n    }\n\n  }\n\n  if (root._bokeh_is_loading === 0) {\n    console.debug(\"Bokeh: BokehJS loaded, going straight to plotting\");\n    run_inline_js();\n  } else {\n    load_libs(css_urls, js_urls, function() {\n      console.debug(\"Bokeh: BokehJS plotting callback run at\", now());\n      run_inline_js();\n    });\n  }\n}(window));",
      "application/vnd.bokehjs_load.v0+json": "\n(function(root) {\n  function now() {\n    return new Date();\n  }\n\n  var force = true;\n\n  if (typeof root._bokeh_onload_callbacks === \"undefined\" || force === true) {\n    root._bokeh_onload_callbacks = [];\n    root._bokeh_is_loading = undefined;\n  }\n\n  \n\n  \n  if (typeof (root._bokeh_timeout) === \"undefined\" || force === true) {\n    root._bokeh_timeout = Date.now() + 5000;\n    root._bokeh_failed_load = false;\n  }\n\n  var NB_LOAD_WARNING = {'data': {'text/html':\n     \"<div style='background-color: #fdd'>\\n\"+\n     \"<p>\\n\"+\n     \"BokehJS does not appear to have successfully loaded. If loading BokehJS from CDN, this \\n\"+\n     \"may be due to a slow or bad network connection. Possible fixes:\\n\"+\n     \"</p>\\n\"+\n     \"<ul>\\n\"+\n     \"<li>re-rerun `output_notebook()` to attempt to load from CDN again, or</li>\\n\"+\n     \"<li>use INLINE resources instead, as so:</li>\\n\"+\n     \"</ul>\\n\"+\n     \"<code>\\n\"+\n     \"from bokeh.resources import INLINE\\n\"+\n     \"output_notebook(resources=INLINE)\\n\"+\n     \"</code>\\n\"+\n     \"</div>\"}};\n\n  function display_loaded() {\n    var el = document.getElementById(null);\n    if (el != null) {\n      el.textContent = \"BokehJS is loading...\";\n    }\n    if (root.Bokeh !== undefined) {\n      if (el != null) {\n        el.textContent = \"BokehJS \" + root.Bokeh.version + \" successfully loaded.\";\n      }\n    } else if (Date.now() < root._bokeh_timeout) {\n      setTimeout(display_loaded, 100)\n    }\n  }\n\n\n  function run_callbacks() {\n    try {\n      root._bokeh_onload_callbacks.forEach(function(callback) {\n        if (callback != null)\n          callback();\n      });\n    } finally {\n      delete root._bokeh_onload_callbacks\n    }\n    console.debug(\"Bokeh: all callbacks have finished\");\n  }\n\n  function load_libs(css_urls, js_urls, callback) {\n    if (css_urls == null) css_urls = [];\n    if (js_urls == null) js_urls = [];\n\n    root._bokeh_onload_callbacks.push(callback);\n    if (root._bokeh_is_loading > 0) {\n      console.debug(\"Bokeh: BokehJS is being loaded, scheduling callback at\", now());\n      return null;\n    }\n    if (js_urls == null || js_urls.length === 0) {\n      run_callbacks();\n      return null;\n    }\n    console.debug(\"Bokeh: BokehJS not loaded, scheduling load and callback at\", now());\n    root._bokeh_is_loading = css_urls.length + js_urls.length;\n\n    function on_load() {\n      root._bokeh_is_loading--;\n      if (root._bokeh_is_loading === 0) {\n        console.debug(\"Bokeh: all BokehJS libraries/stylesheets loaded\");\n        run_callbacks()\n      }\n    }\n\n    function on_error(url) {\n      console.error(\"failed to load \" + url);\n    }\n\n    for (let i = 0; i < css_urls.length; i++) {\n      const url = css_urls[i];\n      const element = document.createElement(\"link\");\n      element.onload = on_load;\n      element.onerror = on_error.bind(null, url);\n      element.rel = \"stylesheet\";\n      element.type = \"text/css\";\n      element.href = url;\n      console.debug(\"Bokeh: injecting link tag for BokehJS stylesheet: \", url);\n      document.body.appendChild(element);\n    }\n\n    const hashes = {\"https://cdn.bokeh.org/bokeh/release/bokeh-2.3.2.min.js\": \"XypntL49z55iwGVUW4qsEu83zKL3XEcz0MjuGOQ9SlaaQ68X/g+k1FcioZi7oQAc\", \"https://cdn.bokeh.org/bokeh/release/bokeh-tables-2.3.2.min.js\": \"bEsM86IHGDTLCS0Zod8a8WM6Y4+lafAL/eSiyQcuPzinmWNgNO2/olUF0Z2Dkn5i\", \"https://cdn.bokeh.org/bokeh/release/bokeh-widgets-2.3.2.min.js\": \"TX0gSQTdXTTeScqxj6PVQxTiRW8DOoGVwinyi1D3kxv7wuxQ02XkOxv0xwiypcAH\"};\n\n    for (let i = 0; i < js_urls.length; i++) {\n      const url = js_urls[i];\n      const element = document.createElement('script');\n      element.onload = on_load;\n      element.onerror = on_error.bind(null, url);\n      element.async = false;\n      element.src = url;\n      if (url in hashes) {\n        element.crossOrigin = \"anonymous\";\n        element.integrity = \"sha384-\" + hashes[url];\n      }\n      console.debug(\"Bokeh: injecting script tag for BokehJS library: \", url);\n      document.head.appendChild(element);\n    }\n  };\n\n  function inject_raw_css(css) {\n    const element = document.createElement(\"style\");\n    element.appendChild(document.createTextNode(css));\n    document.body.appendChild(element);\n  }\n\n  \n  var js_urls = [\"https://cdn.bokeh.org/bokeh/release/bokeh-2.3.2.min.js\", \"https://cdn.bokeh.org/bokeh/release/bokeh-widgets-2.3.2.min.js\", \"https://cdn.bokeh.org/bokeh/release/bokeh-tables-2.3.2.min.js\"];\n  var css_urls = [];\n  \n\n  var inline_js = [\n    function(Bokeh) {\n      Bokeh.set_log_level(\"info\");\n    },\n    function(Bokeh) {\n    \n    \n    }\n  ];\n\n  function run_inline_js() {\n    \n    if (root.Bokeh !== undefined || force === true) {\n      \n    for (var i = 0; i < inline_js.length; i++) {\n      inline_js[i].call(root, root.Bokeh);\n    }\n    } else if (Date.now() < root._bokeh_timeout) {\n      setTimeout(run_inline_js, 100);\n    } else if (!root._bokeh_failed_load) {\n      console.log(\"Bokeh: BokehJS failed to load within specified timeout.\");\n      root._bokeh_failed_load = true;\n    } else if (force !== true) {\n      var cell = $(document.getElementById(null)).parents('.cell').data().cell;\n      cell.output_area.append_execute_result(NB_LOAD_WARNING)\n    }\n\n  }\n\n  if (root._bokeh_is_loading === 0) {\n    console.debug(\"Bokeh: BokehJS loaded, going straight to plotting\");\n    run_inline_js();\n  } else {\n    load_libs(css_urls, js_urls, function() {\n      console.debug(\"Bokeh: BokehJS plotting callback run at\", now());\n      run_inline_js();\n    });\n  }\n}(window));"
     },
     "metadata": {}
    }
   ],
   "source": [
    "import bokeh\n",
    "from bokeh.io import output_notebook, show\n",
    "from bokeh.layouts import column, row\n",
    "from bokeh.plotting import figure\n",
    "from bokeh.models.widgets import DataTable, DateFormatter, TableColumn\n",
    "from bokeh.models import ColumnDataSource, PreText\n",
    "from math import pi\n",
    "from bokeh.transform import cumsum\n",
    "import warnings\n",
    "from bokeh.models.widgets import Paragraph\n",
    "from bokeh.models import Legend\n",
    "from bokeh.util.warnings import BokehDeprecationWarning, BokehUserWarning\n",
    "warnings.simplefilter('ignore', BokehDeprecationWarning)\n",
    "warnings.simplefilter('ignore', BokehUserWarning)\n",
    "\n",
    "output_notebook(hide_banner=True)"
   ]
  },
  {
   "cell_type": "code",
   "execution_count": 3,
   "metadata": {
    "execution": {
     "iopub.execute_input": "2021-05-30T22:12:54.099662Z",
     "iopub.status.busy": "2021-05-30T22:12:54.099120Z",
     "iopub.status.idle": "2021-05-30T22:12:54.100979Z",
     "shell.execute_reply": "2021-05-30T22:12:54.101422Z"
    },
    "papermill": {
     "duration": 0.027191,
     "end_time": "2021-05-30T22:12:54.101564",
     "exception": false,
     "start_time": "2021-05-30T22:12:54.074373",
     "status": "completed"
    },
    "tags": [
     "hide-input"
    ]
   },
   "outputs": [],
   "source": [
    "def create_piechart(data_dict, title=None, height=400, width=400, x1=0, x2=0.1, radius=0.4, toolbar_location='right'):\n",
    "   \n",
    "    plot = figure(plot_height=height, \n",
    "                  plot_width=width,\n",
    "                  toolbar_location=toolbar_location,\n",
    "                  tools=\"hover,wheel_zoom,reset,pan\", \n",
    "                  tooltips=\"@phase:@value\", \n",
    "                  title=title,\n",
    "                  x_range=(-radius-x1, radius+x2))\n",
    "\n",
    "    data = pd.Series(data_dict).reset_index(name='value').rename(columns={'index':'phase'})\n",
    "    data['angle'] = data['value']/data['value'].sum() * 2*pi\n",
    "    data['color'] = bokeh.palettes.viridis(len(data_dict))\n",
    "\n",
    "    plot.wedge(x=0, y=0., radius=radius,\n",
    "        start_angle=cumsum('angle', include_zero=True), \n",
    "        end_angle=cumsum('angle'),\n",
    "        line_color=\"white\", \n",
    "        source=data, \n",
    "        fill_color='color', \n",
    "        legend='phase'\n",
    "              )\n",
    "    plot.legend.label_text_font_size = \"8pt\"\n",
    "    plot.legend.location = 'center_right'\n",
    "    plot.axis.axis_label=None\n",
    "    plot.axis.visible=False\n",
    "    plot.grid.grid_line_color = None\n",
    "    plot.outline_line_color = \"white\"\n",
    "    \n",
    "    return plot"
   ]
  },
  {
   "cell_type": "code",
   "execution_count": 4,
   "metadata": {
    "execution": {
     "iopub.execute_input": "2021-05-30T22:12:54.142543Z",
     "iopub.status.busy": "2021-05-30T22:12:54.142038Z",
     "iopub.status.idle": "2021-05-30T22:12:54.143851Z",
     "shell.execute_reply": "2021-05-30T22:12:54.144236Z"
    },
    "papermill": {
     "duration": 0.024495,
     "end_time": "2021-05-30T22:12:54.144366",
     "exception": false,
     "start_time": "2021-05-30T22:12:54.119871",
     "status": "completed"
    },
    "tags": [
     "hide-input"
    ]
   },
   "outputs": [],
   "source": [
    "from IPython.display import display, HTML, Markdown, Image\n",
    "def pretty_print(df):\n",
    "    raw_html = df.to_html().replace(\"\\\\n\",\"<br>\").replace('<tr>','<tr style=\"text-align: left;\">')\n",
    "    return display(HTML(raw_html))"
   ]
  },
  {
   "cell_type": "markdown",
   "metadata": {
    "papermill": {
     "duration": 0.018354,
     "end_time": "2021-05-30T22:12:54.181236",
     "exception": false,
     "start_time": "2021-05-30T22:12:54.162882",
     "status": "completed"
    },
    "tags": []
   },
   "source": [
    "## Training job summary"
   ]
  },
  {
   "cell_type": "code",
   "execution_count": 5,
   "metadata": {
    "execution": {
     "iopub.execute_input": "2021-05-30T22:12:54.228572Z",
     "iopub.status.busy": "2021-05-30T22:12:54.228032Z",
     "iopub.status.idle": "2021-05-30T22:12:54.230412Z",
     "shell.execute_reply": "2021-05-30T22:12:54.229978Z"
    },
    "papermill": {
     "duration": 0.024957,
     "end_time": "2021-05-30T22:12:54.230539",
     "exception": false,
     "start_time": "2021-05-30T22:12:54.205582",
     "status": "completed"
    },
    "tags": [
     "hide-input"
    ]
   },
   "outputs": [],
   "source": [
    "def load_report(rule_name):\n",
    "    try:\n",
    "        report = json.load(open('/opt/ml/processing/output/rule/profiler-output/profiler-reports/'+rule_name+'.json'))\n",
    "        return report\n",
    "    except FileNotFoundError:\n",
    "        print (rule_name + ' not triggered')"
   ]
  },
  {
   "cell_type": "code",
   "execution_count": 6,
   "metadata": {
    "execution": {
     "iopub.execute_input": "2021-05-30T22:12:54.277562Z",
     "iopub.status.busy": "2021-05-30T22:12:54.276294Z",
     "iopub.status.idle": "2021-05-30T22:12:54.280882Z",
     "shell.execute_reply": "2021-05-30T22:12:54.281289Z"
    },
    "papermill": {
     "duration": 0.032216,
     "end_time": "2021-05-30T22:12:54.281432",
     "exception": false,
     "start_time": "2021-05-30T22:12:54.249216",
     "status": "completed"
    },
    "tags": [
     "hide-input",
     "hide-output"
    ]
   },
   "outputs": [
    {
     "output_type": "stream",
     "name": "stdout",
     "text": [
      "MaxInitializationTime not triggered\n"
     ]
    }
   ],
   "source": [
    "\n",
    "job_statistics = {}\n",
    "report = load_report('MaxInitializationTime')\n",
    "if report:\n",
    "    if \"first\" in report['Details'][\"step_num\"] and \"last\" in report['Details'][\"step_num\"]:\n",
    "        first_step = report['Details'][\"step_num\"][\"first\"]\n",
    "        last_step = report['Details'][\"step_num\"][\"last\"]\n",
    "    tmp = us_since_epoch_to_human_readable_time(report['Details']['job_start'] * 1000000)\n",
    "    date = datetime.datetime.strptime(tmp, '%Y-%m-%dT%H:%M:%S:%f')\n",
    "    day = date.date().strftime(\"%m/%d/%Y\")\n",
    "    hour = date.time().strftime(\"%H:%M:%S\")\n",
    "    job_statistics[\"Start time\"] = f\"{hour} {day}\"\n",
    "    tmp = us_since_epoch_to_human_readable_time(report['Details']['job_end'] * 1000000)\n",
    "    date = datetime.datetime.strptime(tmp, '%Y-%m-%dT%H:%M:%S:%f')\n",
    "    day = date.date().strftime(\"%m/%d/%Y\")\n",
    "    hour = date.time().strftime(\"%H:%M:%S\")\n",
    "    job_statistics[\"End time\"] = f\"{hour} {day}\"\n",
    "    job_duration_in_seconds = int(report['Details']['job_end'] - report['Details']['job_start']) \n",
    "    job_statistics[\"Job duration\"] = f\"{job_duration_in_seconds} seconds\"\n",
    "    if \"first\" in report['Details'][\"step_num\"] and \"last\" in report['Details'][\"step_num\"]:\n",
    "        tmp = us_since_epoch_to_human_readable_time(first_step)\n",
    "        date = datetime.datetime.strptime(tmp, '%Y-%m-%dT%H:%M:%S:%f')\n",
    "        day = date.date().strftime(\"%m/%d/%Y\")\n",
    "        hour = date.time().strftime(\"%H:%M:%S\")\n",
    "        job_statistics[\"Training loop start\"] = f\"{hour} {day}\"\n",
    "        tmp = us_since_epoch_to_human_readable_time(last_step)\n",
    "        date = datetime.datetime.strptime(tmp, '%Y-%m-%dT%H:%M:%S:%f')\n",
    "        day = date.date().strftime(\"%m/%d/%Y\")\n",
    "        hour = date.time().strftime(\"%H:%M:%S\")\n",
    "        job_statistics[\"Training loop end\"] = f\"{hour} {day}\"\n",
    "        training_loop_duration_in_seconds = int((last_step - first_step) / 1000000)\n",
    "        job_statistics[\"Training loop duration\"] = f\"{training_loop_duration_in_seconds} seconds\"\n",
    "        initialization_in_seconds = int(first_step/1000000 - report['Details']['job_start'])\n",
    "        job_statistics[\"Initialization time\"] = f\"{initialization_in_seconds} seconds\"\n",
    "        finalization_in_seconds = int(np.abs(report['Details']['job_end'] - last_step/1000000))\n",
    "        job_statistics[\"Finalization time\"] = f\"{finalization_in_seconds} seconds\"\n",
    "        initialization_perc = int(initialization_in_seconds / job_duration_in_seconds * 100)\n",
    "        job_statistics[\"Initialization\"] = f\"{initialization_perc} %\"\n",
    "        training_loop_perc = int(training_loop_duration_in_seconds / job_duration_in_seconds * 100)\n",
    "        job_statistics[\"Training loop\"] = f\"{training_loop_perc} %\"\n",
    "        finalization_perc = int(finalization_in_seconds / job_duration_in_seconds * 100)\n",
    "        job_statistics[\"Finalization\"] = f\"{finalization_perc} %\""
   ]
  },
  {
   "cell_type": "code",
   "execution_count": 7,
   "metadata": {
    "execution": {
     "iopub.execute_input": "2021-05-30T22:12:54.329421Z",
     "iopub.status.busy": "2021-05-30T22:12:54.326532Z",
     "iopub.status.idle": "2021-05-30T22:12:54.342315Z",
     "shell.execute_reply": "2021-05-30T22:12:54.342698Z"
    },
    "papermill": {
     "duration": 0.042615,
     "end_time": "2021-05-30T22:12:54.342837",
     "exception": false,
     "start_time": "2021-05-30T22:12:54.300222",
     "status": "completed"
    },
    "tags": [
     "hide-input"
    ]
   },
   "outputs": [],
   "source": [
    "if report:\n",
    "    text =  \"\"\"The following table gives a summary about the training job. The table includes information about when the training job started and ended, how much time initialization, training loop and finalization took.\"\"\"\n",
    "    if len(job_statistics) > 0:\n",
    "        df = pd.DataFrame.from_dict(job_statistics, orient='index')\n",
    "        start_time = us_since_epoch_to_human_readable_time(report['Details']['job_start'] * 1000000)\n",
    "        date = datetime.datetime.strptime(start_time, '%Y-%m-%dT%H:%M:%S:%f')\n",
    "        day = date.date().strftime(\"%m/%d/%Y\")\n",
    "        hour = date.time().strftime(\"%H:%M:%S\")\n",
    "        duration = job_duration_in_seconds\n",
    "        text = f\"\"\"{text} \\n Your training job started on {day} at {hour} and ran for {duration} seconds.\"\"\"\n",
    "\n",
    "        #pretty_print(df)\n",
    "        if \"first\" in report['Details'][\"step_num\"] and \"last\" in report['Details'][\"step_num\"]:\n",
    "            if finalization_perc  < 0:\n",
    "                job_statistics[\"Finalization%\"]  = 0\n",
    "            if training_loop_perc < 0:\n",
    "                job_statistics[\"Training loop\"] = 0\n",
    "            if initialization_perc < 0:\n",
    "                job_statistics[\"Initialization\"] = 0\n",
    "        else:\n",
    "            text = f\"\"\"{text} \\n Your training job started on {day} at {hour} and ran for {duration} seconds.\"\"\"\n",
    "            \n",
    "    if len(job_statistics) > 0:\n",
    "        df2 = df.reset_index()\n",
    "        df2.columns = [\"0\", \"1\"]\n",
    "        source = ColumnDataSource(data=df2)\n",
    "        columns = [TableColumn(field='0', title=\"\"),\n",
    "                   TableColumn(field='1', title=\"Job Statistics\"),]\n",
    "        table = DataTable(source=source, columns=columns, width=450, height=380)\n",
    "\n",
    "    plot = None\n",
    "\n",
    "    if \"Initialization\" in job_statistics:\n",
    "        piechart_data = {}\n",
    "        piechart_data[\"Initialization\"] = initialization_perc  \n",
    "        piechart_data[\"Training loop\"]  = training_loop_perc\n",
    "        piechart_data[\"Finalization\"]  = finalization_perc \n",
    "\n",
    "        plot = create_piechart(piechart_data, \n",
    "                               height=350,\n",
    "                               width=500,\n",
    "                               x1=0.15,\n",
    "                               x2=0.15,\n",
    "                               radius=0.15, \n",
    "                               toolbar_location=None)\n",
    "\n",
    "    if plot != None:\n",
    "        paragraph = Paragraph(text=f\"\"\"{text}\"\"\", width = 800)\n",
    "        show(column(paragraph, row(table, plot)))\n",
    "    else:\n",
    "        paragraph = Paragraph(text=f\"\"\"{text}. No step information was profiled from your training job. The time spent on initialization and finalization cannot be computed.\"\"\" , width = 800)\n",
    "        show(column(paragraph, row(table)))"
   ]
  },
  {
   "cell_type": "markdown",
   "metadata": {
    "papermill": {
     "duration": 0.020045,
     "end_time": "2021-05-30T22:12:54.382537",
     "exception": false,
     "start_time": "2021-05-30T22:12:54.362492",
     "status": "completed"
    },
    "tags": []
   },
   "source": [
    "## System usage statistics"
   ]
  },
  {
   "cell_type": "code",
   "execution_count": 8,
   "metadata": {
    "execution": {
     "iopub.execute_input": "2021-05-30T22:12:54.429424Z",
     "iopub.status.busy": "2021-05-30T22:12:54.428892Z",
     "iopub.status.idle": "2021-05-30T22:12:54.431009Z",
     "shell.execute_reply": "2021-05-30T22:12:54.431387Z"
    },
    "papermill": {
     "duration": 0.029638,
     "end_time": "2021-05-30T22:12:54.431518",
     "exception": false,
     "start_time": "2021-05-30T22:12:54.401880",
     "status": "completed"
    },
    "tags": [
     "hide-input"
    ]
   },
   "outputs": [
    {
     "output_type": "stream",
     "name": "stdout",
     "text": [
      "OverallSystemUsage not triggered\n"
     ]
    }
   ],
   "source": [
    "report = load_report('OverallSystemUsage')"
   ]
  },
  {
   "cell_type": "code",
   "execution_count": 9,
   "metadata": {
    "execution": {
     "iopub.execute_input": "2021-05-30T22:12:54.478049Z",
     "iopub.status.busy": "2021-05-30T22:12:54.477533Z",
     "iopub.status.idle": "2021-05-30T22:12:54.479364Z",
     "shell.execute_reply": "2021-05-30T22:12:54.479752Z"
    },
    "papermill": {
     "duration": 0.028922,
     "end_time": "2021-05-30T22:12:54.479886",
     "exception": false,
     "start_time": "2021-05-30T22:12:54.450964",
     "status": "completed"
    },
    "tags": [
     "hide-input"
    ]
   },
   "outputs": [],
   "source": [
    "text1 = ''\n",
    "if report:\n",
    "    if \"GPU\" in report[\"Details\"]:\n",
    "        for node_id in report[\"Details\"][\"GPU\"]:\n",
    "            gpu_p95 = report[\"Details\"][\"GPU\"][node_id][\"p95\"]\n",
    "            gpu_p50 = report[\"Details\"][\"GPU\"][node_id][\"p50\"]\n",
    "            cpu_p95 = report[\"Details\"][\"CPU\"][node_id][\"p95\"]\n",
    "            cpu_p50 = report[\"Details\"][\"CPU\"][node_id][\"p50\"]\n",
    "            \n",
    "            if gpu_p95 < 70 and cpu_p95 < 70:\n",
    "                text1 = f\"\"\"{text1}The 95th percentile of the total GPU utilization on node {node_id} is only {int(gpu_p95)}%. \n",
    "                The 95th percentile of the total CPU utilization is only {int(cpu_p95)}%. Node {node_id} is underutilized. \n",
    "                You may want to consider switching to a smaller instance type.\"\"\"\n",
    "            elif gpu_p95 < 70 and cpu_p95 > 70:\n",
    "                text1 = f\"\"\"{text1}The 95th percentile of the total GPU utilization on node {node_id} is only {int(gpu_p95)}%. \n",
    "                However, the 95th percentile of the total CPU utilization is {int(cpu_p95)}%. GPUs on node {node_id} are underutilized \n",
    "                likely because of CPU bottlenecks\"\"\"\n",
    "            elif gpu_p50 > 70:\n",
    "                text1 = f\"\"\"{text1}The median total GPU utilization on node {node_id} is {int(gpu_p50)}%. \n",
    "                GPUs on node {node_id} are well utilized\"\"\"\n",
    "            else:\n",
    "                text1 = f\"\"\"{text1}The median total GPU utilization on node {node_id} is {int(gpu_p50)}%. \n",
    "                The median total CPU utilization is {int(cpu_p50)}%.\"\"\"\n",
    "    else:\n",
    "        for node_id in report[\"Details\"][\"CPU\"]:\n",
    "            cpu_p95 = report[\"Details\"][\"CPU\"][node_id][\"p95\"]\n",
    "            if cpu_p95 > 70:\n",
    "                text1 = f\"\"\"{text1}The 95th percentile of the total CPU utilization on node {node_id} is {int**(cpu_p95)}%. GPUs on node {node_id} are well utilized\"\"\"\n",
    "    text1 = Paragraph(text=f\"\"\"{text1}\"\"\", width=1100)\n",
    "    text2 = Paragraph(text=f\"\"\"The following table shows statistics of resource utilization per worker (node), \n",
    "    such as the total CPU and GPU utilization, and the memory utilization on CPU and GPU. \n",
    "    The table also includes the total I/O wait time and the total amount of data sent or received in bytes.\n",
    "    The table shows min and max values as well as p99, p90 and p50 percentiles.\"\"\", width=900)\n"
   ]
  },
  {
   "cell_type": "code",
   "execution_count": 10,
   "metadata": {
    "execution": {
     "iopub.execute_input": "2021-05-30T22:12:54.543923Z",
     "iopub.status.busy": "2021-05-30T22:12:54.539069Z",
     "iopub.status.idle": "2021-05-30T22:12:54.547211Z",
     "shell.execute_reply": "2021-05-30T22:12:54.547591Z"
    },
    "papermill": {
     "duration": 0.048042,
     "end_time": "2021-05-30T22:12:54.547727",
     "exception": false,
     "start_time": "2021-05-30T22:12:54.499685",
     "status": "completed"
    },
    "tags": [
     "hide-input"
    ]
   },
   "outputs": [],
   "source": [
    "pd.set_option('display.float_format', lambda x: '%.2f' % x)\n",
    "rows = [] \n",
    "units = {\"CPU\": \"percentage\", \"CPU memory\": \"percentage\", \"GPU\": \"percentage\", \"Network\": \"bytes\", \"GPU memory\": \"percentage\", \"I/O\": \"percentage\"}\n",
    "if report:\n",
    "    for metric in report['Details']:\n",
    "        for node_id in report['Details'][metric]:\n",
    "            values = report['Details'][metric][node_id]\n",
    "            rows.append([node_id, metric, units[metric], values['max'], values['p99'], values['p95'], values['p50'], values['min']])\n",
    "\n",
    "    df = pd.DataFrame(rows) \n",
    "    df.columns = ['Node', 'metric', 'unit', 'max', 'p99', 'p95', 'p50', 'min']\n",
    "    df2 = df.reset_index()\n",
    "    source = ColumnDataSource(data=df2)\n",
    "    columns = [TableColumn(field='Node', title=\"node\"),\n",
    "               TableColumn(field='metric', title=\"metric\"),\n",
    "               TableColumn(field='unit', title=\"unit\"),\n",
    "               TableColumn(field='max', title=\"max\"),\n",
    "               TableColumn(field='p99', title=\"p99\"),\n",
    "               TableColumn(field='p95', title=\"p95\"),\n",
    "               TableColumn(field='p50', title=\"p50\"),\n",
    "               TableColumn(field='min', title=\"min\"),]\n",
    "    table = DataTable(source=source, columns=columns, width=800, height=df2.shape[0]*30)\n",
    "\n",
    "    show(column( text1, text2, row(table)))"
   ]
  },
  {
   "cell_type": "code",
   "execution_count": 11,
   "metadata": {
    "execution": {
     "iopub.execute_input": "2021-05-30T22:12:54.602237Z",
     "iopub.status.busy": "2021-05-30T22:12:54.601650Z",
     "iopub.status.idle": "2021-05-30T22:12:54.607265Z",
     "shell.execute_reply": "2021-05-30T22:12:54.606852Z"
    },
    "papermill": {
     "duration": 0.039335,
     "end_time": "2021-05-30T22:12:54.607376",
     "exception": false,
     "start_time": "2021-05-30T22:12:54.568041",
     "status": "completed"
    },
    "tags": [
     "hide-input"
    ]
   },
   "outputs": [
    {
     "output_type": "stream",
     "name": "stdout",
     "text": [
      "OverallFrameworkMetrics not triggered\n"
     ]
    }
   ],
   "source": [
    "report = load_report('OverallFrameworkMetrics')\n",
    "if report:\n",
    "    if 'Details' in report:\n",
    "\n",
    "        display(Markdown(f\"\"\"## Framework metrics summary\"\"\"))\n",
    "        plots = []\n",
    "        text = ''\n",
    "        if 'phase' in report['Details']:\n",
    "            text = f\"\"\"The following two pie charts show the time spent on the TRAIN phase, the EVAL phase, \n",
    "            and others. The 'others' includes the time spent between steps (after one step has finished and before\n",
    "            the next step has started). Ideally, most of the training time should be spent on the \n",
    "            TRAIN and EVAL phases. If TRAIN/EVAL were not specified in the training script, steps will be recorded as \n",
    "            GLOBAL.\"\"\"\n",
    "\n",
    "            if 'others' in report['Details']['phase']:\n",
    "                others = float(report['Details']['phase']['others'])\n",
    "\n",
    "                if others > 25:\n",
    "                    text = f\"\"\"{text} Your training job spent quite a significant amount of time ({round(others,2)}%) in phase \"others\".\n",
    "                    You should check what is happening in between the steps.\"\"\"\n",
    "\n",
    "                plot = create_piechart(report['Details']['phase'], \n",
    "                                    height=350,\n",
    "                                    width=600,\n",
    "                                    x1=0.2,\n",
    "                                    x2=0.6,\n",
    "                                    radius=0.3, \n",
    "                                    title=\"The ratio between the time spent on the TRAIN/EVAL phase and others\")\n",
    "                plots.append(plot)\n",
    "\n",
    "        if 'forward_backward' in report['Details']:\n",
    "\n",
    "            event = max(report['Details']['forward_backward'], key=report['Details']['forward_backward'].get)\n",
    "            perc = report['Details']['forward_backward'][event]\n",
    "\n",
    "            text = f\"\"\"{text} The pie chart on the right shows a more detailed breakdown. \n",
    "            It shows that {int(perc)}% of the time was spent in event \"{event}\".\"\"\"\n",
    "\n",
    "            if perc > 70:\n",
    "                text = f\"\"\"There is quite a significant difference between the time spent on forward and backward\n",
    "                pass.\"\"\"\n",
    "            else:\n",
    "                text = f\"\"\"{text} It shows that {int(perc)}% of the training time\n",
    "                was spent on \"{event}\".\"\"\"\n",
    "\n",
    "            plot = create_piechart(report['Details']['forward_backward'], \n",
    "                                height=350,\n",
    "                                width=600,\n",
    "                                x1=0.2,\n",
    "                                x2=0.6,\n",
    "                                radius=0.3, \n",
    "                                title=\"The ratio between forward and backward pass\") \n",
    "            plots.append(plot)\n",
    "\n",
    "        if len(plots) > 0:\n",
    "            paragraph = Paragraph(text=text, width=1100)\n",
    "            show(column(paragraph, row(plots)))\n",
    "\n",
    "        plots = []\n",
    "        text=''\n",
    "        if 'ratio' in report['Details'] and len(report['Details']['ratio']) > 0:\n",
    "\n",
    "            key = list(report['Details']['ratio'].keys())[0]\n",
    "            ratio = report['Details']['ratio'][key]\n",
    "\n",
    "            text = f\"\"\"The following piechart shows a breakdown of the CPU/GPU operators. \n",
    "                It shows that {int(ratio)}% of training time was spent on executing the \"{key}\" operator.\"\"\"\n",
    "\n",
    "            plot = create_piechart(report['Details']['ratio'], \n",
    "                                    height=350,\n",
    "                                    width=600,\n",
    "                                    x1=0.2,\n",
    "                                    x2=0.6,\n",
    "                                    radius=0.3, \n",
    "                                    title=\"The ratio between the time spent on CPU/GPU operators\")\n",
    "            plots.append(plot)\n",
    "\n",
    "\n",
    "        if 'general' in report['Details']:\n",
    "            event = max(report['Details']['general'], key=report['Details']['general'].get)\n",
    "            perc = report['Details']['general'][event]\n",
    "\n",
    "            plot = create_piechart(report['Details']['general'], \n",
    "                                height=350,\n",
    "                                width=600,\n",
    "                                x1=0.2,\n",
    "                                x2=0.6,\n",
    "                                radius=0.3, \n",
    "                                title=\"General framework operations\")\n",
    "            plots.append(plot)\n",
    "\n",
    "        if len(plots) > 0:\n",
    "            paragraph = Paragraph(text=text, width=1100)\n",
    "            show(column(paragraph, row(plots)))\n",
    "\n",
    "        plots = []\n",
    "        text = ''\n",
    "        if 'horovod' in report['Details']:\n",
    "            display(Markdown(f\"\"\"#### Overview: Horovod metrics\"\"\"))\n",
    "            event = max(report['Details']['horovod'], key=report['Details']['horovod'].get)\n",
    "            perc = report['Details']['horovod'][event]\n",
    "            text = f\"\"\"{text} The following pie chart shows a detailed breakdown of the Horovod metrics profiled\n",
    "            from your training job. The most expensive function was \"{event}\" with {int(perc)}%.\"\"\"\n",
    "\n",
    "            plot = create_piechart(report['Details']['horovod'], \n",
    "                                height=350,\n",
    "                                width=600,\n",
    "                                x1=0.2,\n",
    "                                x2=0.6,\n",
    "                                radius=0.3, \n",
    "                                title=\"Horovod metrics \")\n",
    "\n",
    "            paragraph = Paragraph(text=text, width=1100)\n",
    "            show(column(paragraph, row(plot)))\n"
   ]
  },
  {
   "cell_type": "code",
   "execution_count": 12,
   "metadata": {
    "execution": {
     "iopub.execute_input": "2021-05-30T22:12:54.657520Z",
     "iopub.status.busy": "2021-05-30T22:12:54.656990Z",
     "iopub.status.idle": "2021-05-30T22:12:54.659126Z",
     "shell.execute_reply": "2021-05-30T22:12:54.658649Z"
    },
    "papermill": {
     "duration": 0.030752,
     "end_time": "2021-05-30T22:12:54.659235",
     "exception": false,
     "start_time": "2021-05-30T22:12:54.628483",
     "status": "completed"
    },
    "tags": [
     "hide-input"
    ]
   },
   "outputs": [],
   "source": [
    "pd.set_option('display.float_format', lambda x: '%.2f' % x)\n",
    "rows = [] \n",
    "values = []\n",
    "if report:\n",
    "    if 'CPU_total' in report['Details']:\n",
    "        display(Markdown(f\"\"\"#### Overview: CPU operators\"\"\"))\n",
    "        event = max(report['Details']['CPU'], key=report['Details']['CPU'].get)\n",
    "        perc = report['Details']['CPU'][event]\n",
    "\n",
    "        for function in report['Details']['CPU']:\n",
    "            percentage = round(report['Details']['CPU'][function],2)\n",
    "            time = report['Details']['CPU_total'][function]               \n",
    "            rows.append([percentage, time, function])\n",
    "\n",
    "        df = pd.DataFrame(rows) \n",
    "        df.columns = ['percentage', 'time', 'operator']\n",
    "\n",
    "        df = df.sort_values(by=['percentage'], ascending=False)\n",
    "        source = ColumnDataSource(data=df)\n",
    "        columns = [TableColumn(field='percentage', title=\"Percentage\"),\n",
    "                   TableColumn(field='time', title=\"Cumulative time in microseconds\"),\n",
    "                  TableColumn(field='operator', title=\"CPU operator\"),]\n",
    "\n",
    "        table = DataTable(source=source, columns=columns, width=550, height=350)\n",
    "\n",
    "        text = Paragraph(text=f\"\"\"The following table shows a list of operators that ran on the CPUs.\n",
    "        The most expensive operator on the CPUs was \"{event}\" with {int(perc)} %.\"\"\")\n",
    "\n",
    "        plot = create_piechart(report['Details']['CPU'],\n",
    "                                height=350,\n",
    "                                width=600,\n",
    "                                x1=0.2,\n",
    "                                x2=0.6,\n",
    "                                radius=0.3, \n",
    "                               )\n",
    "\n",
    "        show(column(text, row(table, plot)))\n"
   ]
  },
  {
   "cell_type": "code",
   "execution_count": 13,
   "metadata": {
    "execution": {
     "iopub.execute_input": "2021-05-30T22:12:54.709792Z",
     "iopub.status.busy": "2021-05-30T22:12:54.709278Z",
     "iopub.status.idle": "2021-05-30T22:12:54.711063Z",
     "shell.execute_reply": "2021-05-30T22:12:54.711439Z"
    },
    "papermill": {
     "duration": 0.031331,
     "end_time": "2021-05-30T22:12:54.711572",
     "exception": false,
     "start_time": "2021-05-30T22:12:54.680241",
     "status": "completed"
    },
    "tags": [
     "hide-input"
    ]
   },
   "outputs": [],
   "source": [
    "pd.set_option('display.float_format', lambda x: '%.2f' % x)\n",
    "rows = [] \n",
    "values = []\n",
    "if report:\n",
    "    if 'GPU_total' in report['Details']:\n",
    "        display(Markdown(f\"\"\"#### Overview: GPU operators\"\"\"))\n",
    "        event = max(report['Details']['GPU'], key=report['Details']['GPU'].get)\n",
    "        perc = report['Details']['GPU'][event]\n",
    "\n",
    "        for function in report['Details']['GPU']:\n",
    "            percentage = round(report['Details']['GPU'][function],2)\n",
    "            time = report['Details']['GPU_total'][function]               \n",
    "            rows.append([percentage, time, function])\n",
    "\n",
    "        df = pd.DataFrame(rows) \n",
    "        df.columns = ['percentage', 'time', 'operator']\n",
    "\n",
    "        df = df.sort_values(by=['percentage'], ascending=False)\n",
    "        source = ColumnDataSource(data=df)\n",
    "        columns = [TableColumn(field='percentage', title=\"Percentage\"),\n",
    "                   TableColumn(field='time', title=\"Cumulative time in microseconds\"),\n",
    "                  TableColumn(field='operator', title=\"GPU operator\"),]\n",
    "        table = DataTable(source=source, columns=columns, width=450, height=350)\n",
    "\n",
    "        text = Paragraph(text=f\"\"\"The following table shows a list of operators that your training job ran on GPU.\n",
    "        The most expensive operator on GPU was \"{event}\" with {int(perc)} %\"\"\")\n",
    "\n",
    "        plot = create_piechart(report['Details']['GPU'],\n",
    "                                height=350,\n",
    "                                width=600,\n",
    "                                x1=0.2,\n",
    "                                x2=0.6,\n",
    "                                radius=0.3, \n",
    "                               )\n",
    "\n",
    "        show(column(text, row(table, plot)))"
   ]
  },
  {
   "cell_type": "markdown",
   "metadata": {
    "papermill": {
     "duration": 0.021013,
     "end_time": "2021-05-30T22:12:54.753769",
     "exception": false,
     "start_time": "2021-05-30T22:12:54.732756",
     "status": "completed"
    },
    "tags": []
   },
   "source": [
    "## Rules summary"
   ]
  },
  {
   "cell_type": "code",
   "execution_count": 14,
   "metadata": {
    "execution": {
     "iopub.execute_input": "2021-05-30T22:12:54.800953Z",
     "iopub.status.busy": "2021-05-30T22:12:54.800452Z",
     "iopub.status.idle": "2021-05-30T22:12:54.802240Z",
     "shell.execute_reply": "2021-05-30T22:12:54.802616Z"
    },
    "papermill": {
     "duration": 0.027951,
     "end_time": "2021-05-30T22:12:54.802749",
     "exception": false,
     "start_time": "2021-05-30T22:12:54.774798",
     "status": "completed"
    },
    "tags": [
     "hide-input"
    ]
   },
   "outputs": [],
   "source": [
    "description = {}\n",
    "description['CPUBottleneck'] = 'Checks if the CPU utilization is high and the GPU utilization is low. \\\n",
    "It might indicate CPU bottlenecks, where the GPUs are waiting for data to arrive \\\n",
    "from the CPUs. The rule evaluates the CPU and GPU utilization rates, and triggers the issue \\\n",
    "if the time spent on the CPU bottlenecks exceeds a threshold percent of the total training time. The default threshold is 50 percent.'\n",
    "description['IOBottleneck'] =  'Checks if the data I/O wait time is high and the GPU utilization is low. \\\n",
    "It might indicate IO bottlenecks where GPU is waiting for data to arrive from storage. \\\n",
    "The rule evaluates the I/O and GPU utilization rates and triggers the issue \\\n",
    "if the time spent on the IO bottlenecks exceeds a threshold percent of the total training time. The default threshold is 50 percent.'\n",
    "description['Dataloader'] = 'Checks how many data loaders are running in parallel and whether the total number is equal the number \\\n",
    "of available CPU cores. The rule triggers if number is much smaller or larger than the number of available cores. \\\n",
    "If too small, it might lead to low GPU utilization. If too large, it might impact other compute intensive operations on CPU.'\n",
    "description['GPUMemoryIncrease'] = 'Measures the average GPU memory footprint and triggers if there is a large increase.'\n",
    "description['BatchSize'] = 'Checks if GPUs are underutilized because the batch size is too small. \\\n",
    "To detect this problem, the rule analyzes the average GPU memory footprint, \\\n",
    "the CPU and the GPU utilization. '\n",
    "description['LowGPUUtilization'] = 'Checks if the GPU utilization is low or fluctuating. \\\n",
    "This can happen due to bottlenecks, blocking calls for synchronizations, \\\n",
    "or a small batch size.'\n",
    "description['MaxInitializationTime'] = 'Checks if the time spent on initialization exceeds a threshold percent of the total training time. \\\n",
    "The rule waits until the first step of training loop starts. The initialization can take longer \\\n",
    "if downloading the entire dataset from Amazon S3 in File mode. The default threshold is 20 minutes.'\n",
    "description['LoadBalancing'] = 'Detects workload balancing issues across GPUs. \\\n",
    "Workload imbalance can occur in training jobs with data parallelism. \\\n",
    "The gradients are accumulated on a primary GPU, and this GPU might be overused \\\n",
    "with regard to other GPUs, resulting in reducing the efficiency of data parallelization.'\n",
    "description['StepOutlier'] = 'Detects outliers in step duration. The step duration for forward and backward pass should be \\\n",
    "roughly the same throughout the training. If there are significant outliers, \\\n",
    "it may indicate a system stall or bottleneck issues.'"
   ]
  },
  {
   "cell_type": "code",
   "execution_count": 15,
   "metadata": {
    "execution": {
     "iopub.execute_input": "2021-05-30T22:12:54.849399Z",
     "iopub.status.busy": "2021-05-30T22:12:54.848864Z",
     "iopub.status.idle": "2021-05-30T22:12:54.850988Z",
     "shell.execute_reply": "2021-05-30T22:12:54.850513Z"
    },
    "papermill": {
     "duration": 0.027391,
     "end_time": "2021-05-30T22:12:54.851096",
     "exception": false,
     "start_time": "2021-05-30T22:12:54.823705",
     "status": "completed"
    },
    "tags": [
     "hide-input"
    ]
   },
   "outputs": [],
   "source": [
    "recommendation = {}\n",
    "recommendation['CPUBottleneck'] = 'Consider increasing the number of data loaders \\\n",
    "or applying data pre-fetching.'\n",
    "recommendation['IOBottleneck'] = 'Pre-fetch data or choose different file formats, such as binary formats that \\\n",
    "improve I/O performance.'\n",
    "recommendation['Dataloader'] = 'Change the number of data loader processes.'\n",
    "recommendation['GPUMemoryIncrease'] = 'Choose a larger instance type with more memory if footprint is close to maximum available memory.'\n",
    "recommendation['BatchSize'] = 'The batch size is too small, and GPUs are underutilized. Consider running on a smaller instance type or increasing the batch size.'\n",
    "recommendation['LowGPUUtilization'] = 'Check if there are bottlenecks, minimize blocking calls, \\\n",
    "change distributed training strategy, or increase the batch size.'\n",
    "recommendation['MaxInitializationTime'] = 'Initialization takes too long. \\\n",
    "If using File mode, consider switching to Pipe mode in case you are using TensorFlow framework.'\n",
    "recommendation['LoadBalancing'] = 'Choose a different distributed training strategy or \\\n",
    "a different distributed training framework.'\n",
    "recommendation['StepOutlier'] = 'Check if there are any bottlenecks (CPU, I/O) correlated to the step outliers.'"
   ]
  },
  {
   "cell_type": "code",
   "execution_count": 17,
   "metadata": {
    "execution": {
     "iopub.execute_input": "2021-05-30T22:12:54.899586Z",
     "iopub.status.busy": "2021-05-30T22:12:54.899099Z",
     "iopub.status.idle": "2021-05-30T22:12:54.912884Z",
     "shell.execute_reply": "2021-05-30T22:12:54.912399Z"
    },
    "papermill": {
     "duration": 0.040467,
     "end_time": "2021-05-30T22:12:54.912996",
     "exception": false,
     "start_time": "2021-05-30T22:12:54.872529",
     "status": "completed"
    },
    "tags": [
     "hide-input"
    ]
   },
   "outputs": [
    {
     "output_type": "display_data",
     "data": {
      "text/plain": "<IPython.core.display.Markdown object>",
      "text/markdown": "The following table shows a profiling summary of the Debugger built-in rules. \nThe table is sorted by the rules that triggered the most frequently. During your training job, the GPUMemoryIncrease rule\nwas the most frequently triggered. It processed 34215 datapoints and was triggered 9212 times."
     },
     "metadata": {}
    },
    {
     "output_type": "display_data",
     "data": {
      "text/plain": "<IPython.core.display.HTML object>",
      "text/html": "<table border=\"1\" class=\"dataframe\">\n  <thead>\n    <tr style=\"text-align: left;\">\n      <th></th>\n      <th>Description</th>\n      <th>Recommendation</th>\n      <th>Number of times rule triggered</th>\n      <th>Number of datapoints</th>\n      <th>Rule parameters</th>\n    </tr>\n  </thead>\n  <tbody>\n    <tr style=\"text-align: left;\">\n      <th>GPUMemoryIncrease</th>\n      <td>Measures the average GPU memory footprint and triggers if there is a large increase.</td>\n      <td>Choose a larger instance type with more memory if footprint is close to maximum available memory.</td>\n      <td>9212</td>\n      <td>34215</td>\n      <td>increase:5<br>patience:1000<br>window:10</td>\n    </tr>\n    <tr style=\"text-align: left;\">\n      <th>LowGPUUtilization</th>\n      <td>Checks if the GPU utilization is low or fluctuating. This can happen due to bottlenecks, blocking calls for synchronizations, or a small batch size.</td>\n      <td>Check if there are bottlenecks, minimize blocking calls, change distributed training strategy, or increase the batch size.</td>\n      <td>360</td>\n      <td>34215</td>\n      <td>threshold_p95:70<br>threshold_p5:10<br>window:500<br>patience:1000</td>\n    </tr>\n    <tr style=\"text-align: left;\">\n      <th>StepOutlier</th>\n      <td>Detects outliers in step duration. The step duration for forward and backward pass should be roughly the same throughout the training. If there are significant outliers, it may indicate a system stall or bottleneck issues.</td>\n      <td>Check if there are any bottlenecks (CPU, I/O) correlated to the step outliers.</td>\n      <td>0</td>\n      <td>0</td>\n      <td>threshold:3<br>mode:None<br>n_outliers:10<br>stddev:3</td>\n    </tr>\n    <tr style=\"text-align: left;\">\n      <th>MaxInitializationTime</th>\n      <td>Checks if the time spent on initialization exceeds a threshold percent of the total training time. The rule waits until the first step of training loop starts. The initialization can take longer if downloading the entire dataset from Amazon S3 in File mode. The default threshold is 20 minutes.</td>\n      <td>Initialization takes too long. If using File mode, consider switching to Pipe mode in case you are using TensorFlow framework.</td>\n      <td>0</td>\n      <td>0</td>\n      <td>threshold:20</td>\n    </tr>\n    <tr style=\"text-align: left;\">\n      <th>CPUBottleneck</th>\n      <td>Checks if the CPU utilization is high and the GPU utilization is low. It might indicate CPU bottlenecks, where the GPUs are waiting for data to arrive from the CPUs. The rule evaluates the CPU and GPU utilization rates, and triggers the issue if the time spent on the CPU bottlenecks exceeds a threshold percent of the total training time. The default threshold is 50 percent.</td>\n      <td>Consider increasing the number of data loaders or applying data pre-fetching.</td>\n      <td>0</td>\n      <td>34219</td>\n      <td>threshold:50<br>cpu_threshold:90<br>gpu_threshold:10<br>patience:1000</td>\n    </tr>\n    <tr style=\"text-align: left;\">\n      <th>Dataloader</th>\n      <td>Checks how many data loaders are running in parallel and whether the total number is equal the number of available CPU cores. The rule triggers if number is much smaller or larger than the number of available cores. If too small, it might lead to low GPU utilization. If too large, it might impact other compute intensive operations on CPU.</td>\n      <td>Change the number of data loader processes.</td>\n      <td>0</td>\n      <td>0</td>\n      <td>min_threshold:70<br>max_threshold:200</td>\n    </tr>\n    <tr style=\"text-align: left;\">\n      <th>IOBottleneck</th>\n      <td>Checks if the data I/O wait time is high and the GPU utilization is low. It might indicate IO bottlenecks where GPU is waiting for data to arrive from storage. The rule evaluates the I/O and GPU utilization rates and triggers the issue if the time spent on the IO bottlenecks exceeds a threshold percent of the total training time. The default threshold is 50 percent.</td>\n      <td>Pre-fetch data or choose different file formats, such as binary formats that improve I/O performance.</td>\n      <td>0</td>\n      <td>34219</td>\n      <td>threshold:50<br>io_threshold:50<br>gpu_threshold:10<br>patience:1000</td>\n    </tr>\n    <tr style=\"text-align: left;\">\n      <th>LoadBalancing</th>\n      <td>Detects workload balancing issues across GPUs. Workload imbalance can occur in training jobs with data parallelism. The gradients are accumulated on a primary GPU, and this GPU might be overused with regard to other GPUs, resulting in reducing the efficiency of data parallelization.</td>\n      <td>Choose a different distributed training strategy or a different distributed training framework.</td>\n      <td>0</td>\n      <td>34215</td>\n      <td>threshold:0.2<br>patience:1000</td>\n    </tr>\n    <tr style=\"text-align: left;\">\n      <th>BatchSize</th>\n      <td>Checks if GPUs are underutilized because the batch size is too small. To detect this problem, the rule analyzes the average GPU memory footprint, the CPU and the GPU utilization.</td>\n      <td>The batch size is too small, and GPUs are underutilized. Consider running on a smaller instance type or increasing the batch size.</td>\n      <td>0</td>\n      <td>34214</td>\n      <td>cpu_threshold_p95:70<br>gpu_threshold_p95:70<br>gpu_memory_threshold_p95:70<br>patience:1000<br>window:500</td>\n    </tr>\n  </tbody>\n</table>"
     },
     "metadata": {}
    }
   ],
   "source": [
    "#files = glob.glob('/opt/ml/processing/output/rule/profiler-output/profiler-reports/*json')\n",
    "files = glob.glob('./profiler-reports/*json')\n",
    "summary = {}\n",
    "for i in files:\n",
    "    rule_name = i.split('/')[-1].replace('.json','')\n",
    "    if rule_name == \"OverallSystemUsage\" or rule_name == \"OverallFrameworkMetrics\":\n",
    "        continue\n",
    "    rule_report = json.load(open(i))\n",
    "    summary[rule_name] = {}\n",
    "    summary[rule_name]['Description'] = description[rule_name]\n",
    "    summary[rule_name]['Recommendation'] = recommendation[rule_name]\n",
    "    summary[rule_name]['Number of times rule triggered'] = rule_report['RuleTriggered'] \n",
    "    #summary[rule_name]['Number of violations'] = rule_report['Violations'] \n",
    "    summary[rule_name]['Number of datapoints'] = rule_report['Datapoints']\n",
    "    summary[rule_name]['Rule parameters'] = rule_report['RuleParameters']\n",
    "\n",
    "df = pd.DataFrame.from_dict(summary, orient='index')\n",
    "df = df.sort_values(by=['Number of times rule triggered'], ascending=False)\n",
    "\n",
    "\n",
    "display(Markdown(f\"\"\"The following table shows a profiling summary of the Debugger built-in rules. \n",
    "The table is sorted by the rules that triggered the most frequently. During your training job, the {df.index[0]} rule\n",
    "was the most frequently triggered. It processed {df.values[0,3]} datapoints and was triggered {df.values[0,2]} times.\"\"\"))\n",
    "\n",
    "with pd.option_context('display.colheader_justify','left'):    \n",
    "    pretty_print(df)"
   ]
  },
  {
   "cell_type": "code",
   "execution_count": 18,
   "metadata": {
    "execution": {
     "iopub.execute_input": "2021-05-30T22:12:54.962119Z",
     "iopub.status.busy": "2021-05-30T22:12:54.961630Z",
     "iopub.status.idle": "2021-05-30T22:12:54.964200Z",
     "shell.execute_reply": "2021-05-30T22:12:54.964578Z"
    },
    "papermill": {
     "duration": 0.029633,
     "end_time": "2021-05-30T22:12:54.964707",
     "exception": false,
     "start_time": "2021-05-30T22:12:54.935074",
     "status": "completed"
    },
    "tags": [
     "hide-input"
    ]
   },
   "outputs": [
    {
     "output_type": "display_data",
     "data": {
      "text/plain": "<IPython.core.display.Markdown object>",
      "text/markdown": "## Analyzing the training loop\n\n"
     },
     "metadata": {}
    }
   ],
   "source": [
    "analyse_phase = \"training\"\n",
    "if job_statistics and \"initialization_in_seconds\" in job_statistics:\n",
    "    if job_statistics[\"initialization_in_seconds\"] > job_statistics[\"training_loop_duration_in_seconds\"]:\n",
    "        analyse_phase = \"initialization\"\n",
    "        time = job_statistics[\"initialization_in_seconds\"]\n",
    "        perc = job_statistics[\"initialization_%\"]\n",
    "        display(Markdown(f\"\"\"The initialization phase took {int(time)} seconds, which is {int(perc)}%*\n",
    "        of the total training time. Since the training loop has taken the most time, \n",
    "        we dive deep into the events occurring during this phase\"\"\"))\n",
    "        display(Markdown(\"\"\"## Analyzing initialization\\n\\n\"\"\"))\n",
    "    time = job_statistics[\"training_loop_duration_in_seconds\"]\n",
    "    perc = job_statistics[\"training_loop_%\"]\n",
    "    display(Markdown(f\"\"\"The training loop lasted for {int(time)} seconds which is {int(perc)}% of the training job time.\n",
    "                    Since the training loop has taken the most time, we dive deep into the events occured during this phase.\"\"\"))\n",
    "if analyse_phase == 'training':\n",
    "    display(Markdown(\"\"\"## Analyzing the training loop\\n\\n\"\"\"))"
   ]
  },
  {
   "cell_type": "code",
   "execution_count": 19,
   "metadata": {
    "execution": {
     "iopub.execute_input": "2021-05-30T22:12:55.013075Z",
     "iopub.status.busy": "2021-05-30T22:12:55.012598Z",
     "iopub.status.idle": "2021-05-30T22:12:55.014368Z",
     "shell.execute_reply": "2021-05-30T22:12:55.014738Z"
    },
    "papermill": {
     "duration": 0.027661,
     "end_time": "2021-05-30T22:12:55.014862",
     "exception": false,
     "start_time": "2021-05-30T22:12:54.987201",
     "status": "completed"
    },
    "tags": [
     "hide-input"
    ]
   },
   "outputs": [],
   "source": [
    "if analyse_phase == \"initialization\":\n",
    "    display(Markdown(\"\"\"### MaxInitializationTime\\n\\nThis rule helps to detect if the training initialization is taking too much time. \\nThe rule waits until first step is available. The rule takes the parameter `threshold` that defines how many minutes to wait for the first step to become available. Default is 20 minutes.\\nYou can run the rule locally in the following way:\n",
    "    \"\"\"))\n",
    "    \n",
    "    _ = load_report(\"MaxInitializationTime\")"
   ]
  },
  {
   "cell_type": "code",
   "execution_count": 20,
   "metadata": {
    "execution": {
     "iopub.execute_input": "2021-05-30T22:12:55.082148Z",
     "iopub.status.busy": "2021-05-30T22:12:55.078080Z",
     "iopub.status.idle": "2021-05-30T22:12:55.090884Z",
     "shell.execute_reply": "2021-05-30T22:12:55.090461Z"
    },
    "papermill": {
     "duration": 0.053806,
     "end_time": "2021-05-30T22:12:55.090997",
     "exception": false,
     "start_time": "2021-05-30T22:12:55.037191",
     "status": "completed"
    },
    "tags": [
     "hide-input"
    ]
   },
   "outputs": [
    {
     "output_type": "display_data",
     "data": {
      "text/plain": "<IPython.core.display.Markdown object>",
      "text/markdown": "### Step duration analysis"
     },
     "metadata": {}
    },
    {
     "output_type": "stream",
     "name": "stdout",
     "text": [
      "StepOutlier not triggered\n"
     ]
    }
   ],
   "source": [
    "if analyse_phase == \"training\":\n",
    "    display(Markdown(\"\"\"### Step duration analysis\"\"\"))\n",
    "    report = load_report('StepOutlier')\n",
    "    if report:\n",
    "        parameters = report['RuleParameters']\n",
    "        params = report['RuleParameters'].split('\\n')\n",
    "        stddev = params[3].split(':')[1]\n",
    "        mode = params[1].split(':')[1]\n",
    "        n_outlier = params[2].split(':')[1]\n",
    "        triggered = report['RuleTriggered']\n",
    "        datapoints = report['Datapoints']\n",
    "\n",
    "        text = f\"\"\"The StepOutlier rule measures step durations and checks for outliers. The rule \n",
    "        returns True if duration is larger than {stddev} times the standard deviation. The rule \n",
    "        also takes the parameter mode, that specifies whether steps from training or validation phase \n",
    "        should be checked. In your processing job mode was specified as {mode}. \n",
    "        Typically the first step is taking significantly more time and to avoid the \n",
    "        rule triggering immediately, one can use n_outliers to specify the number of outliers to ignore. \n",
    "        n_outliers was set to {n_outlier}.\n",
    "        The rule analysed {datapoints} datapoints and triggered {triggered} times.\n",
    "        \"\"\"\n",
    "\n",
    "        paragraph = Paragraph(text=text, width=900)\n",
    "        show(column(paragraph))\n",
    "\n",
    "        if report and len(report['Details']['step_details']) > 0:\n",
    "            for node_id in report['Details']['step_details']:\n",
    "                tmp = report['RuleParameters'].split('threshold:')\n",
    "                threshold = tmp[1].split('\\n')[0]\n",
    "                n_outliers = report['Details']['step_details'][node_id]['number_of_outliers']\n",
    "                mean = report['Details']['step_details'][node_id]['step_stats']['mean']\n",
    "                stddev = report['Details']['step_details'][node_id]['stddev']\n",
    "                phase = report['Details']['step_details'][node_id]['phase']\n",
    "                display(Markdown(f\"\"\"**Step durations on node {node_id}:**\"\"\"))\n",
    "                display(Markdown(f\"\"\"The following table is a summary of the statistics of step durations measured on node {node_id}.\n",
    "                The rule has analyzed the step duration from {phase} phase.\n",
    "                The average step duration on node {node_id} was {round(mean, 2)}s. \n",
    "                The rule detected {n_outliers} outliers, where step duration was larger than {threshold} times the standard deviation of {stddev}s\n",
    "                                 \\n\"\"\"))\n",
    "                step_stats_df = pd.DataFrame.from_dict(report['Details']['step_details'][node_id]['step_stats'], orient='index').T\n",
    "                step_stats_df.index = ['Step Durations in [s]']\n",
    "                pretty_print(step_stats_df)\n",
    "\n",
    "            display(Markdown(f\"\"\"The following histogram shows the step durations measured on the different nodes. \n",
    "                You can turn on or turn off the visualization of histograms by selecting or unselecting the labels in the legend.\"\"\"))\n",
    "\n",
    "            plot = figure(plot_height=450, \n",
    "                              plot_width=850, \n",
    "                              title=f\"\"\"Step durations\"\"\")  \n",
    "\n",
    "            colors = bokeh.palettes.viridis(len(report['Details']['step_details']))\n",
    "\n",
    "            for index, node_id in enumerate(report['Details']['step_details']):\n",
    "                probs = report['Details']['step_details'][node_id]['probs']\n",
    "                binedges = report['Details']['step_details'][node_id]['binedges']\n",
    "\n",
    "                plot.quad( top=probs,\n",
    "                        bottom=0,\n",
    "                        left=binedges[:-1],\n",
    "                        right=binedges[1:],\n",
    "                        line_color=\"white\",\n",
    "                        fill_color=colors[index],\n",
    "                        fill_alpha=0.7,\n",
    "                        legend=node_id)\n",
    "\n",
    "            plot.add_layout(Legend(), 'right')    \n",
    "            plot.y_range.start = 0\n",
    "            plot.xaxis.axis_label = f\"\"\"Step durations in [s]\"\"\"\n",
    "            plot.yaxis.axis_label = \"Occurrences\"\n",
    "            plot.grid.grid_line_color = \"white\"\n",
    "            plot.legend.click_policy=\"hide\"\n",
    "            plot.legend.location = 'center_right'\n",
    "            show(plot)\n",
    "\n",
    "        if report['RuleTriggered'] > 0:\n",
    "\n",
    "            text=f\"\"\"To get a better understanding of what may have caused those outliers,\n",
    "            we correlate the timestamps of step outliers with other framework metrics that happened at the same time.\n",
    "            The left chart shows how much time was spent in the different framework\n",
    "            metrics aggregated by event phase. The chart on the right shows the histogram of normal step durations (without\n",
    "            outliers). The following chart shows how much time was spent in the different \n",
    "            framework metrics when step outliers occurred. In this chart framework metrics are not aggregated byphase.\"\"\"\n",
    "            plots = []\n",
    "            if 'phase' in report['Details']:\n",
    "                text = f\"\"\"{text} The chart (in the middle) shows whether step outliers mainly happened during TRAIN or EVAL phase.\n",
    "                \"\"\"\n",
    "\n",
    "                plot = create_piechart(report['Details']['phase'], \n",
    "                                    height=350,\n",
    "                                    width=600,\n",
    "                                    x1=0.2,\n",
    "                                    x2=0.6,\n",
    "                                    radius=0.3, \n",
    "                                    title=\"The ratio between the time spent on the TRAIN/EVAL phase\")\n",
    "                plots.append(plot)\n",
    "\n",
    "            if 'forward_backward' in report['Details'] and  len(report['Details']['forward_backward']) > 0:\n",
    "\n",
    "                event = max(report['Details']['forward_backward'], key=report['Details']['forward_backward'].get)\n",
    "                perc = report['Details']['forward_backward'][event]\n",
    "\n",
    "                text = f\"\"\"{text} The pie chart on the right shows a detailed breakdown. \n",
    "                It shows that {int(perc)}% of the training time was spent on event \"{event}\".\"\"\"\n",
    "\n",
    "                plot = create_piechart(report['Details']['forward_backward'], \n",
    "                                    height=350,\n",
    "                                    width=600,\n",
    "                                    x1=0.2,\n",
    "                                    x2=0.6,\n",
    "                                    radius=0.3, \n",
    "                                    title=\"The Ratio between forward and backward pass\") \n",
    "                plots.append(plot)\n",
    "\n",
    "            if len(plots) > 0:\n",
    "                paragraph = Paragraph(text=text, width=900)\n",
    "                show(column(paragraph, row(plots)))\n",
    "\n",
    "            plots = []\n",
    "            text = \"\"\n",
    "            if 'ratio' in report['Details'] and len(report['Details']['ratio']) > 0:\n",
    "\n",
    "                key = list(report['Details']['ratio'].keys())[0]\n",
    "                ratio = report['Details']['ratio'][key]\n",
    "\n",
    "                text = f\"\"\"The following pie chart shows a breakdown of the CPU/GPU operators executed during the step outliers. \n",
    "                    It shows that {int(ratio)}% of the training time was spent on executing operators in \"{key}\".\"\"\"\n",
    "\n",
    "                plot = create_piechart(report['Details']['ratio'], \n",
    "                                        height=350,\n",
    "                                        width=600,\n",
    "                                        x1=0.2,\n",
    "                                        x2=0.6,\n",
    "                                        radius=0.3, \n",
    "                                        title=\"The ratio between CPU/GPU operators\")\n",
    "                plots.append(plot)\n",
    "\n",
    "\n",
    "            if 'general' in report['Details'] and len(report['Details']['general']) > 0:\n",
    "\n",
    "                event = max(report['Details']['general'], key=report['Details']['general'].get)\n",
    "                perc = report['Details']['general'][event]\n",
    "\n",
    "                plot = create_piechart(report['Details']['general'], \n",
    "                                    height=350,\n",
    "                                    width=600,\n",
    "                                    x1=0.2,\n",
    "                                    x2=0.6,\n",
    "                                    radius=0.3, \n",
    "                                    title=\"General metrics recorded in framework \")\n",
    "                plots.append(plot)\n",
    "\n",
    "            if len(plots) > 0:\n",
    "                paragraph = Paragraph(text=text, width=900)\n",
    "                show(column(paragraph, row(plots)))\n",
    "\n",
    "            plots = []\n",
    "            text = \"\"\n",
    "            if 'horovod' in report['Details'] and len(report['Details']['horovod']) > 0:\n",
    "\n",
    "                event = max(report['Details']['horovod'], key=report['Details']['horovod'].get)\n",
    "                perc = report['Details']['horovod'][event]\n",
    "                text = f\"\"\"The following pie chart shows a detailed breakdown of the Horovod metrics that have been\n",
    "                recorded when step outliers happened. The most expensive function was {event} with {int(perc)}%\"\"\"\n",
    "\n",
    "                plot = create_piechart(report['Details']['horovod'], \n",
    "                                    height=350,\n",
    "                                    width=600,\n",
    "                                    x1=0.2,\n",
    "                                    x2=0.6,\n",
    "                                    radius=0.3, \n",
    "                                    title=\"General metrics recorded in framework \")\n",
    "\n",
    "                paragraph = Paragraph(text=text, width=900)\n",
    "                show(column(paragraph, row(plot)))      "
   ]
  },
  {
   "cell_type": "code",
   "execution_count": 20,
   "metadata": {
    "execution": {
     "iopub.execute_input": "2021-05-30T22:12:55.154170Z",
     "iopub.status.busy": "2021-05-30T22:12:55.153574Z",
     "iopub.status.idle": "2021-05-30T22:12:55.305949Z",
     "shell.execute_reply": "2021-05-30T22:12:55.305522Z"
    },
    "papermill": {
     "duration": 0.190782,
     "end_time": "2021-05-30T22:12:55.306067",
     "exception": false,
     "start_time": "2021-05-30T22:12:55.115285",
     "status": "completed"
    },
    "tags": [
     "hide-input"
    ]
   },
   "outputs": [
    {
     "data": {
      "text/markdown": [
       "### GPU utilization analysis\n",
       "\n"
      ],
      "text/plain": [
       "<IPython.core.display.Markdown object>"
      ]
     },
     "metadata": {},
     "output_type": "display_data"
    },
    {
     "data": {
      "text/markdown": [
       "**Usage per GPU** \n",
       "\n"
      ],
      "text/plain": [
       "<IPython.core.display.Markdown object>"
      ]
     },
     "metadata": {},
     "output_type": "display_data"
    },
    {
     "data": {
      "text/html": [
       "\n",
       "\n",
       "\n",
       "\n",
       "\n",
       "\n",
       "  <div class=\"bk-root\" id=\"751e297b-ba85-4bd4-b657-e77baa56fd7d\" data-root-id=\"1200\"></div>\n"
      ]
     },
     "metadata": {},
     "output_type": "display_data"
    },
    {
     "data": {
      "application/javascript": [
       "(function(root) {\n",
       "  function embed_document(root) {\n",
       "    \n",
       "  var docs_json = {\"d66be2b8-9d94-47ab-8313-5ee72abb216a\":{\"roots\":{\"references\":[{\"attributes\":{\"text\":\"The LowGPUUtilization rule checks for a low and fluctuating GPU usage. If the GPU usage is \\n        consistently low, it might be caused by bottlenecks or a small batch size. If usage is heavily \\n        fluctuating, it can be due to bottlenecks or blocking calls. The rule computed the 95th and 5th \\n        percentile of GPU utilization on 500 continuous datapoints and found 360 cases where \\n        p95 was above 70% and p5 was below 10%. If p95 is high and p5 is low,\\n        it might indicate that the GPU usage is highly fluctuating. If both values are very low, \\n        it would mean that the machine is underutilized. During initialization, the GPU usage is likely zero, \\n        so the rule skipped the first 1000 data points.\\n        The rule analysed 34215 datapoints and triggered 360 times.\",\"width\":800},\"id\":\"1200\",\"type\":\"Paragraph\"}],\"root_ids\":[\"1200\"]},\"title\":\"Bokeh Application\",\"version\":\"2.2.3\"}};\n",
       "  var render_items = [{\"docid\":\"d66be2b8-9d94-47ab-8313-5ee72abb216a\",\"root_ids\":[\"1200\"],\"roots\":{\"1200\":\"751e297b-ba85-4bd4-b657-e77baa56fd7d\"}}];\n",
       "  root.Bokeh.embed.embed_items_notebook(docs_json, render_items);\n",
       "\n",
       "  }\n",
       "  if (root.Bokeh !== undefined) {\n",
       "    embed_document(root);\n",
       "  } else {\n",
       "    var attempts = 0;\n",
       "    var timer = setInterval(function(root) {\n",
       "      if (root.Bokeh !== undefined) {\n",
       "        clearInterval(timer);\n",
       "        embed_document(root);\n",
       "      } else {\n",
       "        attempts++;\n",
       "        if (attempts > 100) {\n",
       "          clearInterval(timer);\n",
       "          console.log(\"Bokeh: ERROR: Unable to run BokehJS code because BokehJS library is missing\");\n",
       "        }\n",
       "      }\n",
       "    }, 10, root)\n",
       "  }\n",
       "})(window);"
      ],
      "application/vnd.bokehjs_exec.v0+json": ""
     },
     "metadata": {
      "application/vnd.bokehjs_exec.v0+json": {
       "id": "1200"
      }
     },
     "output_type": "display_data"
    },
    {
     "data": {
      "text/html": [
       "\n",
       "\n",
       "\n",
       "\n",
       "\n",
       "\n",
       "  <div class=\"bk-root\" id=\"2643425b-2dff-452c-98c0-0ea2c20d450c\" data-root-id=\"1225\"></div>\n"
      ]
     },
     "metadata": {},
     "output_type": "display_data"
    },
    {
     "data": {
      "application/javascript": [
       "(function(root) {\n",
       "  function embed_document(root) {\n",
       "    \n",
       "  var docs_json = {\"71289403-3070-4886-a517-9aa2838b9170\":{\"roots\":{\"references\":[{\"attributes\":{\"text\":\"Your training job is underutilizing the instance. You may want to consider\\n            to either switch to a smaller instance type or to increase the batch size. \\n            The last time that the LowGPUUtilization rule was triggered in your training job was on 05/30/2021 at 22:11:00.\\n            The following boxplots are a snapshot from the timestamps. \\n            They show the utilization per GPU (without outliers).\\n            To get a better understanding of the workloads throughout the whole training,\\n            you can check the workload histogram in the next section.\",\"width\":800},\"id\":\"1225\",\"type\":\"Paragraph\"}],\"root_ids\":[\"1225\"]},\"title\":\"Bokeh Application\",\"version\":\"2.2.3\"}};\n",
       "  var render_items = [{\"docid\":\"71289403-3070-4886-a517-9aa2838b9170\",\"root_ids\":[\"1225\"],\"roots\":{\"1225\":\"2643425b-2dff-452c-98c0-0ea2c20d450c\"}}];\n",
       "  root.Bokeh.embed.embed_items_notebook(docs_json, render_items);\n",
       "\n",
       "  }\n",
       "  if (root.Bokeh !== undefined) {\n",
       "    embed_document(root);\n",
       "  } else {\n",
       "    var attempts = 0;\n",
       "    var timer = setInterval(function(root) {\n",
       "      if (root.Bokeh !== undefined) {\n",
       "        clearInterval(timer);\n",
       "        embed_document(root);\n",
       "      } else {\n",
       "        attempts++;\n",
       "        if (attempts > 100) {\n",
       "          clearInterval(timer);\n",
       "          console.log(\"Bokeh: ERROR: Unable to run BokehJS code because BokehJS library is missing\");\n",
       "        }\n",
       "      }\n",
       "    }, 10, root)\n",
       "  }\n",
       "})(window);"
      ],
      "application/vnd.bokehjs_exec.v0+json": ""
     },
     "metadata": {
      "application/vnd.bokehjs_exec.v0+json": {
       "id": "1225"
      }
     },
     "output_type": "display_data"
    },
    {
     "data": {
      "text/markdown": [
       "**GPU utilization of gpu0 on node algo-1:**"
      ],
      "text/plain": [
       "<IPython.core.display.Markdown object>"
      ]
     },
     "metadata": {},
     "output_type": "display_data"
    },
    {
     "data": {
      "text/html": [
       "\n",
       "\n",
       "\n",
       "\n",
       "\n",
       "\n",
       "  <div class=\"bk-root\" id=\"203889a9-aa70-44b3-87b5-5dd0c7806006\" data-root-id=\"1308\"></div>\n"
      ]
     },
     "metadata": {},
     "output_type": "display_data"
    },
    {
     "data": {
      "application/javascript": [
       "(function(root) {\n",
       "  function embed_document(root) {\n",
       "    \n",
       "  var docs_json = {\"978ec5b4-b8b4-4582-99e8-b7f5630f9280\":{\"roots\":{\"references\":[{\"attributes\":{\"text\":\" The max utilization of gpu0 on node algo-1 was 100.0% and the 5th percentile was only 0.0% The difference between 5th percentile 0.0% and 95th percentile 100.0% is quite \\n                        significant, which means that utilization on gpu0 is fluctuating quite a lot.\\n\",\"width\":900},\"id\":\"1308\",\"type\":\"Paragraph\"}],\"root_ids\":[\"1308\"]},\"title\":\"Bokeh Application\",\"version\":\"2.2.3\"}};\n",
       "  var render_items = [{\"docid\":\"978ec5b4-b8b4-4582-99e8-b7f5630f9280\",\"root_ids\":[\"1308\"],\"roots\":{\"1308\":\"203889a9-aa70-44b3-87b5-5dd0c7806006\"}}];\n",
       "  root.Bokeh.embed.embed_items_notebook(docs_json, render_items);\n",
       "\n",
       "  }\n",
       "  if (root.Bokeh !== undefined) {\n",
       "    embed_document(root);\n",
       "  } else {\n",
       "    var attempts = 0;\n",
       "    var timer = setInterval(function(root) {\n",
       "      if (root.Bokeh !== undefined) {\n",
       "        clearInterval(timer);\n",
       "        embed_document(root);\n",
       "      } else {\n",
       "        attempts++;\n",
       "        if (attempts > 100) {\n",
       "          clearInterval(timer);\n",
       "          console.log(\"Bokeh: ERROR: Unable to run BokehJS code because BokehJS library is missing\");\n",
       "        }\n",
       "      }\n",
       "    }, 10, root)\n",
       "  }\n",
       "})(window);"
      ],
      "application/vnd.bokehjs_exec.v0+json": ""
     },
     "metadata": {
      "application/vnd.bokehjs_exec.v0+json": {
       "id": "1308"
      }
     },
     "output_type": "display_data"
    },
    {
     "data": {
      "text/markdown": [
       "**GPU utilization of gpu1 on node algo-1:**"
      ],
      "text/plain": [
       "<IPython.core.display.Markdown object>"
      ]
     },
     "metadata": {},
     "output_type": "display_data"
    },
    {
     "data": {
      "text/html": [
       "\n",
       "\n",
       "\n",
       "\n",
       "\n",
       "\n",
       "  <div class=\"bk-root\" id=\"af0d37af-6fba-40a5-8c43-aabf1ea0ddc8\" data-root-id=\"1363\"></div>\n"
      ]
     },
     "metadata": {},
     "output_type": "display_data"
    },
    {
     "data": {
      "application/javascript": [
       "(function(root) {\n",
       "  function embed_document(root) {\n",
       "    \n",
       "  var docs_json = {\"0c4258cc-5dcc-41a6-b806-b9f72115aaae\":{\"roots\":{\"references\":[{\"attributes\":{\"text\":\" The max utilization of gpu1 on node algo-1 was 100.0% and the 5th percentile was only 9.0% The difference between 5th percentile 9.0% and 95th percentile 100.0% is quite \\n                        significant, which means that utilization on gpu1 is fluctuating quite a lot.\\n\",\"width\":900},\"id\":\"1363\",\"type\":\"Paragraph\"}],\"root_ids\":[\"1363\"]},\"title\":\"Bokeh Application\",\"version\":\"2.2.3\"}};\n",
       "  var render_items = [{\"docid\":\"0c4258cc-5dcc-41a6-b806-b9f72115aaae\",\"root_ids\":[\"1363\"],\"roots\":{\"1363\":\"af0d37af-6fba-40a5-8c43-aabf1ea0ddc8\"}}];\n",
       "  root.Bokeh.embed.embed_items_notebook(docs_json, render_items);\n",
       "\n",
       "  }\n",
       "  if (root.Bokeh !== undefined) {\n",
       "    embed_document(root);\n",
       "  } else {\n",
       "    var attempts = 0;\n",
       "    var timer = setInterval(function(root) {\n",
       "      if (root.Bokeh !== undefined) {\n",
       "        clearInterval(timer);\n",
       "        embed_document(root);\n",
       "      } else {\n",
       "        attempts++;\n",
       "        if (attempts > 100) {\n",
       "          clearInterval(timer);\n",
       "          console.log(\"Bokeh: ERROR: Unable to run BokehJS code because BokehJS library is missing\");\n",
       "        }\n",
       "      }\n",
       "    }, 10, root)\n",
       "  }\n",
       "})(window);"
      ],
      "application/vnd.bokehjs_exec.v0+json": ""
     },
     "metadata": {
      "application/vnd.bokehjs_exec.v0+json": {
       "id": "1363"
      }
     },
     "output_type": "display_data"
    },
    {
     "data": {
      "text/markdown": [
       "**GPU utilization of gpu2 on node algo-1:**"
      ],
      "text/plain": [
       "<IPython.core.display.Markdown object>"
      ]
     },
     "metadata": {},
     "output_type": "display_data"
    },
    {
     "data": {
      "text/html": [
       "\n",
       "\n",
       "\n",
       "\n",
       "\n",
       "\n",
       "  <div class=\"bk-root\" id=\"abf00d36-0c9a-4944-af50-c1af1c0c8ab0\" data-root-id=\"1418\"></div>\n"
      ]
     },
     "metadata": {},
     "output_type": "display_data"
    },
    {
     "data": {
      "application/javascript": [
       "(function(root) {\n",
       "  function embed_document(root) {\n",
       "    \n",
       "  var docs_json = {\"a7323467-8693-4b64-8fe6-104036e584f1\":{\"roots\":{\"references\":[{\"attributes\":{\"text\":\" The max utilization of gpu2 on node algo-1 was 100.0% and the 5th percentile was only 3.8500000000000085% The difference between 5th percentile 3.8500000000000085% and 95th percentile 100.0% is quite \\n                        significant, which means that utilization on gpu2 is fluctuating quite a lot.\\n\",\"width\":900},\"id\":\"1418\",\"type\":\"Paragraph\"}],\"root_ids\":[\"1418\"]},\"title\":\"Bokeh Application\",\"version\":\"2.2.3\"}};\n",
       "  var render_items = [{\"docid\":\"a7323467-8693-4b64-8fe6-104036e584f1\",\"root_ids\":[\"1418\"],\"roots\":{\"1418\":\"abf00d36-0c9a-4944-af50-c1af1c0c8ab0\"}}];\n",
       "  root.Bokeh.embed.embed_items_notebook(docs_json, render_items);\n",
       "\n",
       "  }\n",
       "  if (root.Bokeh !== undefined) {\n",
       "    embed_document(root);\n",
       "  } else {\n",
       "    var attempts = 0;\n",
       "    var timer = setInterval(function(root) {\n",
       "      if (root.Bokeh !== undefined) {\n",
       "        clearInterval(timer);\n",
       "        embed_document(root);\n",
       "      } else {\n",
       "        attempts++;\n",
       "        if (attempts > 100) {\n",
       "          clearInterval(timer);\n",
       "          console.log(\"Bokeh: ERROR: Unable to run BokehJS code because BokehJS library is missing\");\n",
       "        }\n",
       "      }\n",
       "    }, 10, root)\n",
       "  }\n",
       "})(window);"
      ],
      "application/vnd.bokehjs_exec.v0+json": ""
     },
     "metadata": {
      "application/vnd.bokehjs_exec.v0+json": {
       "id": "1418"
      }
     },
     "output_type": "display_data"
    },
    {
     "data": {
      "text/markdown": [
       "**GPU utilization of gpu3 on node algo-1:**"
      ],
      "text/plain": [
       "<IPython.core.display.Markdown object>"
      ]
     },
     "metadata": {},
     "output_type": "display_data"
    },
    {
     "data": {
      "text/html": [
       "\n",
       "\n",
       "\n",
       "\n",
       "\n",
       "\n",
       "  <div class=\"bk-root\" id=\"57715c1a-c79e-4a86-af4d-7328fba9be61\" data-root-id=\"1473\"></div>\n"
      ]
     },
     "metadata": {},
     "output_type": "display_data"
    },
    {
     "data": {
      "application/javascript": [
       "(function(root) {\n",
       "  function embed_document(root) {\n",
       "    \n",
       "  var docs_json = {\"bec48ee6-6ea6-4fb4-9003-9f2fae5b8f7d\":{\"roots\":{\"references\":[{\"attributes\":{\"text\":\" The max utilization of gpu3 on node algo-1 was 100.0% and the 5th percentile was only 8.0% The difference between 5th percentile 8.0% and 95th percentile 100.0% is quite \\n                        significant, which means that utilization on gpu3 is fluctuating quite a lot.\\n\",\"width\":900},\"id\":\"1473\",\"type\":\"Paragraph\"}],\"root_ids\":[\"1473\"]},\"title\":\"Bokeh Application\",\"version\":\"2.2.3\"}};\n",
       "  var render_items = [{\"docid\":\"bec48ee6-6ea6-4fb4-9003-9f2fae5b8f7d\",\"root_ids\":[\"1473\"],\"roots\":{\"1473\":\"57715c1a-c79e-4a86-af4d-7328fba9be61\"}}];\n",
       "  root.Bokeh.embed.embed_items_notebook(docs_json, render_items);\n",
       "\n",
       "  }\n",
       "  if (root.Bokeh !== undefined) {\n",
       "    embed_document(root);\n",
       "  } else {\n",
       "    var attempts = 0;\n",
       "    var timer = setInterval(function(root) {\n",
       "      if (root.Bokeh !== undefined) {\n",
       "        clearInterval(timer);\n",
       "        embed_document(root);\n",
       "      } else {\n",
       "        attempts++;\n",
       "        if (attempts > 100) {\n",
       "          clearInterval(timer);\n",
       "          console.log(\"Bokeh: ERROR: Unable to run BokehJS code because BokehJS library is missing\");\n",
       "        }\n",
       "      }\n",
       "    }, 10, root)\n",
       "  }\n",
       "})(window);"
      ],
      "application/vnd.bokehjs_exec.v0+json": ""
     },
     "metadata": {
      "application/vnd.bokehjs_exec.v0+json": {
       "id": "1473"
      }
     },
     "output_type": "display_data"
    },
    {
     "data": {
      "text/html": [
       "\n",
       "\n",
       "\n",
       "\n",
       "\n",
       "\n",
       "  <div class=\"bk-root\" id=\"270818ed-8771-479b-a17e-65af75195896\" data-root-id=\"1250\"></div>\n"
      ]
     },
     "metadata": {},
     "output_type": "display_data"
    },
    {
     "data": {
      "application/javascript": [
       "(function(root) {\n",
       "  function embed_document(root) {\n",
       "    \n",
       "  var docs_json = {\"2d048724-a4f9-4f12-948d-163d075d3723\":{\"roots\":{\"references\":[{\"attributes\":{\"below\":[{\"id\":\"1261\"}],\"center\":[{\"id\":\"1264\"},{\"id\":\"1268\"}],\"left\":[{\"id\":\"1265\"}],\"plot_height\":350,\"plot_width\":1000,\"renderers\":[{\"id\":\"1281\"},{\"id\":\"1286\"},{\"id\":\"1291\"},{\"id\":\"1296\"},{\"id\":\"1301\"},{\"id\":\"1306\"},{\"id\":\"1336\"},{\"id\":\"1341\"},{\"id\":\"1346\"},{\"id\":\"1351\"},{\"id\":\"1356\"},{\"id\":\"1361\"},{\"id\":\"1391\"},{\"id\":\"1396\"},{\"id\":\"1401\"},{\"id\":\"1406\"},{\"id\":\"1411\"},{\"id\":\"1416\"},{\"id\":\"1446\"},{\"id\":\"1451\"},{\"id\":\"1456\"},{\"id\":\"1461\"},{\"id\":\"1466\"},{\"id\":\"1471\"}],\"title\":{\"id\":\"1251\"},\"toolbar\":{\"id\":\"1273\"},\"x_range\":{\"id\":\"1253\"},\"x_scale\":{\"id\":\"1257\"},\"y_range\":{\"id\":\"1255\"},\"y_scale\":{\"id\":\"1259\"}},\"id\":\"1250\",\"subtype\":\"Figure\",\"type\":\"Plot\"},{\"attributes\":{},\"id\":\"1563\",\"type\":\"UnionRenderers\"},{\"attributes\":{\"data\":{},\"selected\":{\"id\":\"1546\"},\"selection_policy\":{\"id\":\"1547\"}},\"id\":\"1348\",\"type\":\"ColumnDataSource\"},{\"attributes\":{},\"id\":\"1564\",\"type\":\"Selection\"},{\"attributes\":{},\"id\":\"1565\",\"type\":\"UnionRenderers\"},{\"attributes\":{},\"id\":\"1566\",\"type\":\"Selection\"},{\"attributes\":{\"bottom\":{\"value\":99.0},\"fill_color\":{\"value\":\"#FDE725\"},\"top\":{\"value\":90.0},\"width\":{\"value\":0.7},\"x\":{\"value\":2}},\"id\":\"1344\",\"type\":\"VBar\"},{\"attributes\":{\"fill_color\":{\"value\":\"#1f77b4\"},\"height\":{\"units\":\"data\",\"value\":0.01},\"width\":{\"units\":\"data\",\"value\":0.2},\"x\":{\"value\":2},\"y\":{\"value\":0.0}},\"id\":\"1354\",\"type\":\"Rect\"},{\"attributes\":{},\"id\":\"1567\",\"type\":\"UnionRenderers\"},{\"attributes\":{\"axis_label\":\"Utilization in %\",\"formatter\":{\"id\":\"1525\"},\"ticker\":{\"id\":\"1266\"}},\"id\":\"1265\",\"type\":\"LinearAxis\"},{\"attributes\":{},\"id\":\"1568\",\"type\":\"Selection\"},{\"attributes\":{\"data_source\":{\"id\":\"1343\"},\"glyph\":{\"id\":\"1344\"},\"hover_glyph\":null,\"muted_glyph\":null,\"nonselection_glyph\":{\"id\":\"1345\"},\"selection_glyph\":null,\"view\":{\"id\":\"1347\"}},\"id\":\"1346\",\"type\":\"GlyphRenderer\"},{\"attributes\":{},\"id\":\"1569\",\"type\":\"UnionRenderers\"},{\"attributes\":{\"data\":{},\"selected\":{\"id\":\"1544\"},\"selection_policy\":{\"id\":\"1545\"}},\"id\":\"1343\",\"type\":\"ColumnDataSource\"},{\"attributes\":{},\"id\":\"1570\",\"type\":\"Selection\"},{\"attributes\":{\"source\":{\"id\":\"1338\"}},\"id\":\"1342\",\"type\":\"CDSView\"},{\"attributes\":{},\"id\":\"1571\",\"type\":\"UnionRenderers\"},{\"attributes\":{\"source\":{\"id\":\"1343\"}},\"id\":\"1347\",\"type\":\"CDSView\"},{\"attributes\":{},\"id\":\"1572\",\"type\":\"Selection\"},{\"attributes\":{\"bottom\":{\"value\":99.0},\"fill_alpha\":{\"value\":0.1},\"fill_color\":{\"value\":\"#FDE725\"},\"line_alpha\":{\"value\":0.1},\"top\":{\"value\":90.0},\"width\":{\"value\":0.7},\"x\":{\"value\":2}},\"id\":\"1345\",\"type\":\"VBar\"},{\"attributes\":{},\"id\":\"1573\",\"type\":\"UnionRenderers\"},{\"attributes\":{\"data_source\":{\"id\":\"1348\"},\"glyph\":{\"id\":\"1349\"},\"hover_glyph\":null,\"muted_glyph\":null,\"nonselection_glyph\":{\"id\":\"1350\"},\"selection_glyph\":null,\"view\":{\"id\":\"1352\"}},\"id\":\"1351\",\"type\":\"GlyphRenderer\"},{\"attributes\":{},\"id\":\"1574\",\"type\":\"Selection\"},{\"attributes\":{\"source\":{\"id\":\"1348\"}},\"id\":\"1352\",\"type\":\"CDSView\"},{\"attributes\":{},\"id\":\"1575\",\"type\":\"UnionRenderers\"},{\"attributes\":{\"bottom\":{\"value\":90.0},\"fill_alpha\":{\"value\":0.1},\"fill_color\":{\"value\":\"#440154\"},\"line_alpha\":{\"value\":0.1},\"top\":{\"value\":42.0},\"width\":{\"value\":0.7},\"x\":{\"value\":2}},\"id\":\"1350\",\"type\":\"VBar\"},{\"attributes\":{\"end\":17},\"id\":\"1253\",\"type\":\"Range1d\"},{\"attributes\":{\"data_source\":{\"id\":\"1278\"},\"glyph\":{\"id\":\"1279\"},\"hover_glyph\":null,\"muted_glyph\":null,\"nonselection_glyph\":{\"id\":\"1280\"},\"selection_glyph\":null,\"view\":{\"id\":\"1282\"}},\"id\":\"1281\",\"type\":\"GlyphRenderer\"},{\"attributes\":{\"fill_color\":{\"value\":\"#1f77b4\"},\"height\":{\"units\":\"data\",\"value\":0.01},\"width\":{\"units\":\"data\",\"value\":0.2},\"x\":{\"value\":2},\"y\":{\"value\":100.0}},\"id\":\"1359\",\"type\":\"Rect\"},{\"attributes\":{\"x0\":{\"value\":1},\"x1\":{\"value\":1},\"y0\":{\"value\":100.0},\"y1\":{\"value\":99.0}},\"id\":\"1279\",\"type\":\"Segment\"},{\"attributes\":{\"data\":{},\"selected\":{\"id\":\"1548\"},\"selection_policy\":{\"id\":\"1549\"}},\"id\":\"1353\",\"type\":\"ColumnDataSource\"},{\"attributes\":{\"data\":{},\"selected\":{\"id\":\"1554\"},\"selection_policy\":{\"id\":\"1555\"}},\"id\":\"1393\",\"type\":\"ColumnDataSource\"},{\"attributes\":{\"data\":{},\"selected\":{\"id\":\"1550\"},\"selection_policy\":{\"id\":\"1551\"}},\"id\":\"1358\",\"type\":\"ColumnDataSource\"},{\"attributes\":{\"source\":{\"id\":\"1353\"}},\"id\":\"1357\",\"type\":\"CDSView\"},{\"attributes\":{},\"id\":\"1562\",\"type\":\"Selection\"},{\"attributes\":{\"data_source\":{\"id\":\"1353\"},\"glyph\":{\"id\":\"1354\"},\"hover_glyph\":null,\"muted_glyph\":null,\"nonselection_glyph\":{\"id\":\"1355\"},\"selection_glyph\":null,\"view\":{\"id\":\"1357\"}},\"id\":\"1356\",\"type\":\"GlyphRenderer\"},{\"attributes\":{\"fill_alpha\":{\"value\":0.1},\"fill_color\":{\"value\":\"#1f77b4\"},\"height\":{\"units\":\"data\",\"value\":0.01},\"line_alpha\":{\"value\":0.1},\"width\":{\"units\":\"data\",\"value\":0.2},\"x\":{\"value\":2},\"y\":{\"value\":0.0}},\"id\":\"1355\",\"type\":\"Rect\"},{\"attributes\":{\"data_source\":{\"id\":\"1388\"},\"glyph\":{\"id\":\"1389\"},\"hover_glyph\":null,\"muted_glyph\":null,\"nonselection_glyph\":{\"id\":\"1390\"},\"selection_glyph\":null,\"view\":{\"id\":\"1392\"}},\"id\":\"1391\",\"type\":\"GlyphRenderer\"},{\"attributes\":{\"source\":{\"id\":\"1358\"}},\"id\":\"1362\",\"type\":\"CDSView\"},{\"attributes\":{\"data_source\":{\"id\":\"1358\"},\"glyph\":{\"id\":\"1359\"},\"hover_glyph\":null,\"muted_glyph\":null,\"nonselection_glyph\":{\"id\":\"1360\"},\"selection_glyph\":null,\"view\":{\"id\":\"1362\"}},\"id\":\"1361\",\"type\":\"GlyphRenderer\"},{\"attributes\":{\"fill_alpha\":{\"value\":0.1},\"fill_color\":{\"value\":\"#1f77b4\"},\"height\":{\"units\":\"data\",\"value\":0.01},\"line_alpha\":{\"value\":0.1},\"width\":{\"units\":\"data\",\"value\":0.2},\"x\":{\"value\":2},\"y\":{\"value\":100.0}},\"id\":\"1360\",\"type\":\"Rect\"},{\"attributes\":{\"fill_alpha\":{\"value\":0.1},\"fill_color\":{\"value\":\"#1f77b4\"},\"height\":{\"units\":\"data\",\"value\":0.01},\"line_alpha\":{\"value\":0.1},\"width\":{\"units\":\"data\",\"value\":0.2},\"x\":{\"value\":1},\"y\":{\"value\":0.0}},\"id\":\"1300\",\"type\":\"Rect\"},{\"attributes\":{\"bottom\":{\"value\":90.0},\"fill_color\":{\"value\":\"#440154\"},\"top\":{\"value\":43.0},\"width\":{\"value\":0.7},\"x\":{\"value\":4}},\"id\":\"1459\",\"type\":\"VBar\"},{\"attributes\":{\"line_alpha\":{\"value\":0.1},\"x0\":{\"value\":3},\"x1\":{\"value\":3},\"y0\":{\"value\":100.0},\"y1\":{\"value\":99.0}},\"id\":\"1390\",\"type\":\"Segment\"},{\"attributes\":{\"x0\":{\"value\":4},\"x1\":{\"value\":4},\"y0\":{\"value\":100.0},\"y1\":{\"value\":98.0}},\"id\":\"1444\",\"type\":\"Segment\"},{\"attributes\":{\"data\":{},\"selected\":{\"id\":\"1564\"},\"selection_policy\":{\"id\":\"1565\"}},\"id\":\"1443\",\"type\":\"ColumnDataSource\"},{\"attributes\":{\"line_alpha\":{\"value\":0.1},\"x0\":{\"value\":1},\"x1\":{\"value\":1},\"y0\":{\"value\":100.0},\"y1\":{\"value\":99.0}},\"id\":\"1280\",\"type\":\"Segment\"},{\"attributes\":{\"source\":{\"id\":\"1388\"}},\"id\":\"1392\",\"type\":\"CDSView\"},{\"attributes\":{\"x0\":{\"value\":3},\"x1\":{\"value\":3},\"y0\":{\"value\":0.0},\"y1\":{\"value\":38.0}},\"id\":\"1394\",\"type\":\"Segment\"},{\"attributes\":{\"data\":{},\"selected\":{\"id\":\"1542\"},\"selection_policy\":{\"id\":\"1543\"}},\"id\":\"1338\",\"type\":\"ColumnDataSource\"},{\"attributes\":{},\"id\":\"1266\",\"type\":\"BasicTicker\"},{\"attributes\":{\"x0\":{\"value\":3},\"x1\":{\"value\":3},\"y0\":{\"value\":100.0},\"y1\":{\"value\":99.0}},\"id\":\"1389\",\"type\":\"Segment\"},{\"attributes\":{\"bottom\":{\"value\":91.0},\"fill_color\":{\"value\":\"#440154\"},\"top\":{\"value\":38.0},\"width\":{\"value\":0.7},\"x\":{\"value\":3}},\"id\":\"1404\",\"type\":\"VBar\"},{\"attributes\":{},\"id\":\"1531\",\"type\":\"UnionRenderers\"},{\"attributes\":{\"data_source\":{\"id\":\"1393\"},\"glyph\":{\"id\":\"1394\"},\"hover_glyph\":null,\"muted_glyph\":null,\"nonselection_glyph\":{\"id\":\"1395\"},\"selection_glyph\":null,\"view\":{\"id\":\"1397\"}},\"id\":\"1396\",\"type\":\"GlyphRenderer\"},{\"attributes\":{\"data\":{},\"selected\":{\"id\":\"1566\"},\"selection_policy\":{\"id\":\"1567\"}},\"id\":\"1448\",\"type\":\"ColumnDataSource\"},{\"attributes\":{\"data\":{},\"selected\":{\"id\":\"1552\"},\"selection_policy\":{\"id\":\"1553\"}},\"id\":\"1388\",\"type\":\"ColumnDataSource\"},{\"attributes\":{},\"id\":\"1532\",\"type\":\"Selection\"},{\"attributes\":{\"data_source\":{\"id\":\"1448\"},\"glyph\":{\"id\":\"1449\"},\"hover_glyph\":null,\"muted_glyph\":null,\"nonselection_glyph\":{\"id\":\"1450\"},\"selection_glyph\":null,\"view\":{\"id\":\"1452\"}},\"id\":\"1451\",\"type\":\"GlyphRenderer\"},{\"attributes\":{\"bottom\":{\"value\":99.0},\"fill_color\":{\"value\":\"#FDE725\"},\"top\":{\"value\":91.0},\"width\":{\"value\":0.7},\"x\":{\"value\":3}},\"id\":\"1399\",\"type\":\"VBar\"},{\"attributes\":{\"data\":{},\"selected\":{\"id\":\"1540\"},\"selection_policy\":{\"id\":\"1541\"}},\"id\":\"1333\",\"type\":\"ColumnDataSource\"},{\"attributes\":{\"bottom\":{\"value\":98.0},\"fill_color\":{\"value\":\"#FDE725\"},\"top\":{\"value\":90.0},\"width\":{\"value\":0.7},\"x\":{\"value\":4}},\"id\":\"1454\",\"type\":\"VBar\"},{\"attributes\":{},\"id\":\"1533\",\"type\":\"UnionRenderers\"},{\"attributes\":{\"x0\":{\"value\":2},\"x1\":{\"value\":2},\"y0\":{\"value\":0.0},\"y1\":{\"value\":42.0}},\"id\":\"1339\",\"type\":\"Segment\"},{\"attributes\":{\"line_alpha\":{\"value\":0.1},\"x0\":{\"value\":3},\"x1\":{\"value\":3},\"y0\":{\"value\":0.0},\"y1\":{\"value\":38.0}},\"id\":\"1395\",\"type\":\"Segment\"},{\"attributes\":{},\"id\":\"1534\",\"type\":\"Selection\"},{\"attributes\":{\"line_alpha\":{\"value\":0.1},\"x0\":{\"value\":2},\"x1\":{\"value\":2},\"y0\":{\"value\":100.0},\"y1\":{\"value\":99.0}},\"id\":\"1335\",\"type\":\"Segment\"},{\"attributes\":{\"source\":{\"id\":\"1393\"}},\"id\":\"1397\",\"type\":\"CDSView\"},{\"attributes\":{\"line_alpha\":{\"value\":0.1},\"x0\":{\"value\":4},\"x1\":{\"value\":4},\"y0\":{\"value\":0.0},\"y1\":{\"value\":43.0}},\"id\":\"1450\",\"type\":\"Segment\"},{\"attributes\":{\"source\":{\"id\":\"1448\"}},\"id\":\"1452\",\"type\":\"CDSView\"},{\"attributes\":{},\"id\":\"1535\",\"type\":\"UnionRenderers\"},{\"attributes\":{\"data_source\":{\"id\":\"1283\"},\"glyph\":{\"id\":\"1284\"},\"hover_glyph\":null,\"muted_glyph\":null,\"nonselection_glyph\":{\"id\":\"1285\"},\"selection_glyph\":null,\"view\":{\"id\":\"1287\"}},\"id\":\"1286\",\"type\":\"GlyphRenderer\"},{\"attributes\":{\"data\":{},\"selected\":{\"id\":\"1556\"},\"selection_policy\":{\"id\":\"1557\"}},\"id\":\"1398\",\"type\":\"ColumnDataSource\"},{\"attributes\":{},\"id\":\"1536\",\"type\":\"Selection\"},{\"attributes\":{\"data_source\":{\"id\":\"1333\"},\"glyph\":{\"id\":\"1334\"},\"hover_glyph\":null,\"muted_glyph\":null,\"nonselection_glyph\":{\"id\":\"1335\"},\"selection_glyph\":null,\"view\":{\"id\":\"1337\"}},\"id\":\"1336\",\"type\":\"GlyphRenderer\"},{\"attributes\":{\"data_source\":{\"id\":\"1398\"},\"glyph\":{\"id\":\"1399\"},\"hover_glyph\":null,\"muted_glyph\":null,\"nonselection_glyph\":{\"id\":\"1400\"},\"selection_glyph\":null,\"view\":{\"id\":\"1402\"}},\"id\":\"1401\",\"type\":\"GlyphRenderer\"},{\"attributes\":{\"data\":{},\"selected\":{\"id\":\"1568\"},\"selection_policy\":{\"id\":\"1569\"}},\"id\":\"1453\",\"type\":\"ColumnDataSource\"},{\"attributes\":{\"data_source\":{\"id\":\"1453\"},\"glyph\":{\"id\":\"1454\"},\"hover_glyph\":null,\"muted_glyph\":null,\"nonselection_glyph\":{\"id\":\"1455\"},\"selection_glyph\":null,\"view\":{\"id\":\"1457\"}},\"id\":\"1456\",\"type\":\"GlyphRenderer\"},{\"attributes\":{\"source\":{\"id\":\"1333\"}},\"id\":\"1337\",\"type\":\"CDSView\"},{\"attributes\":{},\"id\":\"1537\",\"type\":\"UnionRenderers\"},{\"attributes\":{\"bottom\":{\"value\":88.0},\"fill_color\":{\"value\":\"#440154\"},\"top\":{\"value\":56.0},\"width\":{\"value\":0.7},\"x\":{\"value\":1}},\"id\":\"1294\",\"type\":\"VBar\"},{\"attributes\":{\"source\":{\"id\":\"1398\"}},\"id\":\"1402\",\"type\":\"CDSView\"},{\"attributes\":{\"data_source\":{\"id\":\"1338\"},\"glyph\":{\"id\":\"1339\"},\"hover_glyph\":null,\"muted_glyph\":null,\"nonselection_glyph\":{\"id\":\"1340\"},\"selection_glyph\":null,\"view\":{\"id\":\"1342\"}},\"id\":\"1341\",\"type\":\"GlyphRenderer\"},{\"attributes\":{\"source\":{\"id\":\"1453\"}},\"id\":\"1457\",\"type\":\"CDSView\"},{\"attributes\":{},\"id\":\"1538\",\"type\":\"Selection\"},{\"attributes\":{\"data\":{},\"selected\":{\"id\":\"1530\"},\"selection_policy\":{\"id\":\"1531\"}},\"id\":\"1283\",\"type\":\"ColumnDataSource\"},{\"attributes\":{\"bottom\":{\"value\":99.0},\"fill_alpha\":{\"value\":0.1},\"fill_color\":{\"value\":\"#FDE725\"},\"line_alpha\":{\"value\":0.1},\"top\":{\"value\":91.0},\"width\":{\"value\":0.7},\"x\":{\"value\":3}},\"id\":\"1400\",\"type\":\"VBar\"},{\"attributes\":{},\"id\":\"1539\",\"type\":\"UnionRenderers\"},{\"attributes\":{\"bottom\":{\"value\":99.0},\"fill_color\":{\"value\":\"#FDE725\"},\"top\":{\"value\":88.0},\"width\":{\"value\":0.7},\"x\":{\"value\":1}},\"id\":\"1289\",\"type\":\"VBar\"},{\"attributes\":{\"fill_color\":{\"value\":\"#1f77b4\"},\"height\":{\"units\":\"data\",\"value\":0.01},\"width\":{\"units\":\"data\",\"value\":0.2},\"x\":{\"value\":3},\"y\":{\"value\":0.0}},\"id\":\"1409\",\"type\":\"Rect\"},{\"attributes\":{\"bottom\":{\"value\":98.0},\"fill_alpha\":{\"value\":0.1},\"fill_color\":{\"value\":\"#FDE725\"},\"line_alpha\":{\"value\":0.1},\"top\":{\"value\":90.0},\"width\":{\"value\":0.7},\"x\":{\"value\":4}},\"id\":\"1455\",\"type\":\"VBar\"},{\"attributes\":{\"data_source\":{\"id\":\"1458\"},\"glyph\":{\"id\":\"1459\"},\"hover_glyph\":null,\"muted_glyph\":null,\"nonselection_glyph\":{\"id\":\"1460\"},\"selection_glyph\":null,\"view\":{\"id\":\"1462\"}},\"id\":\"1461\",\"type\":\"GlyphRenderer\"},{\"attributes\":{},\"id\":\"1540\",\"type\":\"Selection\"},{\"attributes\":{\"line_alpha\":{\"value\":0.1},\"x0\":{\"value\":1},\"x1\":{\"value\":1},\"y0\":{\"value\":0.0},\"y1\":{\"value\":56.0}},\"id\":\"1285\",\"type\":\"Segment\"},{\"attributes\":{\"data\":{},\"selected\":{\"id\":\"1558\"},\"selection_policy\":{\"id\":\"1559\"}},\"id\":\"1403\",\"type\":\"ColumnDataSource\"},{\"attributes\":{},\"id\":\"1541\",\"type\":\"UnionRenderers\"},{\"attributes\":{\"data_source\":{\"id\":\"1403\"},\"glyph\":{\"id\":\"1404\"},\"hover_glyph\":null,\"muted_glyph\":null,\"nonselection_glyph\":{\"id\":\"1405\"},\"selection_glyph\":null,\"view\":{\"id\":\"1407\"}},\"id\":\"1406\",\"type\":\"GlyphRenderer\"},{\"attributes\":{\"source\":{\"id\":\"1283\"}},\"id\":\"1287\",\"type\":\"CDSView\"},{\"attributes\":{\"data\":{},\"selected\":{\"id\":\"1570\"},\"selection_policy\":{\"id\":\"1571\"}},\"id\":\"1458\",\"type\":\"ColumnDataSource\"},{\"attributes\":{\"fill_color\":{\"value\":\"#1f77b4\"},\"height\":{\"units\":\"data\",\"value\":0.01},\"width\":{\"units\":\"data\",\"value\":0.2},\"x\":{\"value\":4},\"y\":{\"value\":100.0}},\"id\":\"1469\",\"type\":\"Rect\"},{\"attributes\":{},\"id\":\"1543\",\"type\":\"UnionRenderers\"},{\"attributes\":{\"source\":{\"id\":\"1403\"}},\"id\":\"1407\",\"type\":\"CDSView\"},{\"attributes\":{\"source\":{\"id\":\"1458\"}},\"id\":\"1462\",\"type\":\"CDSView\"},{\"attributes\":{},\"id\":\"1259\",\"type\":\"LinearScale\"},{\"attributes\":{\"data\":{},\"selected\":{\"id\":\"1532\"},\"selection_policy\":{\"id\":\"1533\"}},\"id\":\"1288\",\"type\":\"ColumnDataSource\"},{\"attributes\":{},\"id\":\"1544\",\"type\":\"Selection\"},{\"attributes\":{\"data_source\":{\"id\":\"1288\"},\"glyph\":{\"id\":\"1289\"},\"hover_glyph\":null,\"muted_glyph\":null,\"nonselection_glyph\":{\"id\":\"1290\"},\"selection_glyph\":null,\"view\":{\"id\":\"1292\"}},\"id\":\"1291\",\"type\":\"GlyphRenderer\"},{\"attributes\":{\"fill_color\":{\"value\":\"#1f77b4\"},\"height\":{\"units\":\"data\",\"value\":0.01},\"width\":{\"units\":\"data\",\"value\":0.2},\"x\":{\"value\":4},\"y\":{\"value\":0.0}},\"id\":\"1464\",\"type\":\"Rect\"},{\"attributes\":{\"bottom\":{\"value\":91.0},\"fill_alpha\":{\"value\":0.1},\"fill_color\":{\"value\":\"#440154\"},\"line_alpha\":{\"value\":0.1},\"top\":{\"value\":38.0},\"width\":{\"value\":0.7},\"x\":{\"value\":3}},\"id\":\"1405\",\"type\":\"VBar\"},{\"attributes\":{},\"id\":\"1545\",\"type\":\"UnionRenderers\"},{\"attributes\":{\"source\":{\"id\":\"1288\"}},\"id\":\"1292\",\"type\":\"CDSView\"},{\"attributes\":{\"data\":{},\"selected\":{\"id\":\"1572\"},\"selection_policy\":{\"id\":\"1573\"}},\"id\":\"1463\",\"type\":\"ColumnDataSource\"},{\"attributes\":{\"callback\":null},\"id\":\"1269\",\"type\":\"HoverTool\"},{\"attributes\":{},\"id\":\"1546\",\"type\":\"Selection\"},{\"attributes\":{\"x0\":{\"value\":2},\"x1\":{\"value\":2},\"y0\":{\"value\":100.0},\"y1\":{\"value\":99.0}},\"id\":\"1334\",\"type\":\"Segment\"},{\"attributes\":{\"axis\":{\"id\":\"1265\"},\"dimension\":1,\"grid_line_color\":\"white\",\"grid_line_width\":0,\"ticker\":null},\"id\":\"1268\",\"type\":\"Grid\"},{\"attributes\":{\"bottom\":{\"value\":99.0},\"fill_alpha\":{\"value\":0.1},\"fill_color\":{\"value\":\"#FDE725\"},\"line_alpha\":{\"value\":0.1},\"top\":{\"value\":88.0},\"width\":{\"value\":0.7},\"x\":{\"value\":1}},\"id\":\"1290\",\"type\":\"VBar\"},{\"attributes\":{\"data\":{},\"selected\":{\"id\":\"1560\"},\"selection_policy\":{\"id\":\"1561\"}},\"id\":\"1408\",\"type\":\"ColumnDataSource\"},{\"attributes\":{\"data\":{},\"selected\":{\"id\":\"1574\"},\"selection_policy\":{\"id\":\"1575\"}},\"id\":\"1468\",\"type\":\"ColumnDataSource\"},{\"attributes\":{\"fill_color\":{\"value\":\"#1f77b4\"},\"height\":{\"units\":\"data\",\"value\":0.01},\"width\":{\"units\":\"data\",\"value\":0.2},\"x\":{\"value\":1},\"y\":{\"value\":0.0}},\"id\":\"1299\",\"type\":\"Rect\"},{\"attributes\":{},\"id\":\"1547\",\"type\":\"UnionRenderers\"},{\"attributes\":{\"source\":{\"id\":\"1463\"}},\"id\":\"1467\",\"type\":\"CDSView\"},{\"attributes\":{},\"id\":\"1548\",\"type\":\"Selection\"},{\"attributes\":{\"formatter\":{\"id\":\"1527\"},\"major_label_overrides\":{\"1\":\"gpu0\",\"2\":\"gpu1\",\"3\":\"gpu2\",\"4\":\"gpu3\"},\"major_label_text_font_size\":\"10px\",\"ticker\":{\"id\":\"1498\"}},\"id\":\"1261\",\"type\":\"LinearAxis\"},{\"attributes\":{\"data\":{},\"selected\":{\"id\":\"1562\"},\"selection_policy\":{\"id\":\"1563\"}},\"id\":\"1413\",\"type\":\"ColumnDataSource\"},{\"attributes\":{\"data\":{},\"selected\":{\"id\":\"1528\"},\"selection_policy\":{\"id\":\"1529\"}},\"id\":\"1278\",\"type\":\"ColumnDataSource\"},{\"attributes\":{\"data\":{},\"selected\":{\"id\":\"1534\"},\"selection_policy\":{\"id\":\"1535\"}},\"id\":\"1293\",\"type\":\"ColumnDataSource\"},{\"attributes\":{},\"id\":\"1549\",\"type\":\"UnionRenderers\"},{\"attributes\":{\"data_source\":{\"id\":\"1293\"},\"glyph\":{\"id\":\"1294\"},\"hover_glyph\":null,\"muted_glyph\":null,\"nonselection_glyph\":{\"id\":\"1295\"},\"selection_glyph\":null,\"view\":{\"id\":\"1297\"}},\"id\":\"1296\",\"type\":\"GlyphRenderer\"},{\"attributes\":{\"source\":{\"id\":\"1408\"}},\"id\":\"1412\",\"type\":\"CDSView\"},{\"attributes\":{\"data_source\":{\"id\":\"1463\"},\"glyph\":{\"id\":\"1464\"},\"hover_glyph\":null,\"muted_glyph\":null,\"nonselection_glyph\":{\"id\":\"1465\"},\"selection_glyph\":null,\"view\":{\"id\":\"1467\"}},\"id\":\"1466\",\"type\":\"GlyphRenderer\"},{\"attributes\":{},\"id\":\"1550\",\"type\":\"Selection\"},{\"attributes\":{\"source\":{\"id\":\"1293\"}},\"id\":\"1297\",\"type\":\"CDSView\"},{\"attributes\":{\"fill_alpha\":{\"value\":0.1},\"fill_color\":{\"value\":\"#1f77b4\"},\"height\":{\"units\":\"data\",\"value\":0.01},\"line_alpha\":{\"value\":0.1},\"width\":{\"units\":\"data\",\"value\":0.2},\"x\":{\"value\":4},\"y\":{\"value\":0.0}},\"id\":\"1465\",\"type\":\"Rect\"},{\"attributes\":{\"ticks\":[0,1,2,3,4]},\"id\":\"1498\",\"type\":\"FixedTicker\"},{\"attributes\":{},\"id\":\"1551\",\"type\":\"UnionRenderers\"},{\"attributes\":{\"data_source\":{\"id\":\"1408\"},\"glyph\":{\"id\":\"1409\"},\"hover_glyph\":null,\"muted_glyph\":null,\"nonselection_glyph\":{\"id\":\"1410\"},\"selection_glyph\":null,\"view\":{\"id\":\"1412\"}},\"id\":\"1411\",\"type\":\"GlyphRenderer\"},{\"attributes\":{\"bottom\":{\"value\":88.0},\"fill_alpha\":{\"value\":0.1},\"fill_color\":{\"value\":\"#440154\"},\"line_alpha\":{\"value\":0.1},\"top\":{\"value\":56.0},\"width\":{\"value\":0.7},\"x\":{\"value\":1}},\"id\":\"1295\",\"type\":\"VBar\"},{\"attributes\":{\"fill_alpha\":{\"value\":0.1},\"fill_color\":{\"value\":\"#1f77b4\"},\"height\":{\"units\":\"data\",\"value\":0.01},\"line_alpha\":{\"value\":0.1},\"width\":{\"units\":\"data\",\"value\":0.2},\"x\":{\"value\":3},\"y\":{\"value\":0.0}},\"id\":\"1410\",\"type\":\"Rect\"},{\"attributes\":{},\"id\":\"1542\",\"type\":\"Selection\"},{\"attributes\":{},\"id\":\"1552\",\"type\":\"Selection\"},{\"attributes\":{\"data_source\":{\"id\":\"1413\"},\"glyph\":{\"id\":\"1414\"},\"hover_glyph\":null,\"muted_glyph\":null,\"nonselection_glyph\":{\"id\":\"1415\"},\"selection_glyph\":null,\"view\":{\"id\":\"1417\"}},\"id\":\"1416\",\"type\":\"GlyphRenderer\"},{\"attributes\":{},\"id\":\"1255\",\"type\":\"DataRange1d\"},{\"attributes\":{},\"id\":\"1270\",\"type\":\"WheelZoomTool\"},{\"attributes\":{},\"id\":\"1553\",\"type\":\"UnionRenderers\"},{\"attributes\":{\"line_alpha\":{\"value\":0.1},\"x0\":{\"value\":2},\"x1\":{\"value\":2},\"y0\":{\"value\":0.0},\"y1\":{\"value\":42.0}},\"id\":\"1340\",\"type\":\"Segment\"},{\"attributes\":{\"source\":{\"id\":\"1468\"}},\"id\":\"1472\",\"type\":\"CDSView\"},{\"attributes\":{\"text\":\"Node algo-1\"},\"id\":\"1251\",\"type\":\"Title\"},{\"attributes\":{\"data\":{},\"selected\":{\"id\":\"1536\"},\"selection_policy\":{\"id\":\"1537\"}},\"id\":\"1298\",\"type\":\"ColumnDataSource\"},{\"attributes\":{\"line_alpha\":{\"value\":0.1},\"x0\":{\"value\":4},\"x1\":{\"value\":4},\"y0\":{\"value\":100.0},\"y1\":{\"value\":98.0}},\"id\":\"1445\",\"type\":\"Segment\"},{\"attributes\":{},\"id\":\"1554\",\"type\":\"Selection\"},{\"attributes\":{\"fill_color\":{\"value\":\"#1f77b4\"},\"height\":{\"units\":\"data\",\"value\":0.01},\"width\":{\"units\":\"data\",\"value\":0.2},\"x\":{\"value\":3},\"y\":{\"value\":100.0}},\"id\":\"1414\",\"type\":\"Rect\"},{\"attributes\":{\"fill_alpha\":{\"value\":0.1},\"fill_color\":{\"value\":\"#1f77b4\"},\"height\":{\"units\":\"data\",\"value\":0.01},\"line_alpha\":{\"value\":0.1},\"width\":{\"units\":\"data\",\"value\":0.2},\"x\":{\"value\":3},\"y\":{\"value\":100.0}},\"id\":\"1415\",\"type\":\"Rect\"},{\"attributes\":{},\"id\":\"1555\",\"type\":\"UnionRenderers\"},{\"attributes\":{},\"id\":\"1257\",\"type\":\"LinearScale\"},{\"attributes\":{\"data_source\":{\"id\":\"1468\"},\"glyph\":{\"id\":\"1469\"},\"hover_glyph\":null,\"muted_glyph\":null,\"nonselection_glyph\":{\"id\":\"1470\"},\"selection_glyph\":null,\"view\":{\"id\":\"1472\"}},\"id\":\"1471\",\"type\":\"GlyphRenderer\"},{\"attributes\":{\"data\":{},\"selected\":{\"id\":\"1538\"},\"selection_policy\":{\"id\":\"1539\"}},\"id\":\"1303\",\"type\":\"ColumnDataSource\"},{\"attributes\":{\"data_source\":{\"id\":\"1298\"},\"glyph\":{\"id\":\"1299\"},\"hover_glyph\":null,\"muted_glyph\":null,\"nonselection_glyph\":{\"id\":\"1300\"},\"selection_glyph\":null,\"view\":{\"id\":\"1302\"}},\"id\":\"1301\",\"type\":\"GlyphRenderer\"},{\"attributes\":{\"source\":{\"id\":\"1278\"}},\"id\":\"1282\",\"type\":\"CDSView\"},{\"attributes\":{\"fill_alpha\":{\"value\":0.1},\"fill_color\":{\"value\":\"#1f77b4\"},\"height\":{\"units\":\"data\",\"value\":0.01},\"line_alpha\":{\"value\":0.1},\"width\":{\"units\":\"data\",\"value\":0.2},\"x\":{\"value\":4},\"y\":{\"value\":100.0}},\"id\":\"1470\",\"type\":\"Rect\"},{\"attributes\":{},\"id\":\"1556\",\"type\":\"Selection\"},{\"attributes\":{\"axis\":{\"id\":\"1261\"},\"grid_line_color\":null,\"grid_line_width\":0,\"ticker\":null},\"id\":\"1264\",\"type\":\"Grid\"},{\"attributes\":{\"source\":{\"id\":\"1413\"}},\"id\":\"1417\",\"type\":\"CDSView\"},{\"attributes\":{\"x0\":{\"value\":1},\"x1\":{\"value\":1},\"y0\":{\"value\":0.0},\"y1\":{\"value\":56.0}},\"id\":\"1284\",\"type\":\"Segment\"},{\"attributes\":{\"bottom\":{\"value\":90.0},\"fill_alpha\":{\"value\":0.1},\"fill_color\":{\"value\":\"#440154\"},\"line_alpha\":{\"value\":0.1},\"top\":{\"value\":43.0},\"width\":{\"value\":0.7},\"x\":{\"value\":4}},\"id\":\"1460\",\"type\":\"VBar\"},{\"attributes\":{},\"id\":\"1557\",\"type\":\"UnionRenderers\"},{\"attributes\":{\"source\":{\"id\":\"1298\"}},\"id\":\"1302\",\"type\":\"CDSView\"},{\"attributes\":{},\"id\":\"1530\",\"type\":\"Selection\"},{\"attributes\":{\"active_drag\":\"auto\",\"active_inspect\":\"auto\",\"active_multi\":null,\"active_scroll\":\"auto\",\"active_tap\":\"auto\",\"tools\":[{\"id\":\"1269\"},{\"id\":\"1270\"},{\"id\":\"1271\"},{\"id\":\"1272\"}]},\"id\":\"1273\",\"type\":\"Toolbar\"},{\"attributes\":{},\"id\":\"1527\",\"type\":\"BasicTickFormatter\"},{\"attributes\":{},\"id\":\"1558\",\"type\":\"Selection\"},{\"attributes\":{\"x0\":{\"value\":4},\"x1\":{\"value\":4},\"y0\":{\"value\":0.0},\"y1\":{\"value\":43.0}},\"id\":\"1449\",\"type\":\"Segment\"},{\"attributes\":{\"bottom\":{\"value\":90.0},\"fill_color\":{\"value\":\"#440154\"},\"top\":{\"value\":42.0},\"width\":{\"value\":0.7},\"x\":{\"value\":2}},\"id\":\"1349\",\"type\":\"VBar\"},{\"attributes\":{},\"id\":\"1559\",\"type\":\"UnionRenderers\"},{\"attributes\":{},\"id\":\"1271\",\"type\":\"ResetTool\"},{\"attributes\":{\"fill_color\":{\"value\":\"#1f77b4\"},\"height\":{\"units\":\"data\",\"value\":0.01},\"width\":{\"units\":\"data\",\"value\":0.2},\"x\":{\"value\":1},\"y\":{\"value\":100.0}},\"id\":\"1304\",\"type\":\"Rect\"},{\"attributes\":{},\"id\":\"1528\",\"type\":\"Selection\"},{\"attributes\":{},\"id\":\"1272\",\"type\":\"PanTool\"},{\"attributes\":{\"fill_alpha\":{\"value\":0.1},\"fill_color\":{\"value\":\"#1f77b4\"},\"height\":{\"units\":\"data\",\"value\":0.01},\"line_alpha\":{\"value\":0.1},\"width\":{\"units\":\"data\",\"value\":0.2},\"x\":{\"value\":1},\"y\":{\"value\":100.0}},\"id\":\"1305\",\"type\":\"Rect\"},{\"attributes\":{},\"id\":\"1560\",\"type\":\"Selection\"},{\"attributes\":{},\"id\":\"1525\",\"type\":\"BasicTickFormatter\"},{\"attributes\":{\"source\":{\"id\":\"1303\"}},\"id\":\"1307\",\"type\":\"CDSView\"},{\"attributes\":{},\"id\":\"1561\",\"type\":\"UnionRenderers\"},{\"attributes\":{\"data_source\":{\"id\":\"1443\"},\"glyph\":{\"id\":\"1444\"},\"hover_glyph\":null,\"muted_glyph\":null,\"nonselection_glyph\":{\"id\":\"1445\"},\"selection_glyph\":null,\"view\":{\"id\":\"1447\"}},\"id\":\"1446\",\"type\":\"GlyphRenderer\"},{\"attributes\":{},\"id\":\"1529\",\"type\":\"UnionRenderers\"},{\"attributes\":{\"source\":{\"id\":\"1443\"}},\"id\":\"1447\",\"type\":\"CDSView\"},{\"attributes\":{\"data_source\":{\"id\":\"1303\"},\"glyph\":{\"id\":\"1304\"},\"hover_glyph\":null,\"muted_glyph\":null,\"nonselection_glyph\":{\"id\":\"1305\"},\"selection_glyph\":null,\"view\":{\"id\":\"1307\"}},\"id\":\"1306\",\"type\":\"GlyphRenderer\"}],\"root_ids\":[\"1250\"]},\"title\":\"Bokeh Application\",\"version\":\"2.2.3\"}};\n",
       "  var render_items = [{\"docid\":\"2d048724-a4f9-4f12-948d-163d075d3723\",\"root_ids\":[\"1250\"],\"roots\":{\"1250\":\"270818ed-8771-479b-a17e-65af75195896\"}}];\n",
       "  root.Bokeh.embed.embed_items_notebook(docs_json, render_items);\n",
       "\n",
       "  }\n",
       "  if (root.Bokeh !== undefined) {\n",
       "    embed_document(root);\n",
       "  } else {\n",
       "    var attempts = 0;\n",
       "    var timer = setInterval(function(root) {\n",
       "      if (root.Bokeh !== undefined) {\n",
       "        clearInterval(timer);\n",
       "        embed_document(root);\n",
       "      } else {\n",
       "        attempts++;\n",
       "        if (attempts > 100) {\n",
       "          clearInterval(timer);\n",
       "          console.log(\"Bokeh: ERROR: Unable to run BokehJS code because BokehJS library is missing\");\n",
       "        }\n",
       "      }\n",
       "    }, 10, root)\n",
       "  }\n",
       "})(window);"
      ],
      "application/vnd.bokehjs_exec.v0+json": ""
     },
     "metadata": {
      "application/vnd.bokehjs_exec.v0+json": {
       "id": "1250"
      }
     },
     "output_type": "display_data"
    }
   ],
   "source": [
    "if analyse_phase == \"training\":\n",
    "    display(Markdown(\"\"\"### GPU utilization analysis\\n\\n\"\"\"))\n",
    "    display(Markdown(\"\"\"**Usage per GPU** \\n\\n\"\"\"))\n",
    "    report = load_report('LowGPUUtilization')\n",
    "    if report:\n",
    "        params = report['RuleParameters'].split('\\n')\n",
    "        threshold_p95 = params[0].split(':')[1]\n",
    "        threshold_p5 = params[1].split(':')[1]\n",
    "        window = params[2].split(':')[1]\n",
    "        patience = params[3].split(':')[1]\n",
    "        violations = report['Violations']\n",
    "        triggered = report['RuleTriggered']\n",
    "        datapoints = report['Datapoints']\n",
    "        \n",
    "        text=Paragraph(text=f\"\"\"The LowGPUUtilization rule checks for a low and fluctuating GPU usage. If the GPU usage is \n",
    "        consistently low, it might be caused by bottlenecks or a small batch size. If usage is heavily \n",
    "        fluctuating, it can be due to bottlenecks or blocking calls. The rule computed the 95th and 5th \n",
    "        percentile of GPU utilization on {window} continuous datapoints and found {violations} cases where \n",
    "        p95 was above {threshold_p95}% and p5 was below {threshold_p5}%. If p95 is high and p5 is low,\n",
    "        it might indicate that the GPU usage is highly fluctuating. If both values are very low, \n",
    "        it would mean that the machine is underutilized. During initialization, the GPU usage is likely zero, \n",
    "        so the rule skipped the first {patience} data points.\n",
    "        The rule analysed {datapoints} datapoints and triggered {triggered} times.\"\"\", width=800)\n",
    "        show(text)\n",
    "\n",
    "        \n",
    "        if len(report['Details']) > 0:\n",
    "            \n",
    "            timestamp = us_since_epoch_to_human_readable_time(report['Details']['last_timestamp'])\n",
    "            date = datetime.datetime.strptime(timestamp, '%Y-%m-%dT%H:%M:%S:%f')\n",
    "            day = date.date().strftime(\"%m/%d/%Y\")\n",
    "            hour = date.time().strftime(\"%H:%M:%S\")\n",
    "            text = Paragraph(text=f\"\"\"Your training job is underutilizing the instance. You may want to consider\n",
    "            to either switch to a smaller instance type or to increase the batch size. \n",
    "            The last time that the LowGPUUtilization rule was triggered in your training job was on {day} at {hour}.\n",
    "            The following boxplots are a snapshot from the timestamps. \n",
    "            They show the utilization per GPU (without outliers).\n",
    "            To get a better understanding of the workloads throughout the whole training,\n",
    "            you can check the workload histogram in the next section.\"\"\", width=800)\n",
    "            show(text)\n",
    "            \n",
    "            del report['Details']['last_timestamp']\n",
    "            \n",
    "            for node_id in report['Details']:\n",
    "                \n",
    "                plot = figure(plot_height=350, \n",
    "                          plot_width=1000,\n",
    "                          toolbar_location='right',\n",
    "                          tools=\"hover,wheel_zoom,reset,pan\", \n",
    "                          title=f\"Node {node_id}\",\n",
    "                          x_range=(0,17),\n",
    "                          )\n",
    "                \n",
    "                for index, key in enumerate(report['Details'][node_id]):\n",
    "                    display(Markdown(f\"\"\"**GPU utilization of {key} on node {node_id}:**\"\"\"))\n",
    "                    text = \"\"\n",
    "                    gpu_max = report['Details'][node_id][key]['gpu_max']\n",
    "                    p_95 = report['Details'][node_id][key]['gpu_95']\n",
    "                    p_5 = report['Details'][node_id][key]['gpu_5']\n",
    "                    text = f\"\"\"{text} The max utilization of {key} on node {node_id} was {gpu_max}%\"\"\"\n",
    "                    if p_95 < int(threshold_p95): \n",
    "                        text = f\"\"\"{text} and the 95th percentile was only {p_95}%. \n",
    "                        {key} on node {node_id} is underutilized\"\"\"\n",
    "                    if p_5 < int(threshold_p5): \n",
    "                        text = f\"\"\"{text} and the 5th percentile was only {p_5}%\"\"\"\n",
    "                    if p_95 - p_5 > 50:\n",
    "                        text = f\"\"\"{text} The difference between 5th percentile {p_5}% and 95th percentile {p_95}% is quite \n",
    "                        significant, which means that utilization on {key} is fluctuating quite a lot.\\n\"\"\"\n",
    "     \n",
    "                    upper = report['Details'][node_id][key]['upper']\n",
    "                    lower = report['Details'][node_id][key]['lower']\n",
    "                    p75 = report['Details'][node_id][key]['p75']\n",
    "                    p25 = report['Details'][node_id][key]['p25']\n",
    "                    p50 = report['Details'][node_id][key]['p50']\n",
    "\n",
    "                    plot.segment(index+1, upper, index+1, p75, line_color=\"black\")\n",
    "                    plot.segment(index+1, lower, index+1, p25, line_color=\"black\")\n",
    "\n",
    "                    plot.vbar(index+1, 0.7, p50, p75, fill_color=\"#FDE725\", line_color=\"black\")\n",
    "                    plot.vbar(index+1, 0.7, p25, p50, fill_color=\"#440154\", line_color=\"black\")\n",
    "\n",
    "                    plot.rect(index+1, lower, 0.2, 0.01, line_color=\"black\")\n",
    "                    plot.rect(index+1, upper, 0.2, 0.01, line_color=\"black\")\n",
    "\n",
    "                    plot.xaxis.major_label_overrides[index+1] = key\n",
    "                    plot.xgrid.grid_line_color = None\n",
    "                    plot.ygrid.grid_line_color = \"white\"\n",
    "                    plot.grid.grid_line_width = 0\n",
    "\n",
    "                    plot.xaxis.major_label_text_font_size=\"10px\"\n",
    "                    text=Paragraph(text=f\"\"\"{text}\"\"\", width=900)\n",
    "                    show(text)\n",
    "                plot.yaxis.axis_label = \"Utilization in %\"\n",
    "                plot.xaxis.ticker = np.arange(index+2)\n",
    "                \n",
    "                show(plot)"
   ]
  },
  {
   "cell_type": "code",
   "execution_count": 21,
   "metadata": {
    "execution": {
     "iopub.execute_input": "2021-05-30T22:12:55.378051Z",
     "iopub.status.busy": "2021-05-30T22:12:55.377470Z",
     "iopub.status.idle": "2021-05-30T22:12:55.462954Z",
     "shell.execute_reply": "2021-05-30T22:12:55.463587Z"
    },
    "papermill": {
     "duration": 0.126966,
     "end_time": "2021-05-30T22:12:55.463788",
     "exception": false,
     "start_time": "2021-05-30T22:12:55.336822",
     "status": "completed"
    },
    "tags": [
     "hide-input"
    ]
   },
   "outputs": [
    {
     "data": {
      "text/markdown": [
       "**Workload balancing**\n",
       "\n"
      ],
      "text/plain": [
       "<IPython.core.display.Markdown object>"
      ]
     },
     "metadata": {},
     "output_type": "display_data"
    },
    {
     "data": {
      "text/html": [
       "\n",
       "\n",
       "\n",
       "\n",
       "\n",
       "\n",
       "  <div class=\"bk-root\" id=\"b88bedc0-3471-4244-a892-0f2984145bf2\" data-root-id=\"1836\"></div>\n"
      ]
     },
     "metadata": {},
     "output_type": "display_data"
    },
    {
     "data": {
      "application/javascript": [
       "(function(root) {\n",
       "  function embed_document(root) {\n",
       "    \n",
       "  var docs_json = {\"d5dcab0f-d46f-444a-9bf5-671d25181336\":{\"roots\":{\"references\":[{\"attributes\":{\"text\":\"The LoadBalancing rule helps to detect issues in workload balancing \\n        between multiple GPUs. \\n        It computes a histogram of GPU utilization values for each GPU and compares then the \\n        similarity between histograms. The rule checked if the distance of histograms is larger than the \\n        threshold of 0.2.\\n        During initialization utilization is likely zero, so the rule skipped the first 1000 data points.\\n        \",\"width\":900},\"id\":\"1836\",\"type\":\"Paragraph\"}],\"root_ids\":[\"1836\"]},\"title\":\"Bokeh Application\",\"version\":\"2.2.3\"}};\n",
       "  var render_items = [{\"docid\":\"d5dcab0f-d46f-444a-9bf5-671d25181336\",\"root_ids\":[\"1836\"],\"roots\":{\"1836\":\"b88bedc0-3471-4244-a892-0f2984145bf2\"}}];\n",
       "  root.Bokeh.embed.embed_items_notebook(docs_json, render_items);\n",
       "\n",
       "  }\n",
       "  if (root.Bokeh !== undefined) {\n",
       "    embed_document(root);\n",
       "  } else {\n",
       "    var attempts = 0;\n",
       "    var timer = setInterval(function(root) {\n",
       "      if (root.Bokeh !== undefined) {\n",
       "        clearInterval(timer);\n",
       "        embed_document(root);\n",
       "      } else {\n",
       "        attempts++;\n",
       "        if (attempts > 100) {\n",
       "          clearInterval(timer);\n",
       "          console.log(\"Bokeh: ERROR: Unable to run BokehJS code because BokehJS library is missing\");\n",
       "        }\n",
       "      }\n",
       "    }, 10, root)\n",
       "  }\n",
       "})(window);"
      ],
      "application/vnd.bokehjs_exec.v0+json": ""
     },
     "metadata": {
      "application/vnd.bokehjs_exec.v0+json": {
       "id": "1836"
      }
     },
     "output_type": "display_data"
    },
    {
     "data": {
      "text/html": [
       "\n",
       "\n",
       "\n",
       "\n",
       "\n",
       "\n",
       "  <div class=\"bk-root\" id=\"a9970812-0c20-416d-942e-36ad74dc44fc\" data-root-id=\"2016\"></div>\n"
      ]
     },
     "metadata": {},
     "output_type": "display_data"
    },
    {
     "data": {
      "application/javascript": [
       "(function(root) {\n",
       "  function embed_document(root) {\n",
       "    \n",
       "  var docs_json = {\"172fcfab-88e8-4500-8548-cb92b964825a\":{\"roots\":{\"references\":[{\"attributes\":{\"children\":[{\"id\":\"2015\"},{\"id\":\"1913\"}]},\"id\":\"2016\",\"type\":\"Column\"},{\"attributes\":{},\"id\":\"1974\",\"type\":\"Selection\"},{\"attributes\":{\"data\":{\"left\":[0,2,4,6,8,10,12,14,16,18,20,22,24,26,28,30,32,34,36,38,40,42,44,46,48,50,52,54,56,58,60,62,64,66,68,70,72,74,76,78,80,82,84,86,88,90,92,94,96],\"right\":[2,4,6,8,10,12,14,16,18,20,22,24,26,28,30,32,34,36,38,40,42,44,46,48,50,52,54,56,58,60,62,64,66,68,70,72,74,76,78,80,82,84,86,88,90,92,94,96,98],\"top\":[1834,142,123,115,349,385,384,515,511,401,616,600,594,565,306,299,244,264,276,273,289,450,424,342,238,226,216,251,216,241,244,223,239,218,202,245,255,247,288,253,272,295,304,421,1083,735,1113,1849,5435]},\"selected\":{\"id\":\"1992\"},\"selection_policy\":{\"id\":\"1993\"}},\"id\":\"1977\",\"type\":\"ColumnDataSource\"},{\"attributes\":{\"below\":[{\"id\":\"1924\"}],\"center\":[{\"id\":\"1927\"},{\"id\":\"1931\"},{\"id\":\"1959\"}],\"left\":[{\"id\":\"1928\"}],\"plot_height\":450,\"plot_width\":850,\"renderers\":[{\"id\":\"1949\"},{\"id\":\"1964\"},{\"id\":\"1980\"},{\"id\":\"1998\"}],\"title\":{\"id\":\"1914\"},\"toolbar\":{\"id\":\"1939\"},\"x_range\":{\"id\":\"1916\"},\"x_scale\":{\"id\":\"1920\"},\"y_range\":{\"id\":\"1918\"},\"y_scale\":{\"id\":\"1922\"}},\"id\":\"1913\",\"subtype\":\"Figure\",\"type\":\"Plot\"},{\"attributes\":{\"axis\":{\"id\":\"1928\"},\"dimension\":1,\"grid_line_color\":\"white\",\"ticker\":null},\"id\":\"1931\",\"type\":\"Grid\"},{\"attributes\":{\"data_source\":{\"id\":\"1977\"},\"glyph\":{\"id\":\"1978\"},\"hover_glyph\":null,\"muted_glyph\":null,\"nonselection_glyph\":{\"id\":\"1979\"},\"selection_glyph\":null,\"view\":{\"id\":\"1981\"}},\"id\":\"1980\",\"type\":\"GlyphRenderer\"},{\"attributes\":{\"bottom\":{\"value\":0},\"fill_alpha\":{\"value\":0.1},\"fill_color\":{\"value\":\"#30678D\"},\"left\":{\"field\":\"left\"},\"line_alpha\":{\"value\":0.1},\"line_color\":{\"value\":\"white\"},\"right\":{\"field\":\"right\"},\"top\":{\"field\":\"top\"}},\"id\":\"1963\",\"type\":\"Quad\"},{\"attributes\":{\"data\":{\"left\":[0,2,4,6,8,10,12,14,16,18,20,22,24,26,28,30,32,34,36,38,40,42,44,46,48,50,52,54,56,58,60,62,64,66,68,70,72,74,76,78,80,82,84,86,88,90,92,94,96],\"right\":[2,4,6,8,10,12,14,16,18,20,22,24,26,28,30,32,34,36,38,40,42,44,46,48,50,52,54,56,58,60,62,64,66,68,70,72,74,76,78,80,82,84,86,88,90,92,94,96,98],\"top\":[1509,103,112,128,347,396,349,385,502,366,499,566,588,587,289,249,251,255,247,256,312,483,449,377,267,243,301,239,240,238,239,245,230,269,246,269,305,278,344,376,362,398,454,1122,633,915,1359,1992,4638]},\"selected\":{\"id\":\"2012\"},\"selection_policy\":{\"id\":\"2013\"}},\"id\":\"1995\",\"type\":\"ColumnDataSource\"},{\"attributes\":{\"end\":100,\"start\":-1},\"id\":\"1916\",\"type\":\"Range1d\"},{\"attributes\":{},\"id\":\"1929\",\"type\":\"BasicTicker\"},{\"attributes\":{\"source\":{\"id\":\"1977\"}},\"id\":\"1981\",\"type\":\"CDSView\"},{\"attributes\":{},\"id\":\"1992\",\"type\":\"Selection\"},{\"attributes\":{\"data\":{\"left\":[0,2,4,6,8,10,12,14,16,18,20,22,24,26,28,30,32,34,36,38,40,42,44,46,48,50,52,54,56,58,60,62,64,66,68,70,72,74,76,78,80,82,84,86,88,90,92,94,96],\"right\":[2,4,6,8,10,12,14,16,18,20,22,24,26,28,30,32,34,36,38,40,42,44,46,48,50,52,54,56,58,60,62,64,66,68,70,72,74,76,78,80,82,84,86,88,90,92,94,96,98],\"top\":[1043,34,50,32,49,38,32,30,53,46,54,67,91,187,249,248,292,312,359,337,355,366,406,391,405,416,337,299,289,336,616,329,344,462,421,464,558,699,798,677,675,616,720,754,901,1125,1580,2228,3959]},\"selected\":{\"id\":\"1957\"},\"selection_policy\":{\"id\":\"1958\"}},\"id\":\"1946\",\"type\":\"ColumnDataSource\"},{\"attributes\":{\"data\":{\"left\":[0,2,4,6,8,10,12,14,16,18,20,22,24,26,28,30,32,34,36,38,40,42,44,46,48,50,52,54,56,58,60,62,64,66,68,70,72,74,76,78,80,82,84,86,88,90,92,94,96],\"right\":[2,4,6,8,10,12,14,16,18,20,22,24,26,28,30,32,34,36,38,40,42,44,46,48,50,52,54,56,58,60,62,64,66,68,70,72,74,76,78,80,82,84,86,88,90,92,94,96,98],\"top\":[1310,97,105,115,332,364,410,365,512,481,475,589,564,570,301,280,238,217,232,290,337,455,327,302,290,292,280,296,241,237,265,206,255,266,307,324,337,365,414,377,453,508,492,581,700,1515,1337,1993,4072]},\"selected\":{\"id\":\"1974\"},\"selection_policy\":{\"id\":\"1975\"}},\"id\":\"1961\",\"type\":\"ColumnDataSource\"},{\"attributes\":{\"label\":{\"value\":\"gpu0\"},\"renderers\":[{\"id\":\"1949\"}]},\"id\":\"1960\",\"type\":\"LegendItem\"},{\"attributes\":{\"bottom\":{\"value\":0},\"fill_alpha\":{\"value\":0.8},\"fill_color\":{\"value\":\"#440154\"},\"left\":{\"field\":\"left\"},\"line_color\":{\"value\":\"white\"},\"right\":{\"field\":\"right\"},\"top\":{\"field\":\"top\"}},\"id\":\"1947\",\"type\":\"Quad\"},{\"attributes\":{\"label\":{\"value\":\"gpu2\"},\"renderers\":[{\"id\":\"1980\"}]},\"id\":\"1994\",\"type\":\"LegendItem\"},{\"attributes\":{\"bottom_units\":\"screen\",\"fill_alpha\":0.5,\"fill_color\":\"lightgrey\",\"left_units\":\"screen\",\"level\":\"overlay\",\"line_alpha\":1.0,\"line_color\":\"black\",\"line_dash\":[4,4],\"line_width\":2,\"right_units\":\"screen\",\"top_units\":\"screen\"},\"id\":\"1938\",\"type\":\"BoxAnnotation\"},{\"attributes\":{},\"id\":\"1958\",\"type\":\"UnionRenderers\"},{\"attributes\":{\"active_drag\":\"auto\",\"active_inspect\":\"auto\",\"active_multi\":null,\"active_scroll\":\"auto\",\"active_tap\":\"auto\",\"tools\":[{\"id\":\"1932\"},{\"id\":\"1933\"},{\"id\":\"1934\"},{\"id\":\"1935\"},{\"id\":\"1936\"},{\"id\":\"1937\"}]},\"id\":\"1939\",\"type\":\"Toolbar\"},{\"attributes\":{\"bottom\":{\"value\":0},\"fill_alpha\":{\"value\":0.8},\"fill_color\":{\"value\":\"#30678D\"},\"left\":{\"field\":\"left\"},\"line_color\":{\"value\":\"white\"},\"right\":{\"field\":\"right\"},\"top\":{\"field\":\"top\"}},\"id\":\"1962\",\"type\":\"Quad\"},{\"attributes\":{},\"id\":\"1993\",\"type\":\"UnionRenderers\"},{\"attributes\":{\"axis_label\":\"Occurrences\",\"formatter\":{\"id\":\"1952\"},\"ticker\":{\"id\":\"1929\"}},\"id\":\"1928\",\"type\":\"LinearAxis\"},{\"attributes\":{\"bottom\":{\"value\":0},\"fill_alpha\":{\"value\":0.8},\"fill_color\":{\"value\":\"#FDE724\"},\"left\":{\"field\":\"left\"},\"line_color\":{\"value\":\"white\"},\"right\":{\"field\":\"right\"},\"top\":{\"field\":\"top\"}},\"id\":\"1996\",\"type\":\"Quad\"},{\"attributes\":{},\"id\":\"1932\",\"type\":\"PanTool\"},{\"attributes\":{},\"id\":\"1925\",\"type\":\"BasicTicker\"},{\"attributes\":{},\"id\":\"2012\",\"type\":\"Selection\"},{\"attributes\":{\"data_source\":{\"id\":\"1946\"},\"glyph\":{\"id\":\"1947\"},\"hover_glyph\":null,\"muted_glyph\":null,\"nonselection_glyph\":{\"id\":\"1948\"},\"selection_glyph\":null,\"view\":{\"id\":\"1950\"}},\"id\":\"1949\",\"type\":\"GlyphRenderer\"},{\"attributes\":{\"axis\":{\"id\":\"1924\"},\"grid_line_color\":\"white\",\"ticker\":null},\"id\":\"1927\",\"type\":\"Grid\"},{\"attributes\":{},\"id\":\"1933\",\"type\":\"WheelZoomTool\"},{\"attributes\":{\"bottom\":{\"value\":0},\"fill_alpha\":{\"value\":0.8},\"fill_color\":{\"value\":\"#35B778\"},\"left\":{\"field\":\"left\"},\"line_color\":{\"value\":\"white\"},\"right\":{\"field\":\"right\"},\"top\":{\"field\":\"top\"}},\"id\":\"1978\",\"type\":\"Quad\"},{\"attributes\":{\"text\":\"Workloads on node algo-1\"},\"id\":\"1914\",\"type\":\"Title\"},{\"attributes\":{\"overlay\":{\"id\":\"1938\"}},\"id\":\"1934\",\"type\":\"BoxZoomTool\"},{\"attributes\":{\"source\":{\"id\":\"1946\"}},\"id\":\"1950\",\"type\":\"CDSView\"},{\"attributes\":{},\"id\":\"1957\",\"type\":\"Selection\"},{\"attributes\":{\"bottom\":{\"value\":0},\"fill_alpha\":{\"value\":0.1},\"fill_color\":{\"value\":\"#440154\"},\"left\":{\"field\":\"left\"},\"line_alpha\":{\"value\":0.1},\"line_color\":{\"value\":\"white\"},\"right\":{\"field\":\"right\"},\"top\":{\"field\":\"top\"}},\"id\":\"1948\",\"type\":\"Quad\"},{\"attributes\":{\"click_policy\":\"hide\",\"items\":[{\"id\":\"1960\"},{\"id\":\"1976\"},{\"id\":\"1994\"},{\"id\":\"2014\"}]},\"id\":\"1959\",\"type\":\"Legend\"},{\"attributes\":{},\"id\":\"1935\",\"type\":\"SaveTool\"},{\"attributes\":{},\"id\":\"1952\",\"type\":\"BasicTickFormatter\"},{\"attributes\":{},\"id\":\"1920\",\"type\":\"LinearScale\"},{\"attributes\":{},\"id\":\"1936\",\"type\":\"ResetTool\"},{\"attributes\":{\"bottom\":{\"value\":0},\"fill_alpha\":{\"value\":0.1},\"fill_color\":{\"value\":\"#FDE724\"},\"left\":{\"field\":\"left\"},\"line_alpha\":{\"value\":0.1},\"line_color\":{\"value\":\"white\"},\"right\":{\"field\":\"right\"},\"top\":{\"field\":\"top\"}},\"id\":\"1997\",\"type\":\"Quad\"},{\"attributes\":{},\"id\":\"1954\",\"type\":\"BasicTickFormatter\"},{\"attributes\":{\"data_source\":{\"id\":\"1995\"},\"glyph\":{\"id\":\"1996\"},\"hover_glyph\":null,\"muted_glyph\":null,\"nonselection_glyph\":{\"id\":\"1997\"},\"selection_glyph\":null,\"view\":{\"id\":\"1999\"}},\"id\":\"1998\",\"type\":\"GlyphRenderer\"},{\"attributes\":{\"axis_label\":\"Utilization\",\"formatter\":{\"id\":\"1954\"},\"ticker\":{\"id\":\"1925\"}},\"id\":\"1924\",\"type\":\"LinearAxis\"},{\"attributes\":{},\"id\":\"1937\",\"type\":\"HelpTool\"},{\"attributes\":{\"source\":{\"id\":\"1995\"}},\"id\":\"1999\",\"type\":\"CDSView\"},{\"attributes\":{\"label\":{\"value\":\"gpu3\"},\"renderers\":[{\"id\":\"1998\"}]},\"id\":\"2014\",\"type\":\"LegendItem\"},{\"attributes\":{},\"id\":\"1922\",\"type\":\"LinearScale\"},{\"attributes\":{\"bottom\":{\"value\":0},\"fill_alpha\":{\"value\":0.1},\"fill_color\":{\"value\":\"#35B778\"},\"left\":{\"field\":\"left\"},\"line_alpha\":{\"value\":0.1},\"line_color\":{\"value\":\"white\"},\"right\":{\"field\":\"right\"},\"top\":{\"field\":\"top\"}},\"id\":\"1979\",\"type\":\"Quad\"},{\"attributes\":{\"data_source\":{\"id\":\"1961\"},\"glyph\":{\"id\":\"1962\"},\"hover_glyph\":null,\"muted_glyph\":null,\"nonselection_glyph\":{\"id\":\"1963\"},\"selection_glyph\":null,\"view\":{\"id\":\"1965\"}},\"id\":\"1964\",\"type\":\"GlyphRenderer\"},{\"attributes\":{},\"id\":\"2013\",\"type\":\"UnionRenderers\"},{\"attributes\":{\"text\":\"The following histogram shows the workload per GPU on node algo-1. \\n                You can enable/disable the visualization of a workload by clicking on the label in the legend.\\n                \"},\"id\":\"2015\",\"type\":\"Paragraph\"},{\"attributes\":{\"source\":{\"id\":\"1961\"}},\"id\":\"1965\",\"type\":\"CDSView\"},{\"attributes\":{},\"id\":\"1975\",\"type\":\"UnionRenderers\"},{\"attributes\":{\"start\":0},\"id\":\"1918\",\"type\":\"DataRange1d\"},{\"attributes\":{\"label\":{\"value\":\"gpu1\"},\"renderers\":[{\"id\":\"1964\"}]},\"id\":\"1976\",\"type\":\"LegendItem\"}],\"root_ids\":[\"2016\"]},\"title\":\"Bokeh Application\",\"version\":\"2.2.3\"}};\n",
       "  var render_items = [{\"docid\":\"172fcfab-88e8-4500-8548-cb92b964825a\",\"root_ids\":[\"2016\"],\"roots\":{\"2016\":\"a9970812-0c20-416d-942e-36ad74dc44fc\"}}];\n",
       "  root.Bokeh.embed.embed_items_notebook(docs_json, render_items);\n",
       "\n",
       "  }\n",
       "  if (root.Bokeh !== undefined) {\n",
       "    embed_document(root);\n",
       "  } else {\n",
       "    var attempts = 0;\n",
       "    var timer = setInterval(function(root) {\n",
       "      if (root.Bokeh !== undefined) {\n",
       "        clearInterval(timer);\n",
       "        embed_document(root);\n",
       "      } else {\n",
       "        attempts++;\n",
       "        if (attempts > 100) {\n",
       "          clearInterval(timer);\n",
       "          console.log(\"Bokeh: ERROR: Unable to run BokehJS code because BokehJS library is missing\");\n",
       "        }\n",
       "      }\n",
       "    }, 10, root)\n",
       "  }\n",
       "})(window);"
      ],
      "application/vnd.bokehjs_exec.v0+json": ""
     },
     "metadata": {
      "application/vnd.bokehjs_exec.v0+json": {
       "id": "2016"
      }
     },
     "output_type": "display_data"
    }
   ],
   "source": [
    " \n",
    "if analyse_phase == \"training\": \n",
    "    display(Markdown(\"\"\"**Workload balancing**\\n\\n\"\"\")) \n",
    "    report = load_report('LoadBalancing')\n",
    "    if report:\n",
    "        params = report['RuleParameters'].split('\\n')\n",
    "        threshold = params[0].split(':')[1]\n",
    "        patience = params[1].split(':')[1]\n",
    "        triggered = report['RuleTriggered']\n",
    "        datapoints = report['Datapoints']\n",
    "    \n",
    "        paragraph = Paragraph(text=f\"\"\"The LoadBalancing rule helps to detect issues in workload balancing \n",
    "        between multiple GPUs. \n",
    "        It computes a histogram of GPU utilization values for each GPU and compares then the \n",
    "        similarity between histograms. The rule checked if the distance of histograms is larger than the \n",
    "        threshold of {threshold}.\n",
    "        During initialization utilization is likely zero, so the rule skipped the first {patience} data points.\n",
    "        \"\"\", width=900)\n",
    "        show(paragraph)\n",
    "        \n",
    "        if len(report['Details']) > 0:\n",
    "            for node_id in report['Details']: \n",
    "                \n",
    "                \n",
    "                text = f\"\"\"The following histogram shows the workload per GPU on node {node_id}. \n",
    "                You can enable/disable the visualization of a workload by clicking on the label in the legend.\n",
    "                \"\"\"\n",
    "                if len(report['Details']) == 1 and len(report['Details'][node_id]['workloads']) == 1:\n",
    "                    text = f\"\"\"{text} Your training job only used one GPU so there is no workload balancing issue.\"\"\"\n",
    "                \n",
    "                plot = figure(plot_height=450, \n",
    "                              plot_width=850, \n",
    "                              x_range=(-1,100),\n",
    "                              title=f\"\"\"Workloads on node {node_id}\"\"\")\n",
    "                \n",
    "                colors = bokeh.palettes.viridis(len(report['Details'][node_id]['workloads']))\n",
    "                \n",
    "                for index, gpu_id2 in enumerate(report['Details'][node_id]['workloads']):\n",
    "                    probs = report['Details'][node_id]['workloads'][gpu_id2]\n",
    "                    plot.quad( top=probs,\n",
    "                                bottom=0,\n",
    "                                left=np.arange(0,98,2),\n",
    "                                right=np.arange(2,100,2),\n",
    "                                line_color=\"white\",\n",
    "                                fill_color=colors[index],\n",
    "                                fill_alpha=0.8,\n",
    "                                legend=gpu_id2 )\n",
    "\n",
    "                    plot.y_range.start = 0\n",
    "                    plot.xaxis.axis_label = f\"\"\"Utilization\"\"\"\n",
    "                    plot.yaxis.axis_label = \"Occurrences\"\n",
    "                    plot.grid.grid_line_color = \"white\"\n",
    "                    plot.legend.click_policy=\"hide\"\n",
    "                \n",
    "                paragraph = Paragraph(text=text)\n",
    "                show(column(paragraph, plot))\n",
    "                \n",
    "                if \"distances\" in report['Details'][node_id]:\n",
    "                    text = f\"\"\"The rule identified workload balancing issues on node {node_id} \n",
    "                    where workloads differed by more than threshold {threshold}. \n",
    "                    \"\"\"\n",
    "                    for index, gpu_id2 in enumerate(report['Details'][node_id]['distances']):\n",
    "                        for gpu_id1 in report['Details'][node_id]['distances'][gpu_id2]:\n",
    "                            distance = round(report['Details'][node_id]['distances'][gpu_id2][gpu_id1], 2)\n",
    "                            text = f\"\"\"{text} The difference of workload between {gpu_id2} and {gpu_id1} is: {distance}.\"\"\"\n",
    "\n",
    "                    paragraph = Paragraph(text=f\"\"\"{text}\"\"\", width=900)\n",
    "                    show(column(paragraph))"
   ]
  },
  {
   "cell_type": "code",
   "execution_count": 22,
   "metadata": {
    "execution": {
     "iopub.execute_input": "2021-05-30T22:12:55.542134Z",
     "iopub.status.busy": "2021-05-30T22:12:55.541557Z",
     "iopub.status.idle": "2021-05-30T22:12:55.586026Z",
     "shell.execute_reply": "2021-05-30T22:12:55.585583Z"
    },
    "papermill": {
     "duration": 0.087468,
     "end_time": "2021-05-30T22:12:55.586146",
     "exception": false,
     "start_time": "2021-05-30T22:12:55.498678",
     "status": "completed"
    },
    "scrolled": true,
    "tags": [
     "hide-input"
    ]
   },
   "outputs": [
    {
     "data": {
      "text/markdown": [
       "### Dataloading analysis\n",
       "\n"
      ],
      "text/plain": [
       "<IPython.core.display.Markdown object>"
      ]
     },
     "metadata": {},
     "output_type": "display_data"
    },
    {
     "data": {
      "text/html": [
       "\n",
       "\n",
       "\n",
       "\n",
       "\n",
       "\n",
       "  <div class=\"bk-root\" id=\"09f6ee57-d930-4498-b6ae-fb3aa1db9bd1\" data-root-id=\"2177\"></div>\n"
      ]
     },
     "metadata": {},
     "output_type": "display_data"
    },
    {
     "data": {
      "application/javascript": [
       "(function(root) {\n",
       "  function embed_document(root) {\n",
       "    \n",
       "  var docs_json = {\"ae78a0d2-9b6a-43e7-99af-9f4e2c7c1f2d\":{\"roots\":{\"references\":[{\"attributes\":{\"text\":\"The number of dataloader workers can greatly affect the overall performance \\n        of your training job. The rule analyzed the number of dataloading processes that have been running in \\n        parallel on the training instance and compares it against the total number of cores. \\n        The rule checked if the number of processes is smaller than 70% or larger than \\n        200% the total number of cores. Having too few dataloader workers can slowdown data preprocessing and lead to GPU \\n        underutilization. Having too many dataloader workers may hurt the\\n        overall performance if you are running other compute intensive tasks on the CPU.\\n        The rule analysed 0 datapoints and triggered 0 times.\",\"width\":900},\"id\":\"2177\",\"type\":\"Paragraph\"}],\"root_ids\":[\"2177\"]},\"title\":\"Bokeh Application\",\"version\":\"2.2.3\"}};\n",
       "  var render_items = [{\"docid\":\"ae78a0d2-9b6a-43e7-99af-9f4e2c7c1f2d\",\"root_ids\":[\"2177\"],\"roots\":{\"2177\":\"09f6ee57-d930-4498-b6ae-fb3aa1db9bd1\"}}];\n",
       "  root.Bokeh.embed.embed_items_notebook(docs_json, render_items);\n",
       "\n",
       "  }\n",
       "  if (root.Bokeh !== undefined) {\n",
       "    embed_document(root);\n",
       "  } else {\n",
       "    var attempts = 0;\n",
       "    var timer = setInterval(function(root) {\n",
       "      if (root.Bokeh !== undefined) {\n",
       "        clearInterval(timer);\n",
       "        embed_document(root);\n",
       "      } else {\n",
       "        attempts++;\n",
       "        if (attempts > 100) {\n",
       "          clearInterval(timer);\n",
       "          console.log(\"Bokeh: ERROR: Unable to run BokehJS code because BokehJS library is missing\");\n",
       "        }\n",
       "      }\n",
       "    }, 10, root)\n",
       "  }\n",
       "})(window);"
      ],
      "application/vnd.bokehjs_exec.v0+json": ""
     },
     "metadata": {
      "application/vnd.bokehjs_exec.v0+json": {
       "id": "2177"
      }
     },
     "output_type": "display_data"
    },
    {
     "data": {
      "text/html": [
       "\n",
       "\n",
       "\n",
       "\n",
       "\n",
       "\n",
       "  <div class=\"bk-root\" id=\"b4d077d1-ad58-489d-ac93-440a594d4bb6\" data-root-id=\"2268\"></div>\n"
      ]
     },
     "metadata": {},
     "output_type": "display_data"
    },
    {
     "data": {
      "application/javascript": [
       "(function(root) {\n",
       "  function embed_document(root) {\n",
       "    \n",
       "  var docs_json = {\"52765ee3-0e94-4351-81b4-b66632c2b9f8\":{\"roots\":{\"references\":[{\"attributes\":{\"width\":900},\"id\":\"2268\",\"type\":\"Paragraph\"}],\"root_ids\":[\"2268\"]},\"title\":\"Bokeh Application\",\"version\":\"2.2.3\"}};\n",
       "  var render_items = [{\"docid\":\"52765ee3-0e94-4351-81b4-b66632c2b9f8\",\"root_ids\":[\"2268\"],\"roots\":{\"2268\":\"b4d077d1-ad58-489d-ac93-440a594d4bb6\"}}];\n",
       "  root.Bokeh.embed.embed_items_notebook(docs_json, render_items);\n",
       "\n",
       "  }\n",
       "  if (root.Bokeh !== undefined) {\n",
       "    embed_document(root);\n",
       "  } else {\n",
       "    var attempts = 0;\n",
       "    var timer = setInterval(function(root) {\n",
       "      if (root.Bokeh !== undefined) {\n",
       "        clearInterval(timer);\n",
       "        embed_document(root);\n",
       "      } else {\n",
       "        attempts++;\n",
       "        if (attempts > 100) {\n",
       "          clearInterval(timer);\n",
       "          console.log(\"Bokeh: ERROR: Unable to run BokehJS code because BokehJS library is missing\");\n",
       "        }\n",
       "      }\n",
       "    }, 10, root)\n",
       "  }\n",
       "})(window);"
      ],
      "application/vnd.bokehjs_exec.v0+json": ""
     },
     "metadata": {
      "application/vnd.bokehjs_exec.v0+json": {
       "id": "2268"
      }
     },
     "output_type": "display_data"
    }
   ],
   "source": [
    "if analyse_phase == \"training\":\n",
    "    display(Markdown(\"\"\"### Dataloading analysis\\n\\n\"\"\"))\n",
    "    report = load_report('Dataloader')\n",
    "    if report:\n",
    "        params = report['RuleParameters'].split(\"\\n\")\n",
    "        min_threshold = params[0].split(':')[1]\n",
    "        max_threshold = params[1].split(':')[1]\n",
    "        triggered = report['RuleTriggered']\n",
    "        datapoints = report['Datapoints']\n",
    "    \n",
    "        text=f\"\"\"The number of dataloader workers can greatly affect the overall performance \n",
    "        of your training job. The rule analyzed the number of dataloading processes that have been running in \n",
    "        parallel on the training instance and compares it against the total number of cores. \n",
    "        The rule checked if the number of processes is smaller than {min_threshold}% or larger than \n",
    "        {max_threshold}% the total number of cores. Having too few dataloader workers can slowdown data preprocessing and lead to GPU \n",
    "        underutilization. Having too many dataloader workers may hurt the\n",
    "        overall performance if you are running other compute intensive tasks on the CPU.\n",
    "        The rule analysed {datapoints} datapoints and triggered {triggered} times.\"\"\"\n",
    "        \n",
    "        paragraph = Paragraph(text=f\"{text}\", width=900)\n",
    "        show(paragraph)\n",
    "        text = \"\"\n",
    "        if 'cores' in report['Details']:\n",
    "            cores = int(report['Details']['cores'])\n",
    "            dataloaders = report['Details']['dataloaders']\n",
    "            if dataloaders < cores: \n",
    "                text=f\"\"\"{text} Your training instance provided {cores} CPU cores, however your training job only \n",
    "                ran on average {dataloaders} dataloader workers in parallel. We recommend you to increase the number of\n",
    "                dataloader workers.\"\"\"\n",
    "            if dataloaders > cores:\n",
    "                text=f\"\"\"{text} Your training instance provided {cores} CPU cores, however your training job ran \n",
    "                on average {dataloaders} dataloader workers. We recommed you to decrease the number of dataloader\n",
    "                workers.\"\"\"\n",
    "        if 'pin_memory' in report['Details'] and report['Details']['pin_memory'] == False:\n",
    "            text=f\"\"\"{text} Using pinned memory also improves performance because it enables fast data transfer to CUDA-enabled GPUs.\n",
    "            The rule detected that your training job was not using pinned memory. \n",
    "            In case of using PyTorch Dataloader, you can enable this by setting pin_memory=True.\"\"\"\n",
    "            \n",
    "        if 'prefetch' in report['Details'] and report['Details']['prefetch'] == False:\n",
    "            text=f\"\"\"{text} It appears that your training job did not perform any data pre-fetching. Pre-fetching can improve your\n",
    "            data input pipeline as it produces the data ahead of time.\"\"\"\n",
    "        paragraph = Paragraph(text=f\"{text}\", width=900)\n",
    "        show(paragraph)\n",
    "        \n",
    "        colors=bokeh.palettes.viridis(10)\n",
    "        if \"dataloading_time\" in report['Details']:\n",
    "            median = round(report['Details'][\"dataloading_time\"]['p50'],4)\n",
    "            p95 = round(report['Details'][\"dataloading_time\"]['p95'],4)\n",
    "            p25 = round(report['Details'][\"dataloading_time\"]['p25'],4)\n",
    "            binedges = report['Details'][\"dataloading_time\"]['binedges']\n",
    "            probs = report['Details'][\"dataloading_time\"]['probs']\n",
    "            text=f\"\"\"The following histogram shows the distribution of dataloading times that have been measured throughout your training job. The median dataloading time was {median}s. \n",
    "            The 95th percentile was {p95}s and the 25th percentile was {p25}s\"\"\"\n",
    "\n",
    "            plot = figure(plot_height=450, \n",
    "                              plot_width=850,\n",
    "                              toolbar_location='right',\n",
    "                              tools=\"hover,wheel_zoom,reset,pan\",\n",
    "                              x_range=(binedges[0], binedges[-1])\n",
    "                              )\n",
    "            \n",
    "            plot.quad( top=probs,\n",
    "                        bottom=0,\n",
    "                        left=binedges[:-1],\n",
    "                        right=binedges[1:],\n",
    "                        line_color=\"white\",\n",
    "                        fill_color=colors[0],\n",
    "                        fill_alpha=0.8,\n",
    "                        legend=\"Dataloading events\" )\n",
    "\n",
    "            plot.y_range.start = 0\n",
    "            plot.xaxis.axis_label = f\"\"\"Dataloading in [s]\"\"\"\n",
    "            plot.yaxis.axis_label = \"Occurrences\"\n",
    "            plot.grid.grid_line_color = \"white\"\n",
    "            plot.legend.click_policy=\"hide\"\n",
    "\n",
    "            paragraph = Paragraph(text=f\"{text}\", width=900)\n",
    "            show(column(paragraph, plot))"
   ]
  },
  {
   "cell_type": "code",
   "execution_count": 23,
   "metadata": {
    "execution": {
     "iopub.execute_input": "2021-05-30T22:12:55.666126Z",
     "iopub.status.busy": "2021-05-30T22:12:55.663868Z",
     "iopub.status.idle": "2021-05-30T22:12:55.690228Z",
     "shell.execute_reply": "2021-05-30T22:12:55.690612Z"
    },
    "papermill": {
     "duration": 0.070849,
     "end_time": "2021-05-30T22:12:55.690756",
     "exception": false,
     "start_time": "2021-05-30T22:12:55.619907",
     "status": "completed"
    },
    "tags": [
     "hide-input"
    ]
   },
   "outputs": [
    {
     "data": {
      "text/markdown": [
       " ### Batch size"
      ],
      "text/plain": [
       "<IPython.core.display.Markdown object>"
      ]
     },
     "metadata": {},
     "output_type": "display_data"
    },
    {
     "data": {
      "text/html": [
       "\n",
       "\n",
       "\n",
       "\n",
       "\n",
       "\n",
       "  <div class=\"bk-root\" id=\"f8d2f31b-e9eb-45fa-a8fa-c886bbe3a6f3\" data-root-id=\"2359\"></div>\n"
      ]
     },
     "metadata": {},
     "output_type": "display_data"
    },
    {
     "data": {
      "application/javascript": [
       "(function(root) {\n",
       "  function embed_document(root) {\n",
       "    \n",
       "  var docs_json = {\"930d886b-652a-4ce3-aa58-7463eb98a491\":{\"roots\":{\"references\":[{\"attributes\":{\"text\":\"The BatchSize rule helps to detect if GPU is underutilized because of the batch size being \\n        too small. To detect this the rule analyzes the GPU memory footprint, CPU and GPU utilization. The rule checked if the 95th percentile of CPU utilization is below cpu_threshold_p95 of \\n        70%, the 95th percentile of GPU utilization is below gpu_threshold_p95 of 70% and the 95th percentile of memory footprint         below gpu_memory_threshold_p95 of 70%. In your training job this happened 0 times.         The rule skipped the first 1000 datapoints. The rule computed the percentiles over window size of 500 continuous datapoints.\\n\\n        The rule analysed 34214 datapoints and triggered 0 times.\\n        \",\"width\":800},\"id\":\"2359\",\"type\":\"Paragraph\"}],\"root_ids\":[\"2359\"]},\"title\":\"Bokeh Application\",\"version\":\"2.2.3\"}};\n",
       "  var render_items = [{\"docid\":\"930d886b-652a-4ce3-aa58-7463eb98a491\",\"root_ids\":[\"2359\"],\"roots\":{\"2359\":\"f8d2f31b-e9eb-45fa-a8fa-c886bbe3a6f3\"}}];\n",
       "  root.Bokeh.embed.embed_items_notebook(docs_json, render_items);\n",
       "\n",
       "  }\n",
       "  if (root.Bokeh !== undefined) {\n",
       "    embed_document(root);\n",
       "  } else {\n",
       "    var attempts = 0;\n",
       "    var timer = setInterval(function(root) {\n",
       "      if (root.Bokeh !== undefined) {\n",
       "        clearInterval(timer);\n",
       "        embed_document(root);\n",
       "      } else {\n",
       "        attempts++;\n",
       "        if (attempts > 100) {\n",
       "          clearInterval(timer);\n",
       "          console.log(\"Bokeh: ERROR: Unable to run BokehJS code because BokehJS library is missing\");\n",
       "        }\n",
       "      }\n",
       "    }, 10, root)\n",
       "  }\n",
       "})(window);"
      ],
      "application/vnd.bokehjs_exec.v0+json": ""
     },
     "metadata": {
      "application/vnd.bokehjs_exec.v0+json": {
       "id": "2359"
      }
     },
     "output_type": "display_data"
    }
   ],
   "source": [
    "if analyse_phase == \"training\":\n",
    "    display(Markdown(\"\"\" ### Batch size\"\"\"))\n",
    "    report = load_report('BatchSize')\n",
    "    if report:\n",
    "        params = report['RuleParameters'].split('\\n')\n",
    "        cpu_threshold_p95 = int(params[0].split(':')[1])\n",
    "        gpu_threshold_p95 = int(params[1].split(':')[1])\n",
    "        gpu_memory_threshold_p95 = int(params[2].split(':')[1])\n",
    "        patience = int(params[3].split(':')[1])\n",
    "        window = int(params[4].split(':')[1])\n",
    "        violations = report['Violations']\n",
    "        triggered = report['RuleTriggered']\n",
    "        datapoints = report['Datapoints']\n",
    "        \n",
    "        text = Paragraph(text=f\"\"\"The BatchSize rule helps to detect if GPU is underutilized because of the batch size being \n",
    "        too small. To detect this the rule analyzes the GPU memory footprint, CPU and GPU utilization. The rule checked if the 95th percentile of CPU utilization is below cpu_threshold_p95 of \n",
    "        {cpu_threshold_p95}%, the 95th percentile of GPU utilization is below gpu_threshold_p95 of {gpu_threshold_p95}% and the 95th percentile of memory footprint \\\n",
    "        below gpu_memory_threshold_p95 of {gpu_memory_threshold_p95}%. In your training job this happened {violations} times. \\\n",
    "        The rule skipped the first {patience} datapoints. The rule computed the percentiles over window size of {window} continuous datapoints.\\n\n",
    "        The rule analysed {datapoints} datapoints and triggered {triggered} times.\n",
    "        \"\"\", width=800)\n",
    "        show(text)\n",
    "        if len(report['Details']) >0: \n",
    "            timestamp = us_since_epoch_to_human_readable_time(report['Details']['last_timestamp'])\n",
    "            date = datetime.datetime.strptime(timestamp, '%Y-%m-%dT%H:%M:%S:%f')\n",
    "            day = date.date().strftime(\"%m/%d/%Y\")\n",
    "            hour = date.time().strftime(\"%H:%M:%S\")\n",
    "            del report['Details']['last_timestamp']\n",
    "            text = Paragraph(text=f\"\"\"Your training job is underutilizing the instance. You may want to consider\n",
    "            either switch to a smaller instance type or to increase the batch size. \n",
    "            The last time the BatchSize rule triggered in your training job was on {day} at {hour}.\n",
    "            The following boxplots are a snapshot from the timestamps. They the total \n",
    "            CPU utilization, the GPU utilization, and the GPU memory usage per GPU (without outliers).\"\"\", \n",
    "            width=800)\n",
    "            show(text)\n",
    "\n",
    "            for node_id in report['Details']:\n",
    "                xmax = max(20, len(report['Details'][node_id]))\n",
    "                \n",
    "                plot = figure(plot_height=350, \n",
    "                          plot_width=1000,\n",
    "                          toolbar_location='right',\n",
    "                          tools=\"hover,wheel_zoom,reset,pan\", \n",
    "                          title=f\"Node {node_id}\",\n",
    "                          x_range=(0,xmax)\n",
    "                          )\n",
    "                \n",
    "                for index, key in enumerate(report['Details'][node_id]):\n",
    "                        upper = report['Details'][node_id][key]['upper']\n",
    "                        lower = report['Details'][node_id][key]['lower']\n",
    "                        p75 = report['Details'][node_id][key]['p75']\n",
    "                        p25 = report['Details'][node_id][key]['p25']\n",
    "                        p50 = report['Details'][node_id][key]['p50']\n",
    "\n",
    "                        plot.segment(index+1, upper, index+1, p75, line_color=\"black\")\n",
    "                        plot.segment(index+1, lower, index+1, p25, line_color=\"black\")\n",
    "\n",
    "                        plot.vbar(index+1, 0.7, p50, p75, fill_color=\"#FDE725\", line_color=\"black\")\n",
    "                        plot.vbar(index+1, 0.7, p25, p50, fill_color=\"#440154\", line_color=\"black\")\n",
    "\n",
    "                        plot.rect(index+1, lower, 0.2, 0.01, line_color=\"black\")\n",
    "                        plot.rect(index+1, upper, 0.2, 0.01, line_color=\"black\")\n",
    "\n",
    "                        plot.xaxis.major_label_overrides[index+1] = key\n",
    "                        plot.xgrid.grid_line_color = None\n",
    "                        plot.ygrid.grid_line_color = \"white\"\n",
    "                        plot.grid.grid_line_width = 0\n",
    "\n",
    "                        plot.xaxis.major_label_text_font_size=\"10px\"\n",
    "                plot.xaxis.ticker = np.arange(index+2)\n",
    "                plot.yaxis.axis_label = \"Utilization in %\"\n",
    "                show(plot)"
   ]
  },
  {
   "cell_type": "code",
   "execution_count": 24,
   "metadata": {
    "execution": {
     "iopub.execute_input": "2021-05-30T22:12:55.779650Z",
     "iopub.status.busy": "2021-05-30T22:12:55.776090Z",
     "iopub.status.idle": "2021-05-30T22:12:55.805536Z",
     "shell.execute_reply": "2021-05-30T22:12:55.805930Z"
    },
    "papermill": {
     "duration": 0.080431,
     "end_time": "2021-05-30T22:12:55.806076",
     "exception": false,
     "start_time": "2021-05-30T22:12:55.725645",
     "status": "completed"
    },
    "tags": [
     "hide-input"
    ]
   },
   "outputs": [
    {
     "data": {
      "text/markdown": [
       "### CPU bottlenecks\n",
       "\n"
      ],
      "text/plain": [
       "<IPython.core.display.Markdown object>"
      ]
     },
     "metadata": {},
     "output_type": "display_data"
    },
    {
     "data": {
      "text/html": [
       "\n",
       "\n",
       "\n",
       "\n",
       "\n",
       "\n",
       "  <div class=\"bk-root\" id=\"2d7bb7d2-24ee-48c6-8ba6-eacd18484531\" data-root-id=\"2450\"></div>\n"
      ]
     },
     "metadata": {},
     "output_type": "display_data"
    },
    {
     "data": {
      "application/javascript": [
       "(function(root) {\n",
       "  function embed_document(root) {\n",
       "    \n",
       "  var docs_json = {\"b6965026-5ade-427a-a72e-488817c81870\":{\"roots\":{\"references\":[{\"attributes\":{\"text\":\"The CPUBottleneck rule checked when the CPU utilization was above cpu_threshold of 90% \\n        and GPU utilization was below gpu_threshold of 10%. \\n        During initialization utilization is likely to be zero, so the rule skipped the first 1000 datapoints.\\n        With this configuration the rule found 2674 CPU bottlenecks which is 7% of the total time. This is below the threshold of 50%\\n        The rule analysed 34219 data points and triggered 0 times.\",\"width\":900},\"id\":\"2450\",\"type\":\"Paragraph\"}],\"root_ids\":[\"2450\"]},\"title\":\"Bokeh Application\",\"version\":\"2.2.3\"}};\n",
       "  var render_items = [{\"docid\":\"b6965026-5ade-427a-a72e-488817c81870\",\"root_ids\":[\"2450\"],\"roots\":{\"2450\":\"2d7bb7d2-24ee-48c6-8ba6-eacd18484531\"}}];\n",
       "  root.Bokeh.embed.embed_items_notebook(docs_json, render_items);\n",
       "\n",
       "  }\n",
       "  if (root.Bokeh !== undefined) {\n",
       "    embed_document(root);\n",
       "  } else {\n",
       "    var attempts = 0;\n",
       "    var timer = setInterval(function(root) {\n",
       "      if (root.Bokeh !== undefined) {\n",
       "        clearInterval(timer);\n",
       "        embed_document(root);\n",
       "      } else {\n",
       "        attempts++;\n",
       "        if (attempts > 100) {\n",
       "          clearInterval(timer);\n",
       "          console.log(\"Bokeh: ERROR: Unable to run BokehJS code because BokehJS library is missing\");\n",
       "        }\n",
       "      }\n",
       "    }, 10, root)\n",
       "  }\n",
       "})(window);"
      ],
      "application/vnd.bokehjs_exec.v0+json": ""
     },
     "metadata": {
      "application/vnd.bokehjs_exec.v0+json": {
       "id": "2450"
      }
     },
     "output_type": "display_data"
    }
   ],
   "source": [
    "if analyse_phase == \"training\": \n",
    "    display(Markdown(\"\"\"### CPU bottlenecks\\n\\n\"\"\"))\n",
    "\n",
    "    report = load_report('CPUBottleneck')\n",
    "    if report:\n",
    "        params = report['RuleParameters'].split('\\n')\n",
    "        threshold = int(params[0].split(':')[1])\n",
    "        cpu_threshold = int(params[1].split(':')[1])\n",
    "        gpu_threshold = int(params[2].split(':')[1])\n",
    "        patience = int(params[3].split(':')[1])\n",
    "        violations = report['Violations']\n",
    "        triggered = report['RuleTriggered']\n",
    "        datapoints = report['Datapoints']\n",
    "        \n",
    "        if report['Violations'] > 0:\n",
    "            perc = int(report['Violations']/report['Datapoints']*100)\n",
    "        else:\n",
    "            perc = 0\n",
    "        if perc < threshold:\n",
    "            string = 'below'\n",
    "        else:\n",
    "            string = 'above'\n",
    "        text = f\"\"\"The CPUBottleneck rule checked when the CPU utilization was above cpu_threshold of {cpu_threshold}% \n",
    "        and GPU utilization was below gpu_threshold of {gpu_threshold}%. \n",
    "        During initialization utilization is likely to be zero, so the rule skipped the first {patience} datapoints.\n",
    "        With this configuration the rule found {violations} CPU bottlenecks which is {perc}% of the total time. This is {string} the threshold of {threshold}%\n",
    "        The rule analysed {datapoints} data points and triggered {triggered} times.\"\"\"\n",
    "        \n",
    "        paragraph = Paragraph(text=text, width=900)\n",
    "        show(paragraph)\n",
    "        if report:\n",
    "\n",
    "            plots = []\n",
    "            text = \"\"\n",
    "            if report['RuleTriggered'] > 0:\n",
    "\n",
    "                low_gpu = report['Details']['low_gpu_utilization']\n",
    "                cpu_bottleneck = {}\n",
    "                cpu_bottleneck[\"GPU usage above threshold\"] = report[\"Datapoints\"] - report[\"Details\"][\"low_gpu_utilization\"]\n",
    "                cpu_bottleneck[\"GPU usage below threshold\"] = report[\"Details\"][\"low_gpu_utilization\"] - len(report[\"Details\"])\n",
    "                cpu_bottleneck[\"Low GPU usage due to CPU bottlenecks\"] = len(report[\"Details\"][\"bottlenecks\"])\n",
    "\n",
    "                n_bottlenecks = round(len(report['Details']['bottlenecks'])/datapoints * 100, 2)\n",
    "                text = f\"\"\"The following chart (left) shows how many datapoints were below the gpu_threshold of {gpu_threshold}%\n",
    "                and how many of those datapoints were likely caused by a CPU bottleneck. The rule found {low_gpu} out of {datapoints} datapoints which had a GPU utilization \n",
    "                below {gpu_threshold}%. Out of those datapoints {n_bottlenecks}% were likely caused by CPU bottlenecks. \n",
    "                \"\"\"\n",
    "\n",
    "                plot = create_piechart(cpu_bottleneck, \n",
    "                                    height=350,\n",
    "                                    width=600,\n",
    "                                    x1=0.2,\n",
    "                                    x2=0.6,\n",
    "                                    radius=0.3, \n",
    "                                    title=\"Low GPU usage caused by CPU bottlenecks\")\n",
    "\n",
    "                plots.append(plot)\n",
    "\n",
    "                if 'phase' in report['Details']:\n",
    "                    text = f\"\"\"{text} The chart (in the middle) shows whether CPU bottlenecks mainly \n",
    "                    happened during train/validation phase.\n",
    "                    \"\"\"\n",
    "\n",
    "                    plot = create_piechart(report['Details']['phase'], \n",
    "                                        height=350,\n",
    "                                        width=600,\n",
    "                                        x1=0.2,\n",
    "                                        x2=0.6,\n",
    "                                        radius=0.3, \n",
    "                                        title=\"The ratio between time spent on TRAIN/EVAL phase\")\n",
    "                    plots.append(plot)\n",
    "\n",
    "                if 'forward_backward' in report['Details'] and  len(report['Details']['forward_backward']) > 0:\n",
    "\n",
    "                    event = max(report['Details']['forward_backward'], key=report['Details']['forward_backward'].get)\n",
    "                    perc = report['Details']['forward_backward'][event]\n",
    "\n",
    "                    text = f\"\"\"{text} The pie charts on the right shows a more detailed breakdown. \n",
    "                    It shows that {int(perc)}% of the training time was spent on event {event}\"\"\"\n",
    "\n",
    "                    plot = create_piechart(report['Details']['forward_backward'], \n",
    "                                        height=350,\n",
    "                                        width=600,\n",
    "                                        x1=0.2,\n",
    "                                        x2=0.6,\n",
    "                                        radius=0.3, \n",
    "                                        title=\"The ratio between forward and backward pass\") \n",
    "                    plots.append(plot)\n",
    "\n",
    "                if len(plots) > 0:\n",
    "                    paragraph = Paragraph(text=text, width=900)\n",
    "                    show(column(paragraph, row(plots)))\n",
    "\n",
    "                plots = []\n",
    "                text = \"\"\n",
    "                if 'ratio' in report['Details'] and len(report['Details']['ratio']) > 0:\n",
    "\n",
    "                    key = list(report['Details']['ratio'].keys())[0]\n",
    "                    ratio = report['Details']['ratio'][key]\n",
    "\n",
    "                    text = f\"\"\"The following pie chart shows a breakdown of the CPU/GPU operators that happened during CPU bottlenecks. \n",
    "                        It shows that {int(ratio)}% of the training time was spent on executing operators in \"{key}\".\"\"\"\n",
    "\n",
    "                    plot = create_piechart(report['Details']['ratio'], \n",
    "                                            height=350,\n",
    "                                            width=600,\n",
    "                                            x1=0.2,\n",
    "                                            x2=0.6,\n",
    "                                            radius=0.3, \n",
    "                                            title=\"The ratio between CPU/GPU operators\")\n",
    "                    plots.append(plot)\n",
    "\n",
    "\n",
    "                if 'general' in report['Details'] and len(report['Details']['general']) > 0:\n",
    "\n",
    "                    event = max(report['Details']['general'], key=report['Details']['general'].get)\n",
    "                    perc = report['Details']['general'][event]\n",
    "                \n",
    "                    plot = create_piechart(report['Details']['general'], \n",
    "                                        height=350,\n",
    "                                        width=600,\n",
    "                                        x1=0.2,\n",
    "                                        x2=0.6,\n",
    "                                        radius=0.3, \n",
    "                                        title=\"General metrics recorded in framework \")\n",
    "                    plots.append(plot)\n",
    "\n",
    "                if len(plots) > 0:\n",
    "                    paragraph = Paragraph(text=text, width=900)\n",
    "                    show(column(paragraph, row(plots)))\n",
    "\n",
    "                plots = []\n",
    "                text = \"\"\n",
    "                if 'horovod' in report['Details'] and len(report['Details']['horovod']) > 0:\n",
    "\n",
    "                    event = max(report['Details']['horovod'], key=report['Details']['horovod'].get)\n",
    "                    perc = report['Details']['horovod'][event]\n",
    "                    text = f\"\"\"The following pie chart shows a detailed breakdown of the Horovod metrics \n",
    "                    that have been recorded when the CPU bottleneck happened. The most expensive function was \n",
    "                    {event} with {int(perc)}%\"\"\"\n",
    "\n",
    "                    plot = create_piechart(report['Details']['horovod'], \n",
    "                                        height=350,\n",
    "                                        width=600,\n",
    "                                        x1=0.2,\n",
    "                                        x2=0.6,\n",
    "                                        radius=0.3, \n",
    "                                        title=\"General metrics recorded in framework \")\n",
    "\n",
    "                    paragraph = Paragraph(text=text, width=900)\n",
    "                    show(column(paragraph, row(plot)))"
   ]
  },
  {
   "cell_type": "code",
   "execution_count": 25,
   "metadata": {
    "execution": {
     "iopub.execute_input": "2021-05-30T22:12:55.897475Z",
     "iopub.status.busy": "2021-05-30T22:12:55.894008Z",
     "iopub.status.idle": "2021-05-30T22:12:55.921988Z",
     "shell.execute_reply": "2021-05-30T22:12:55.921479Z"
    },
    "papermill": {
     "duration": 0.080098,
     "end_time": "2021-05-30T22:12:55.922102",
     "exception": false,
     "start_time": "2021-05-30T22:12:55.842004",
     "status": "completed"
    },
    "tags": [
     "hide-input"
    ]
   },
   "outputs": [
    {
     "data": {
      "text/markdown": [
       "### I/O bottlenecks\n",
       "\n"
      ],
      "text/plain": [
       "<IPython.core.display.Markdown object>"
      ]
     },
     "metadata": {},
     "output_type": "display_data"
    },
    {
     "data": {
      "text/html": [
       "\n",
       "\n",
       "\n",
       "\n",
       "\n",
       "\n",
       "  <div class=\"bk-root\" id=\"f66660a7-dafe-4026-8676-c132ce353be7\" data-root-id=\"2541\"></div>\n"
      ]
     },
     "metadata": {},
     "output_type": "display_data"
    },
    {
     "data": {
      "application/javascript": [
       "(function(root) {\n",
       "  function embed_document(root) {\n",
       "    \n",
       "  var docs_json = {\"32d5c62a-a259-44db-9528-e8b8d99a0fe2\":{\"roots\":{\"references\":[{\"attributes\":{\"text\":\"The IOBottleneck rule checked when I/O wait time was above io_threshold of 50% \\n        and GPU utilization was below gpu_threshold of 10. During initialization utilization is likely to be zero, so the rule skipped the first 1000 datapoints. \\n        With this configuration the rule found 103 I/O bottlenecks which is 0% of the total time. This is below the threshold of 50%.\\n        The rule analysed 34219 datapoints and triggered 0 times.\",\"width\":900},\"id\":\"2541\",\"type\":\"Paragraph\"}],\"root_ids\":[\"2541\"]},\"title\":\"Bokeh Application\",\"version\":\"2.2.3\"}};\n",
       "  var render_items = [{\"docid\":\"32d5c62a-a259-44db-9528-e8b8d99a0fe2\",\"root_ids\":[\"2541\"],\"roots\":{\"2541\":\"f66660a7-dafe-4026-8676-c132ce353be7\"}}];\n",
       "  root.Bokeh.embed.embed_items_notebook(docs_json, render_items);\n",
       "\n",
       "  }\n",
       "  if (root.Bokeh !== undefined) {\n",
       "    embed_document(root);\n",
       "  } else {\n",
       "    var attempts = 0;\n",
       "    var timer = setInterval(function(root) {\n",
       "      if (root.Bokeh !== undefined) {\n",
       "        clearInterval(timer);\n",
       "        embed_document(root);\n",
       "      } else {\n",
       "        attempts++;\n",
       "        if (attempts > 100) {\n",
       "          clearInterval(timer);\n",
       "          console.log(\"Bokeh: ERROR: Unable to run BokehJS code because BokehJS library is missing\");\n",
       "        }\n",
       "      }\n",
       "    }, 10, root)\n",
       "  }\n",
       "})(window);"
      ],
      "application/vnd.bokehjs_exec.v0+json": ""
     },
     "metadata": {
      "application/vnd.bokehjs_exec.v0+json": {
       "id": "2541"
      }
     },
     "output_type": "display_data"
    }
   ],
   "source": [
    "if analyse_phase == \"training\": \n",
    "    display(Markdown(\"\"\"### I/O bottlenecks\\n\\n\"\"\"))\n",
    "\n",
    "    report = load_report('IOBottleneck')\n",
    "    if report:\n",
    "        params = report['RuleParameters'].split('\\n')\n",
    "        threshold = int(params[0].split(':')[1])\n",
    "        io_threshold = int(params[1].split(':')[1])\n",
    "        gpu_threshold = int(params[2].split(':')[1])\n",
    "        patience = int(params[3].split(':')[1])\n",
    "        violations = report['Violations']\n",
    "        triggered = report['RuleTriggered']\n",
    "        datapoints = report['Datapoints']\n",
    "    \n",
    "        if report['Violations'] > 0:\n",
    "            perc = int(report['Violations']/report['Datapoints']*100)\n",
    "        else:\n",
    "            perc = 0\n",
    "        if perc < threshold:\n",
    "            string = 'below'\n",
    "        else:\n",
    "            string = 'above'\n",
    "        text = f\"\"\"The IOBottleneck rule checked when I/O wait time was above io_threshold of {io_threshold}% \n",
    "        and GPU utilization was below gpu_threshold of {gpu_threshold}. During initialization utilization is likely to be zero, so the rule skipped the first {patience} datapoints. \n",
    "        With this configuration the rule found {violations} I/O bottlenecks which is {perc}% of the total time. This is {string} the threshold of {threshold}%.\n",
    "        The rule analysed {datapoints} datapoints and triggered {triggered} times.\"\"\"\n",
    "        paragraph = Paragraph(text=text, width=900)\n",
    "        show(paragraph)\n",
    "        \n",
    "        if report:\n",
    "\n",
    "            plots = []\n",
    "            text = \"\"\n",
    "            if report['RuleTriggered'] > 0:\n",
    "\n",
    "                low_gpu = report['Details']['low_gpu_utilization']\n",
    "                cpu_bottleneck = {}\n",
    "                cpu_bottleneck[\"GPU usage above threshold\"] = report[\"Datapoints\"] - report[\"Details\"][\"low_gpu_utilization\"]\n",
    "                cpu_bottleneck[\"GPU usage below threshold\"] = report[\"Details\"][\"low_gpu_utilization\"] - len(report[\"Details\"])\n",
    "                cpu_bottleneck[\"Low GPU usage due to I/O bottlenecks\"] = len(report[\"Details\"][\"bottlenecks\"])\n",
    "\n",
    "                n_bottlenecks = round(len(report['Details']['bottlenecks'])/datapoints * 100, 2)\n",
    "                text = f\"\"\"The following chart (left) shows how many datapoints were below the gpu_threshold of {gpu_threshold}%\n",
    "                and how many of those datapoints were likely caused by a I/O bottleneck. The rule found {low_gpu} out of {datapoints} datapoints which had a GPU utilization \n",
    "                below {gpu_threshold}%. Out of those datapoints {n_bottlenecks}% were likely caused by I/O bottlenecks. \n",
    "                \"\"\"\n",
    "\n",
    "                plot = create_piechart(cpu_bottleneck, \n",
    "                                    height=350,\n",
    "                                    width=600,\n",
    "                                    x1=0.2,\n",
    "                                    x2=0.6,\n",
    "                                    radius=0.3, \n",
    "                                    title=\"Low GPU usage caused by I/O bottlenecks\")\n",
    "\n",
    "                plots.append(plot)\n",
    "\n",
    "                if 'phase' in report['Details']:\n",
    "                    text = f\"\"\"{text} The chart (in the middle) shows whether I/O bottlenecks mainly happened during  trianing or validation phase.\n",
    "                    \"\"\"\n",
    "\n",
    "                    plot = create_piechart(report['Details']['phase'], \n",
    "                                        height=350,\n",
    "                                        width=600,\n",
    "                                        x1=0.2,\n",
    "                                        x2=0.6,\n",
    "                                        radius=0.3, \n",
    "                                        title=\"The ratio between the time spent on the TRAIN/EVAL phase\")\n",
    "                    plots.append(plot)\n",
    "\n",
    "                if 'forward_backward' in report['Details'] and  len(report['Details']['forward_backward']) > 0:\n",
    "\n",
    "                    event = max(report['Details']['forward_backward'], key=report['Details']['forward_backward'].get)\n",
    "                    perc = report['Details']['forward_backward'][event]\n",
    "\n",
    "                    text = f\"\"\"{text} The pie charts on the right shows a more detailed breakdown. \n",
    "                    It shows that {int(perc)}% of the training time was spent on event \"{event}\".\"\"\"\n",
    "\n",
    "                    plot = create_piechart(report['Details']['forward_backward'], \n",
    "                                        height=350,\n",
    "                                        width=600,\n",
    "                                        x1=0.2,\n",
    "                                        x2=0.6,\n",
    "                                        radius=0.3, \n",
    "                                        title=\"The ratio between forward and backward pass\") \n",
    "                    plots.append(plot)\n",
    "\n",
    "                if len(plots) > 0:\n",
    "                    paragraph = Paragraph(text=text, width=900)\n",
    "                    show(column(paragraph, row(plots)))\n",
    "\n",
    "                plots = []\n",
    "                text = \"\"\n",
    "                if 'ratio' in report['Details'] and len(report['Details']['ratio']) > 0:\n",
    "\n",
    "                    key = list(report['Details']['ratio'].keys())[0]\n",
    "                    ratio = report['Details']['ratio'][key]\n",
    "\n",
    "                    text = f\"\"\"The following pie chart shows a breakdown of the CPU/GPU operators that happened \n",
    "                    during I/O bottlenecks. It shows that {int(ratio)}% of the training time was spent on executing operators in \"{key}\".\"\"\"\n",
    "\n",
    "                    plot = create_piechart(report['Details']['ratio'], \n",
    "                                            height=350,\n",
    "                                            width=600,\n",
    "                                            x1=0.2,\n",
    "                                            x2=0.6,\n",
    "                                            radius=0.3, \n",
    "                                            title=\"Ratio between CPU/GPU operators\")\n",
    "                    plots.append(plot)\n",
    "\n",
    "\n",
    "                if 'general' in report['Details'] and len(report['Details']['general']) > 0:\n",
    "\n",
    "                    event = max(report['Details']['general'], key=report['Details']['general'].get)\n",
    "                    perc = report['Details']['general'][event]\n",
    "\n",
    "                    plot = create_piechart(report['Details']['general'], \n",
    "                                        height=350,\n",
    "                                        width=600,\n",
    "                                        x1=0.2,\n",
    "                                        x2=0.6,\n",
    "                                        radius=0.3, \n",
    "                                        title=\"General metrics recorded in framework \")\n",
    "                    plots.append(plot)\n",
    "\n",
    "                if len(plots) > 0:\n",
    "                    paragraph = Paragraph(text=text, width=900)\n",
    "                    show(column(paragraph, row(plots)))\n",
    "\n",
    "                plots = []\n",
    "                text = \"\"\n",
    "                if 'horovod' in report['Details'] and len(report['Details']['horovod']) > 0:\n",
    "\n",
    "                    event = max(report['Details']['horovod'], key=report['Details']['horovod'].get)\n",
    "                    perc = report['Details']['horovod'][event]\n",
    "                    text = f\"\"\"The following pie chart shows a detailed breakdown of the Horovod metrics that have been\n",
    "                    recorded when I/O bottleneck happened. The most expensive function was {event} with {int(perc)}%\"\"\"\n",
    "\n",
    "                    plot = create_piechart(report['Details']['horovod'], \n",
    "                                        height=350,\n",
    "                                        width=600,\n",
    "                                        x1=0.2,\n",
    "                                        x2=0.6,\n",
    "                                        radius=0.3, \n",
    "                                        title=\"General metrics recorded in framework \")\n",
    "\n",
    "                    paragraph = Paragraph(text=text, width=900)\n",
    "                    show(column(paragraph, row(plot)))    \n"
   ]
  },
  {
   "cell_type": "code",
   "execution_count": 26,
   "metadata": {
    "execution": {
     "iopub.execute_input": "2021-05-30T22:12:56.009874Z",
     "iopub.status.busy": "2021-05-30T22:12:56.007094Z",
     "iopub.status.idle": "2021-05-30T22:12:56.271102Z",
     "shell.execute_reply": "2021-05-30T22:12:56.271499Z"
    },
    "papermill": {
     "duration": 0.312555,
     "end_time": "2021-05-30T22:12:56.271638",
     "exception": false,
     "start_time": "2021-05-30T22:12:55.959083",
     "status": "completed"
    },
    "tags": [
     "hide-input"
    ]
   },
   "outputs": [
    {
     "data": {
      "text/markdown": [
       "### GPU memory\n",
       "\n"
      ],
      "text/plain": [
       "<IPython.core.display.Markdown object>"
      ]
     },
     "metadata": {},
     "output_type": "display_data"
    },
    {
     "data": {
      "text/html": [
       "\n",
       "\n",
       "\n",
       "\n",
       "\n",
       "\n",
       "  <div class=\"bk-root\" id=\"cd8a5201-9569-42fa-8dd2-abcde12833b8\" data-root-id=\"2632\"></div>\n"
      ]
     },
     "metadata": {},
     "output_type": "display_data"
    },
    {
     "data": {
      "application/javascript": [
       "(function(root) {\n",
       "  function embed_document(root) {\n",
       "    \n",
       "  var docs_json = {\"5529aa24-916c-413f-819f-0e8aac299642\":{\"roots\":{\"references\":[{\"attributes\":{\"text\":\"The GPUMemoryIncrease rule helps to detect large increase in memory usage on GPUs. \\n        The rule checked if the moving average of memory increased by more than 5.0%. \\n        So if the moving average increased for instance from 10% to 16.0%, \\n        the rule would have triggered. During initialization utilization  is likely 0, so the rule skipped the first 1000 datapoints.\\n        The moving average was computed on a window size of 10 continuous datapoints. The rule detected 9212 violations\\n        where the moving average between previous and current time window increased by more than 5.0%.\\n        The rule analysed 34215 datapoints and triggered 9212 times.\",\"width\":900},\"id\":\"2632\",\"type\":\"Paragraph\"}],\"root_ids\":[\"2632\"]},\"title\":\"Bokeh Application\",\"version\":\"2.2.3\"}};\n",
       "  var render_items = [{\"docid\":\"5529aa24-916c-413f-819f-0e8aac299642\",\"root_ids\":[\"2632\"],\"roots\":{\"2632\":\"cd8a5201-9569-42fa-8dd2-abcde12833b8\"}}];\n",
       "  root.Bokeh.embed.embed_items_notebook(docs_json, render_items);\n",
       "\n",
       "  }\n",
       "  if (root.Bokeh !== undefined) {\n",
       "    embed_document(root);\n",
       "  } else {\n",
       "    var attempts = 0;\n",
       "    var timer = setInterval(function(root) {\n",
       "      if (root.Bokeh !== undefined) {\n",
       "        clearInterval(timer);\n",
       "        embed_document(root);\n",
       "      } else {\n",
       "        attempts++;\n",
       "        if (attempts > 100) {\n",
       "          clearInterval(timer);\n",
       "          console.log(\"Bokeh: ERROR: Unable to run BokehJS code because BokehJS library is missing\");\n",
       "        }\n",
       "      }\n",
       "    }, 10, root)\n",
       "  }\n",
       "})(window);"
      ],
      "application/vnd.bokehjs_exec.v0+json": ""
     },
     "metadata": {
      "application/vnd.bokehjs_exec.v0+json": {
       "id": "2632"
      }
     },
     "output_type": "display_data"
    },
    {
     "data": {
      "text/html": [
       "\n",
       "\n",
       "\n",
       "\n",
       "\n",
       "\n",
       "  <div class=\"bk-root\" id=\"ccb9ada3-6899-4127-a53b-45cb5cf1d2b7\" data-root-id=\"2723\"></div>\n"
      ]
     },
     "metadata": {},
     "output_type": "display_data"
    },
    {
     "data": {
      "application/javascript": [
       "(function(root) {\n",
       "  function embed_document(root) {\n",
       "    \n",
       "  var docs_json = {\"ced8a58b-a397-4af3-b22f-76893e85e709\":{\"roots\":{\"references\":[{\"attributes\":{\"text\":\"Your training job triggered memory spikes. \\n            The last time the GPUMemoryIncrease rule triggered in your training job was on 05/30/2021 at 22:11:00.\\n            The following boxplots are a snapshot from the timestamps. They show for each node and GPU the corresponding\\n            memory utilization (without outliers).\",\"width\":900},\"id\":\"2723\",\"type\":\"Paragraph\"}],\"root_ids\":[\"2723\"]},\"title\":\"Bokeh Application\",\"version\":\"2.2.3\"}};\n",
       "  var render_items = [{\"docid\":\"ced8a58b-a397-4af3-b22f-76893e85e709\",\"root_ids\":[\"2723\"],\"roots\":{\"2723\":\"ccb9ada3-6899-4127-a53b-45cb5cf1d2b7\"}}];\n",
       "  root.Bokeh.embed.embed_items_notebook(docs_json, render_items);\n",
       "\n",
       "  }\n",
       "  if (root.Bokeh !== undefined) {\n",
       "    embed_document(root);\n",
       "  } else {\n",
       "    var attempts = 0;\n",
       "    var timer = setInterval(function(root) {\n",
       "      if (root.Bokeh !== undefined) {\n",
       "        clearInterval(timer);\n",
       "        embed_document(root);\n",
       "      } else {\n",
       "        attempts++;\n",
       "        if (attempts > 100) {\n",
       "          clearInterval(timer);\n",
       "          console.log(\"Bokeh: ERROR: Unable to run BokehJS code because BokehJS library is missing\");\n",
       "        }\n",
       "      }\n",
       "    }, 10, root)\n",
       "  }\n",
       "})(window);"
      ],
      "application/vnd.bokehjs_exec.v0+json": ""
     },
     "metadata": {
      "application/vnd.bokehjs_exec.v0+json": {
       "id": "2723"
      }
     },
     "output_type": "display_data"
    },
    {
     "data": {
      "text/markdown": [
       "**Memory utilization of gpu1 on node algo-1:**"
      ],
      "text/plain": [
       "<IPython.core.display.Markdown object>"
      ]
     },
     "metadata": {},
     "output_type": "display_data"
    },
    {
     "data": {
      "text/html": [
       "\n",
       "\n",
       "\n",
       "\n",
       "\n",
       "\n",
       "  <div class=\"bk-root\" id=\"31b2a489-42f7-48e9-aad8-0cdc3528fd3c\" data-root-id=\"2842\"></div>\n"
      ]
     },
     "metadata": {},
     "output_type": "display_data"
    },
    {
     "data": {
      "application/javascript": [
       "(function(root) {\n",
       "  function embed_document(root) {\n",
       "    \n",
       "  var docs_json = {\"e1d63070-a482-420f-a7bb-633bd7f087d9\":{\"roots\":{\"references\":[{\"attributes\":{\"text\":\" The max memory utilization of gpu1 on node algo-1 was 92.0%. The 5th percentile was only 0.0%. The difference between 5th percentile 0.0% and 95th percentile 76% is quite \\n                        significant, which means that memory utilization on gpu1 is fluctuating quite a lot.\",\"width\":900},\"id\":\"2842\",\"type\":\"Paragraph\"}],\"root_ids\":[\"2842\"]},\"title\":\"Bokeh Application\",\"version\":\"2.2.3\"}};\n",
       "  var render_items = [{\"docid\":\"e1d63070-a482-420f-a7bb-633bd7f087d9\",\"root_ids\":[\"2842\"],\"roots\":{\"2842\":\"31b2a489-42f7-48e9-aad8-0cdc3528fd3c\"}}];\n",
       "  root.Bokeh.embed.embed_items_notebook(docs_json, render_items);\n",
       "\n",
       "  }\n",
       "  if (root.Bokeh !== undefined) {\n",
       "    embed_document(root);\n",
       "  } else {\n",
       "    var attempts = 0;\n",
       "    var timer = setInterval(function(root) {\n",
       "      if (root.Bokeh !== undefined) {\n",
       "        clearInterval(timer);\n",
       "        embed_document(root);\n",
       "      } else {\n",
       "        attempts++;\n",
       "        if (attempts > 100) {\n",
       "          clearInterval(timer);\n",
       "          console.log(\"Bokeh: ERROR: Unable to run BokehJS code because BokehJS library is missing\");\n",
       "        }\n",
       "      }\n",
       "    }, 10, root)\n",
       "  }\n",
       "})(window);"
      ],
      "application/vnd.bokehjs_exec.v0+json": ""
     },
     "metadata": {
      "application/vnd.bokehjs_exec.v0+json": {
       "id": "2842"
      }
     },
     "output_type": "display_data"
    },
    {
     "data": {
      "text/markdown": [
       "**Memory utilization of gpu3 on node algo-1:**"
      ],
      "text/plain": [
       "<IPython.core.display.Markdown object>"
      ]
     },
     "metadata": {},
     "output_type": "display_data"
    },
    {
     "data": {
      "text/html": [
       "\n",
       "\n",
       "\n",
       "\n",
       "\n",
       "\n",
       "  <div class=\"bk-root\" id=\"2efa5120-b195-4dfd-8dc2-62349604e43e\" data-root-id=\"2963\"></div>\n"
      ]
     },
     "metadata": {},
     "output_type": "display_data"
    },
    {
     "data": {
      "application/javascript": [
       "(function(root) {\n",
       "  function embed_document(root) {\n",
       "    \n",
       "  var docs_json = {\"73463e9f-f0e3-45de-b57e-85923ee4c006\":{\"roots\":{\"references\":[{\"attributes\":{\"text\":\" The max memory utilization of gpu3 on node algo-1 was 87.0%. The 5th percentile was only 0.0%. The difference between 5th percentile 0.0% and 95th percentile 75% is quite \\n                        significant, which means that memory utilization on gpu3 is fluctuating quite a lot.\",\"width\":900},\"id\":\"2963\",\"type\":\"Paragraph\"}],\"root_ids\":[\"2963\"]},\"title\":\"Bokeh Application\",\"version\":\"2.2.3\"}};\n",
       "  var render_items = [{\"docid\":\"73463e9f-f0e3-45de-b57e-85923ee4c006\",\"root_ids\":[\"2963\"],\"roots\":{\"2963\":\"2efa5120-b195-4dfd-8dc2-62349604e43e\"}}];\n",
       "  root.Bokeh.embed.embed_items_notebook(docs_json, render_items);\n",
       "\n",
       "  }\n",
       "  if (root.Bokeh !== undefined) {\n",
       "    embed_document(root);\n",
       "  } else {\n",
       "    var attempts = 0;\n",
       "    var timer = setInterval(function(root) {\n",
       "      if (root.Bokeh !== undefined) {\n",
       "        clearInterval(timer);\n",
       "        embed_document(root);\n",
       "      } else {\n",
       "        attempts++;\n",
       "        if (attempts > 100) {\n",
       "          clearInterval(timer);\n",
       "          console.log(\"Bokeh: ERROR: Unable to run BokehJS code because BokehJS library is missing\");\n",
       "        }\n",
       "      }\n",
       "    }, 10, root)\n",
       "  }\n",
       "})(window);"
      ],
      "application/vnd.bokehjs_exec.v0+json": ""
     },
     "metadata": {
      "application/vnd.bokehjs_exec.v0+json": {
       "id": "2963"
      }
     },
     "output_type": "display_data"
    },
    {
     "data": {
      "text/markdown": [
       "**Memory utilization of gpu0 on node algo-1:**"
      ],
      "text/plain": [
       "<IPython.core.display.Markdown object>"
      ]
     },
     "metadata": {},
     "output_type": "display_data"
    },
    {
     "data": {
      "text/html": [
       "\n",
       "\n",
       "\n",
       "\n",
       "\n",
       "\n",
       "  <div class=\"bk-root\" id=\"f508ff92-af6a-466c-bcbb-7c587c198e62\" data-root-id=\"3084\"></div>\n"
      ]
     },
     "metadata": {},
     "output_type": "display_data"
    },
    {
     "data": {
      "application/javascript": [
       "(function(root) {\n",
       "  function embed_document(root) {\n",
       "    \n",
       "  var docs_json = {\"412d5dba-c0fe-43a7-b3ed-671a4fd134ef\":{\"roots\":{\"references\":[{\"attributes\":{\"text\":\" The max memory utilization of gpu0 on node algo-1 was 92.0%. The 5th percentile was only 2.0%. The difference between 5th percentile 2.0% and 95th percentile 78% is quite \\n                        significant, which means that memory utilization on gpu0 is fluctuating quite a lot.\",\"width\":900},\"id\":\"3084\",\"type\":\"Paragraph\"}],\"root_ids\":[\"3084\"]},\"title\":\"Bokeh Application\",\"version\":\"2.2.3\"}};\n",
       "  var render_items = [{\"docid\":\"412d5dba-c0fe-43a7-b3ed-671a4fd134ef\",\"root_ids\":[\"3084\"],\"roots\":{\"3084\":\"f508ff92-af6a-466c-bcbb-7c587c198e62\"}}];\n",
       "  root.Bokeh.embed.embed_items_notebook(docs_json, render_items);\n",
       "\n",
       "  }\n",
       "  if (root.Bokeh !== undefined) {\n",
       "    embed_document(root);\n",
       "  } else {\n",
       "    var attempts = 0;\n",
       "    var timer = setInterval(function(root) {\n",
       "      if (root.Bokeh !== undefined) {\n",
       "        clearInterval(timer);\n",
       "        embed_document(root);\n",
       "      } else {\n",
       "        attempts++;\n",
       "        if (attempts > 100) {\n",
       "          clearInterval(timer);\n",
       "          console.log(\"Bokeh: ERROR: Unable to run BokehJS code because BokehJS library is missing\");\n",
       "        }\n",
       "      }\n",
       "    }, 10, root)\n",
       "  }\n",
       "})(window);"
      ],
      "application/vnd.bokehjs_exec.v0+json": ""
     },
     "metadata": {
      "application/vnd.bokehjs_exec.v0+json": {
       "id": "3084"
      }
     },
     "output_type": "display_data"
    },
    {
     "data": {
      "text/markdown": [
       "**Memory utilization of gpu2 on node algo-1:**"
      ],
      "text/plain": [
       "<IPython.core.display.Markdown object>"
      ]
     },
     "metadata": {},
     "output_type": "display_data"
    },
    {
     "data": {
      "text/html": [
       "\n",
       "\n",
       "\n",
       "\n",
       "\n",
       "\n",
       "  <div class=\"bk-root\" id=\"28ee384c-07ce-4ad8-8c21-ce976a2858e0\" data-root-id=\"3205\"></div>\n"
      ]
     },
     "metadata": {},
     "output_type": "display_data"
    },
    {
     "data": {
      "application/javascript": [
       "(function(root) {\n",
       "  function embed_document(root) {\n",
       "    \n",
       "  var docs_json = {\"59eafd97-035f-4ad3-8f07-581cd52f1b80\":{\"roots\":{\"references\":[{\"attributes\":{\"text\":\" The max memory utilization of gpu2 on node algo-1 was 89.0%. The 5th percentile was only 0.0%. The difference between 5th percentile 0.0% and 95th percentile 76% is quite \\n                        significant, which means that memory utilization on gpu2 is fluctuating quite a lot.\",\"width\":900},\"id\":\"3205\",\"type\":\"Paragraph\"}],\"root_ids\":[\"3205\"]},\"title\":\"Bokeh Application\",\"version\":\"2.2.3\"}};\n",
       "  var render_items = [{\"docid\":\"59eafd97-035f-4ad3-8f07-581cd52f1b80\",\"root_ids\":[\"3205\"],\"roots\":{\"3205\":\"28ee384c-07ce-4ad8-8c21-ce976a2858e0\"}}];\n",
       "  root.Bokeh.embed.embed_items_notebook(docs_json, render_items);\n",
       "\n",
       "  }\n",
       "  if (root.Bokeh !== undefined) {\n",
       "    embed_document(root);\n",
       "  } else {\n",
       "    var attempts = 0;\n",
       "    var timer = setInterval(function(root) {\n",
       "      if (root.Bokeh !== undefined) {\n",
       "        clearInterval(timer);\n",
       "        embed_document(root);\n",
       "      } else {\n",
       "        attempts++;\n",
       "        if (attempts > 100) {\n",
       "          clearInterval(timer);\n",
       "          console.log(\"Bokeh: ERROR: Unable to run BokehJS code because BokehJS library is missing\");\n",
       "        }\n",
       "      }\n",
       "    }, 10, root)\n",
       "  }\n",
       "})(window);"
      ],
      "application/vnd.bokehjs_exec.v0+json": ""
     },
     "metadata": {
      "application/vnd.bokehjs_exec.v0+json": {
       "id": "3205"
      }
     },
     "output_type": "display_data"
    },
    {
     "data": {
      "text/html": [
       "\n",
       "\n",
       "\n",
       "\n",
       "\n",
       "\n",
       "  <div class=\"bk-root\" id=\"c824b6b2-935f-49d2-99fd-8c69d0e43844\" data-root-id=\"2814\"></div>\n"
      ]
     },
     "metadata": {},
     "output_type": "display_data"
    },
    {
     "data": {
      "application/javascript": [
       "(function(root) {\n",
       "  function embed_document(root) {\n",
       "    \n",
       "  var docs_json = {\"fd16e2a4-64cf-46f9-97aa-ddd4bc17ae4f\":{\"roots\":{\"references\":[{\"attributes\":{\"below\":[{\"id\":\"2825\"}],\"center\":[{\"id\":\"2828\"},{\"id\":\"2832\"}],\"left\":[{\"id\":\"2829\"}],\"plot_height\":350,\"plot_width\":1000,\"renderers\":[{\"id\":\"2936\"},{\"id\":\"2941\"},{\"id\":\"2946\"},{\"id\":\"2951\"},{\"id\":\"2956\"},{\"id\":\"2961\"},{\"id\":\"3057\"},{\"id\":\"3062\"},{\"id\":\"3067\"},{\"id\":\"3072\"},{\"id\":\"3077\"},{\"id\":\"3082\"},{\"id\":\"3178\"},{\"id\":\"3183\"},{\"id\":\"3188\"},{\"id\":\"3193\"},{\"id\":\"3198\"},{\"id\":\"3203\"},{\"id\":\"3299\"},{\"id\":\"3304\"},{\"id\":\"3309\"},{\"id\":\"3314\"},{\"id\":\"3319\"},{\"id\":\"3324\"}],\"title\":{\"id\":\"2815\"},\"toolbar\":{\"id\":\"2837\"},\"x_range\":{\"id\":\"2817\"},\"x_scale\":{\"id\":\"2821\"},\"y_range\":{\"id\":\"2819\"},\"y_scale\":{\"id\":\"2823\"}},\"id\":\"2814\",\"subtype\":\"Figure\",\"type\":\"Plot\"},{\"attributes\":{\"bottom\":{\"value\":63.0},\"fill_color\":{\"value\":\"#440154\"},\"top\":{\"value\":25.0},\"width\":{\"value\":0.7},\"x\":{\"value\":4}},\"id\":\"3312\",\"type\":\"VBar\"},{\"attributes\":{},\"id\":\"3465\",\"type\":\"UnionRenderers\"},{\"attributes\":{\"data_source\":{\"id\":\"3306\"},\"glyph\":{\"id\":\"3307\"},\"hover_glyph\":null,\"muted_glyph\":null,\"nonselection_glyph\":{\"id\":\"3308\"},\"selection_glyph\":null,\"view\":{\"id\":\"3310\"}},\"id\":\"3309\",\"type\":\"GlyphRenderer\"},{\"attributes\":{\"x0\":{\"value\":1},\"x1\":{\"value\":1},\"y0\":{\"value\":0.0},\"y1\":{\"value\":30.0}},\"id\":\"2939\",\"type\":\"Segment\"},{\"attributes\":{},\"id\":\"3466\",\"type\":\"Selection\"},{\"attributes\":{\"source\":{\"id\":\"3306\"}},\"id\":\"3310\",\"type\":\"CDSView\"},{\"attributes\":{},\"id\":\"3467\",\"type\":\"UnionRenderers\"},{\"attributes\":{\"source\":{\"id\":\"2933\"}},\"id\":\"2937\",\"type\":\"CDSView\"},{\"attributes\":{\"data\":{},\"selected\":{\"id\":\"3424\"},\"selection_policy\":{\"id\":\"3425\"}},\"id\":\"2938\",\"type\":\"ColumnDataSource\"},{\"attributes\":{\"bottom\":{\"value\":71.0},\"fill_alpha\":{\"value\":0.1},\"fill_color\":{\"value\":\"#FDE725\"},\"line_alpha\":{\"value\":0.1},\"top\":{\"value\":63.0},\"width\":{\"value\":0.7},\"x\":{\"value\":4}},\"id\":\"3308\",\"type\":\"VBar\"},{\"attributes\":{},\"id\":\"3468\",\"type\":\"Selection\"},{\"attributes\":{\"axis\":{\"id\":\"2825\"},\"grid_line_color\":null,\"grid_line_width\":0,\"ticker\":null},\"id\":\"2828\",\"type\":\"Grid\"},{\"attributes\":{\"bottom\":{\"value\":63.0},\"fill_color\":{\"value\":\"#440154\"},\"top\":{\"value\":30.0},\"width\":{\"value\":0.7},\"x\":{\"value\":1}},\"id\":\"2949\",\"type\":\"VBar\"},{\"attributes\":{\"fill_color\":{\"value\":\"#1f77b4\"},\"height\":{\"units\":\"data\",\"value\":0.01},\"width\":{\"units\":\"data\",\"value\":0.2},\"x\":{\"value\":4},\"y\":{\"value\":0.0}},\"id\":\"3317\",\"type\":\"Rect\"},{\"attributes\":{\"formatter\":{\"id\":\"3421\"},\"major_label_overrides\":{\"1\":\"gpu1\",\"2\":\"gpu3\",\"3\":\"gpu0\",\"4\":\"gpu2\"},\"major_label_text_font_size\":\"10px\",\"ticker\":{\"id\":\"3326\"}},\"id\":\"2825\",\"type\":\"LinearAxis\"},{\"attributes\":{\"data_source\":{\"id\":\"2938\"},\"glyph\":{\"id\":\"2939\"},\"hover_glyph\":null,\"muted_glyph\":null,\"nonselection_glyph\":{\"id\":\"2940\"},\"selection_glyph\":null,\"view\":{\"id\":\"2942\"}},\"id\":\"2941\",\"type\":\"GlyphRenderer\"},{\"attributes\":{},\"id\":\"3469\",\"type\":\"UnionRenderers\"},{\"attributes\":{\"bottom\":{\"value\":70.0},\"fill_color\":{\"value\":\"#FDE725\"},\"top\":{\"value\":63.0},\"width\":{\"value\":0.7},\"x\":{\"value\":1}},\"id\":\"2944\",\"type\":\"VBar\"},{\"attributes\":{\"end\":17},\"id\":\"2817\",\"type\":\"Range1d\"},{\"attributes\":{\"data\":{},\"selected\":{\"id\":\"3464\"},\"selection_policy\":{\"id\":\"3465\"}},\"id\":\"3311\",\"type\":\"ColumnDataSource\"},{\"attributes\":{\"data_source\":{\"id\":\"3311\"},\"glyph\":{\"id\":\"3312\"},\"hover_glyph\":null,\"muted_glyph\":null,\"nonselection_glyph\":{\"id\":\"3313\"},\"selection_glyph\":null,\"view\":{\"id\":\"3315\"}},\"id\":\"3314\",\"type\":\"GlyphRenderer\"},{\"attributes\":{\"line_alpha\":{\"value\":0.1},\"x0\":{\"value\":1},\"x1\":{\"value\":1},\"y0\":{\"value\":0.0},\"y1\":{\"value\":30.0}},\"id\":\"2940\",\"type\":\"Segment\"},{\"attributes\":{},\"id\":\"2819\",\"type\":\"DataRange1d\"},{\"attributes\":{\"source\":{\"id\":\"2938\"}},\"id\":\"2942\",\"type\":\"CDSView\"},{\"attributes\":{\"source\":{\"id\":\"3311\"}},\"id\":\"3315\",\"type\":\"CDSView\"},{\"attributes\":{},\"id\":\"2835\",\"type\":\"ResetTool\"},{\"attributes\":{},\"id\":\"2830\",\"type\":\"BasicTicker\"},{\"attributes\":{\"data\":{},\"selected\":{\"id\":\"3426\"},\"selection_policy\":{\"id\":\"3427\"}},\"id\":\"2943\",\"type\":\"ColumnDataSource\"},{\"attributes\":{\"bottom\":{\"value\":63.0},\"fill_alpha\":{\"value\":0.1},\"fill_color\":{\"value\":\"#440154\"},\"line_alpha\":{\"value\":0.1},\"top\":{\"value\":25.0},\"width\":{\"value\":0.7},\"x\":{\"value\":4}},\"id\":\"3313\",\"type\":\"VBar\"},{\"attributes\":{\"data_source\":{\"id\":\"2943\"},\"glyph\":{\"id\":\"2944\"},\"hover_glyph\":null,\"muted_glyph\":null,\"nonselection_glyph\":{\"id\":\"2945\"},\"selection_glyph\":null,\"view\":{\"id\":\"2947\"}},\"id\":\"2946\",\"type\":\"GlyphRenderer\"},{\"attributes\":{\"fill_color\":{\"value\":\"#1f77b4\"},\"height\":{\"units\":\"data\",\"value\":0.01},\"width\":{\"units\":\"data\",\"value\":0.2},\"x\":{\"value\":4},\"y\":{\"value\":89.0}},\"id\":\"3322\",\"type\":\"Rect\"},{\"attributes\":{\"line_alpha\":{\"value\":0.1},\"x0\":{\"value\":1},\"x1\":{\"value\":1},\"y0\":{\"value\":92.0},\"y1\":{\"value\":70.0}},\"id\":\"2935\",\"type\":\"Segment\"},{\"attributes\":{},\"id\":\"2823\",\"type\":\"LinearScale\"},{\"attributes\":{\"source\":{\"id\":\"2943\"}},\"id\":\"2947\",\"type\":\"CDSView\"},{\"attributes\":{\"data\":{},\"selected\":{\"id\":\"3466\"},\"selection_policy\":{\"id\":\"3467\"}},\"id\":\"3316\",\"type\":\"ColumnDataSource\"},{\"attributes\":{\"data_source\":{\"id\":\"3175\"},\"glyph\":{\"id\":\"3176\"},\"hover_glyph\":null,\"muted_glyph\":null,\"nonselection_glyph\":{\"id\":\"3177\"},\"selection_glyph\":null,\"view\":{\"id\":\"3179\"}},\"id\":\"3178\",\"type\":\"GlyphRenderer\"},{\"attributes\":{\"bottom\":{\"value\":70.0},\"fill_alpha\":{\"value\":0.1},\"fill_color\":{\"value\":\"#FDE725\"},\"line_alpha\":{\"value\":0.1},\"top\":{\"value\":63.0},\"width\":{\"value\":0.7},\"x\":{\"value\":1}},\"id\":\"2945\",\"type\":\"VBar\"},{\"attributes\":{\"fill_color\":{\"value\":\"#1f77b4\"},\"height\":{\"units\":\"data\",\"value\":0.01},\"width\":{\"units\":\"data\",\"value\":0.2},\"x\":{\"value\":1},\"y\":{\"value\":0.0}},\"id\":\"2954\",\"type\":\"Rect\"},{\"attributes\":{\"data\":{},\"selected\":{\"id\":\"3468\"},\"selection_policy\":{\"id\":\"3469\"}},\"id\":\"3321\",\"type\":\"ColumnDataSource\"},{\"attributes\":{},\"id\":\"2821\",\"type\":\"LinearScale\"},{\"attributes\":{\"source\":{\"id\":\"3316\"}},\"id\":\"3320\",\"type\":\"CDSView\"},{\"attributes\":{\"data\":{},\"selected\":{\"id\":\"3428\"},\"selection_policy\":{\"id\":\"3429\"}},\"id\":\"2948\",\"type\":\"ColumnDataSource\"},{\"attributes\":{\"data_source\":{\"id\":\"2948\"},\"glyph\":{\"id\":\"2949\"},\"hover_glyph\":null,\"muted_glyph\":null,\"nonselection_glyph\":{\"id\":\"2950\"},\"selection_glyph\":null,\"view\":{\"id\":\"2952\"}},\"id\":\"2951\",\"type\":\"GlyphRenderer\"},{\"attributes\":{\"data_source\":{\"id\":\"3316\"},\"glyph\":{\"id\":\"3317\"},\"hover_glyph\":null,\"muted_glyph\":null,\"nonselection_glyph\":{\"id\":\"3318\"},\"selection_glyph\":null,\"view\":{\"id\":\"3320\"}},\"id\":\"3319\",\"type\":\"GlyphRenderer\"},{\"attributes\":{\"source\":{\"id\":\"2948\"}},\"id\":\"2952\",\"type\":\"CDSView\"},{\"attributes\":{\"text\":\"Node algo-1\"},\"id\":\"2815\",\"type\":\"Title\"},{\"attributes\":{\"fill_alpha\":{\"value\":0.1},\"fill_color\":{\"value\":\"#1f77b4\"},\"height\":{\"units\":\"data\",\"value\":0.01},\"line_alpha\":{\"value\":0.1},\"width\":{\"units\":\"data\",\"value\":0.2},\"x\":{\"value\":4},\"y\":{\"value\":0.0}},\"id\":\"3318\",\"type\":\"Rect\"},{\"attributes\":{\"data_source\":{\"id\":\"2933\"},\"glyph\":{\"id\":\"2934\"},\"hover_glyph\":null,\"muted_glyph\":null,\"nonselection_glyph\":{\"id\":\"2935\"},\"selection_glyph\":null,\"view\":{\"id\":\"2937\"}},\"id\":\"2936\",\"type\":\"GlyphRenderer\"},{\"attributes\":{},\"id\":\"3419\",\"type\":\"BasicTickFormatter\"},{\"attributes\":{\"bottom\":{\"value\":63.0},\"fill_alpha\":{\"value\":0.1},\"fill_color\":{\"value\":\"#440154\"},\"line_alpha\":{\"value\":0.1},\"top\":{\"value\":30.0},\"width\":{\"value\":0.7},\"x\":{\"value\":1}},\"id\":\"2950\",\"type\":\"VBar\"},{\"attributes\":{\"source\":{\"id\":\"3180\"}},\"id\":\"3184\",\"type\":\"CDSView\"},{\"attributes\":{\"axis\":{\"id\":\"2829\"},\"dimension\":1,\"grid_line_color\":\"white\",\"grid_line_width\":0,\"ticker\":null},\"id\":\"2832\",\"type\":\"Grid\"},{\"attributes\":{},\"id\":\"3421\",\"type\":\"BasicTickFormatter\"},{\"attributes\":{\"axis_label\":\"Utilization in %\",\"formatter\":{\"id\":\"3419\"},\"ticker\":{\"id\":\"2830\"}},\"id\":\"2829\",\"type\":\"LinearAxis\"},{\"attributes\":{\"source\":{\"id\":\"3321\"}},\"id\":\"3325\",\"type\":\"CDSView\"},{\"attributes\":{\"data\":{},\"selected\":{\"id\":\"3430\"},\"selection_policy\":{\"id\":\"3431\"}},\"id\":\"2953\",\"type\":\"ColumnDataSource\"},{\"attributes\":{\"data_source\":{\"id\":\"3180\"},\"glyph\":{\"id\":\"3181\"},\"hover_glyph\":null,\"muted_glyph\":null,\"nonselection_glyph\":{\"id\":\"3182\"},\"selection_glyph\":null,\"view\":{\"id\":\"3184\"}},\"id\":\"3183\",\"type\":\"GlyphRenderer\"},{\"attributes\":{\"bottom\":{\"value\":61.0},\"fill_color\":{\"value\":\"#440154\"},\"top\":{\"value\":28.0},\"width\":{\"value\":0.7},\"x\":{\"value\":2}},\"id\":\"3070\",\"type\":\"VBar\"},{\"attributes\":{\"data\":{},\"selected\":{\"id\":\"3432\"},\"selection_policy\":{\"id\":\"3433\"}},\"id\":\"2958\",\"type\":\"ColumnDataSource\"},{\"attributes\":{\"data_source\":{\"id\":\"3321\"},\"glyph\":{\"id\":\"3322\"},\"hover_glyph\":null,\"muted_glyph\":null,\"nonselection_glyph\":{\"id\":\"3323\"},\"selection_glyph\":null,\"view\":{\"id\":\"3325\"}},\"id\":\"3324\",\"type\":\"GlyphRenderer\"},{\"attributes\":{\"callback\":null},\"id\":\"2833\",\"type\":\"HoverTool\"},{\"attributes\":{},\"id\":\"2834\",\"type\":\"WheelZoomTool\"},{\"attributes\":{\"source\":{\"id\":\"2953\"}},\"id\":\"2957\",\"type\":\"CDSView\"},{\"attributes\":{},\"id\":\"3424\",\"type\":\"Selection\"},{\"attributes\":{\"fill_alpha\":{\"value\":0.1},\"fill_color\":{\"value\":\"#1f77b4\"},\"height\":{\"units\":\"data\",\"value\":0.01},\"line_alpha\":{\"value\":0.1},\"width\":{\"units\":\"data\",\"value\":0.2},\"x\":{\"value\":1},\"y\":{\"value\":92.0}},\"id\":\"2960\",\"type\":\"Rect\"},{\"attributes\":{},\"id\":\"2836\",\"type\":\"PanTool\"},{\"attributes\":{},\"id\":\"3426\",\"type\":\"Selection\"},{\"attributes\":{\"data_source\":{\"id\":\"2953\"},\"glyph\":{\"id\":\"2954\"},\"hover_glyph\":null,\"muted_glyph\":null,\"nonselection_glyph\":{\"id\":\"2955\"},\"selection_glyph\":null,\"view\":{\"id\":\"2957\"}},\"id\":\"2956\",\"type\":\"GlyphRenderer\"},{\"attributes\":{\"data\":{},\"selected\":{\"id\":\"3422\"},\"selection_policy\":{\"id\":\"3423\"}},\"id\":\"2933\",\"type\":\"ColumnDataSource\"},{\"attributes\":{},\"id\":\"3423\",\"type\":\"UnionRenderers\"},{\"attributes\":{\"fill_alpha\":{\"value\":0.1},\"fill_color\":{\"value\":\"#1f77b4\"},\"height\":{\"units\":\"data\",\"value\":0.01},\"line_alpha\":{\"value\":0.1},\"width\":{\"units\":\"data\",\"value\":0.2},\"x\":{\"value\":1},\"y\":{\"value\":0.0}},\"id\":\"2955\",\"type\":\"Rect\"},{\"attributes\":{\"fill_color\":{\"value\":\"#1f77b4\"},\"height\":{\"units\":\"data\",\"value\":0.01},\"width\":{\"units\":\"data\",\"value\":0.2},\"x\":{\"value\":1},\"y\":{\"value\":92.0}},\"id\":\"2959\",\"type\":\"Rect\"},{\"attributes\":{},\"id\":\"3425\",\"type\":\"UnionRenderers\"},{\"attributes\":{},\"id\":\"3428\",\"type\":\"Selection\"},{\"attributes\":{\"data\":{},\"selected\":{\"id\":\"3434\"},\"selection_policy\":{\"id\":\"3435\"}},\"id\":\"3054\",\"type\":\"ColumnDataSource\"},{\"attributes\":{\"x0\":{\"value\":3},\"x1\":{\"value\":3},\"y0\":{\"value\":0.0},\"y1\":{\"value\":37.0}},\"id\":\"3181\",\"type\":\"Segment\"},{\"attributes\":{\"data\":{},\"selected\":{\"id\":\"3450\"},\"selection_policy\":{\"id\":\"3451\"}},\"id\":\"3185\",\"type\":\"ColumnDataSource\"},{\"attributes\":{\"source\":{\"id\":\"3175\"}},\"id\":\"3179\",\"type\":\"CDSView\"},{\"attributes\":{},\"id\":\"3427\",\"type\":\"UnionRenderers\"},{\"attributes\":{\"ticks\":[0,1,2,3,4]},\"id\":\"3326\",\"type\":\"FixedTicker\"},{\"attributes\":{\"source\":{\"id\":\"2958\"}},\"id\":\"2962\",\"type\":\"CDSView\"},{\"attributes\":{\"bottom\":{\"value\":69.0},\"fill_color\":{\"value\":\"#FDE725\"},\"top\":{\"value\":61.0},\"width\":{\"value\":0.7},\"x\":{\"value\":3}},\"id\":\"3186\",\"type\":\"VBar\"},{\"attributes\":{\"data_source\":{\"id\":\"2958\"},\"glyph\":{\"id\":\"2959\"},\"hover_glyph\":null,\"muted_glyph\":null,\"nonselection_glyph\":{\"id\":\"2960\"},\"selection_glyph\":null,\"view\":{\"id\":\"2962\"}},\"id\":\"2961\",\"type\":\"GlyphRenderer\"},{\"attributes\":{},\"id\":\"3429\",\"type\":\"UnionRenderers\"},{\"attributes\":{\"line_alpha\":{\"value\":0.1},\"x0\":{\"value\":3},\"x1\":{\"value\":3},\"y0\":{\"value\":92.0},\"y1\":{\"value\":69.0}},\"id\":\"3177\",\"type\":\"Segment\"},{\"attributes\":{\"data\":{},\"selected\":{\"id\":\"3448\"},\"selection_policy\":{\"id\":\"3449\"}},\"id\":\"3180\",\"type\":\"ColumnDataSource\"},{\"attributes\":{},\"id\":\"3430\",\"type\":\"Selection\"},{\"attributes\":{\"x0\":{\"value\":2},\"x1\":{\"value\":2},\"y0\":{\"value\":87.0},\"y1\":{\"value\":69.0}},\"id\":\"3055\",\"type\":\"Segment\"},{\"attributes\":{\"x0\":{\"value\":1},\"x1\":{\"value\":1},\"y0\":{\"value\":92.0},\"y1\":{\"value\":70.0}},\"id\":\"2934\",\"type\":\"Segment\"},{\"attributes\":{},\"id\":\"3431\",\"type\":\"UnionRenderers\"},{\"attributes\":{\"active_drag\":\"auto\",\"active_inspect\":\"auto\",\"active_multi\":null,\"active_scroll\":\"auto\",\"active_tap\":\"auto\",\"tools\":[{\"id\":\"2833\"},{\"id\":\"2834\"},{\"id\":\"2835\"},{\"id\":\"2836\"}]},\"id\":\"2837\",\"type\":\"Toolbar\"},{\"attributes\":{},\"id\":\"3432\",\"type\":\"Selection\"},{\"attributes\":{\"line_alpha\":{\"value\":0.1},\"x0\":{\"value\":2},\"x1\":{\"value\":2},\"y0\":{\"value\":87.0},\"y1\":{\"value\":69.0}},\"id\":\"3056\",\"type\":\"Segment\"},{\"attributes\":{\"line_alpha\":{\"value\":0.1},\"x0\":{\"value\":3},\"x1\":{\"value\":3},\"y0\":{\"value\":0.0},\"y1\":{\"value\":37.0}},\"id\":\"3182\",\"type\":\"Segment\"},{\"attributes\":{},\"id\":\"3433\",\"type\":\"UnionRenderers\"},{\"attributes\":{\"data_source\":{\"id\":\"3185\"},\"glyph\":{\"id\":\"3186\"},\"hover_glyph\":null,\"muted_glyph\":null,\"nonselection_glyph\":{\"id\":\"3187\"},\"selection_glyph\":null,\"view\":{\"id\":\"3189\"}},\"id\":\"3188\",\"type\":\"GlyphRenderer\"},{\"attributes\":{\"data_source\":{\"id\":\"3054\"},\"glyph\":{\"id\":\"3055\"},\"hover_glyph\":null,\"muted_glyph\":null,\"nonselection_glyph\":{\"id\":\"3056\"},\"selection_glyph\":null,\"view\":{\"id\":\"3058\"}},\"id\":\"3057\",\"type\":\"GlyphRenderer\"},{\"attributes\":{},\"id\":\"3434\",\"type\":\"Selection\"},{\"attributes\":{\"bottom\":{\"value\":69.0},\"fill_color\":{\"value\":\"#FDE725\"},\"top\":{\"value\":61.0},\"width\":{\"value\":0.7},\"x\":{\"value\":2}},\"id\":\"3065\",\"type\":\"VBar\"},{\"attributes\":{\"bottom\":{\"value\":69.0},\"fill_alpha\":{\"value\":0.1},\"fill_color\":{\"value\":\"#FDE725\"},\"line_alpha\":{\"value\":0.1},\"top\":{\"value\":61.0},\"width\":{\"value\":0.7},\"x\":{\"value\":3}},\"id\":\"3187\",\"type\":\"VBar\"},{\"attributes\":{\"data\":{},\"selected\":{\"id\":\"3436\"},\"selection_policy\":{\"id\":\"3437\"}},\"id\":\"3059\",\"type\":\"ColumnDataSource\"},{\"attributes\":{},\"id\":\"3435\",\"type\":\"UnionRenderers\"},{\"attributes\":{\"x0\":{\"value\":2},\"x1\":{\"value\":2},\"y0\":{\"value\":0.0},\"y1\":{\"value\":28.0}},\"id\":\"3060\",\"type\":\"Segment\"},{\"attributes\":{\"fill_color\":{\"value\":\"#1f77b4\"},\"height\":{\"units\":\"data\",\"value\":0.01},\"width\":{\"units\":\"data\",\"value\":0.2},\"x\":{\"value\":3},\"y\":{\"value\":0.0}},\"id\":\"3196\",\"type\":\"Rect\"},{\"attributes\":{},\"id\":\"3436\",\"type\":\"Selection\"},{\"attributes\":{\"source\":{\"id\":\"3185\"}},\"id\":\"3189\",\"type\":\"CDSView\"},{\"attributes\":{\"source\":{\"id\":\"3054\"}},\"id\":\"3058\",\"type\":\"CDSView\"},{\"attributes\":{\"bottom\":{\"value\":61.0},\"fill_color\":{\"value\":\"#440154\"},\"top\":{\"value\":37.0},\"width\":{\"value\":0.7},\"x\":{\"value\":3}},\"id\":\"3191\",\"type\":\"VBar\"},{\"attributes\":{},\"id\":\"3437\",\"type\":\"UnionRenderers\"},{\"attributes\":{\"data\":{},\"selected\":{\"id\":\"3452\"},\"selection_policy\":{\"id\":\"3453\"}},\"id\":\"3190\",\"type\":\"ColumnDataSource\"},{\"attributes\":{},\"id\":\"3438\",\"type\":\"Selection\"},{\"attributes\":{\"data_source\":{\"id\":\"3190\"},\"glyph\":{\"id\":\"3191\"},\"hover_glyph\":null,\"muted_glyph\":null,\"nonselection_glyph\":{\"id\":\"3192\"},\"selection_glyph\":null,\"view\":{\"id\":\"3194\"}},\"id\":\"3193\",\"type\":\"GlyphRenderer\"},{\"attributes\":{},\"id\":\"3439\",\"type\":\"UnionRenderers\"},{\"attributes\":{\"source\":{\"id\":\"3190\"}},\"id\":\"3194\",\"type\":\"CDSView\"},{\"attributes\":{\"data_source\":{\"id\":\"3059\"},\"glyph\":{\"id\":\"3060\"},\"hover_glyph\":null,\"muted_glyph\":null,\"nonselection_glyph\":{\"id\":\"3061\"},\"selection_glyph\":null,\"view\":{\"id\":\"3063\"}},\"id\":\"3062\",\"type\":\"GlyphRenderer\"},{\"attributes\":{},\"id\":\"3440\",\"type\":\"Selection\"},{\"attributes\":{\"bottom\":{\"value\":61.0},\"fill_alpha\":{\"value\":0.1},\"fill_color\":{\"value\":\"#440154\"},\"line_alpha\":{\"value\":0.1},\"top\":{\"value\":37.0},\"width\":{\"value\":0.7},\"x\":{\"value\":3}},\"id\":\"3192\",\"type\":\"VBar\"},{\"attributes\":{},\"id\":\"3441\",\"type\":\"UnionRenderers\"},{\"attributes\":{\"line_alpha\":{\"value\":0.1},\"x0\":{\"value\":2},\"x1\":{\"value\":2},\"y0\":{\"value\":0.0},\"y1\":{\"value\":28.0}},\"id\":\"3061\",\"type\":\"Segment\"},{\"attributes\":{\"fill_color\":{\"value\":\"#1f77b4\"},\"height\":{\"units\":\"data\",\"value\":0.01},\"width\":{\"units\":\"data\",\"value\":0.2},\"x\":{\"value\":3},\"y\":{\"value\":92.0}},\"id\":\"3201\",\"type\":\"Rect\"},{\"attributes\":{},\"id\":\"3442\",\"type\":\"Selection\"},{\"attributes\":{\"source\":{\"id\":\"3059\"}},\"id\":\"3063\",\"type\":\"CDSView\"},{\"attributes\":{\"data\":{},\"selected\":{\"id\":\"3454\"},\"selection_policy\":{\"id\":\"3455\"}},\"id\":\"3195\",\"type\":\"ColumnDataSource\"},{\"attributes\":{},\"id\":\"3443\",\"type\":\"UnionRenderers\"},{\"attributes\":{\"data\":{},\"selected\":{\"id\":\"3438\"},\"selection_policy\":{\"id\":\"3439\"}},\"id\":\"3064\",\"type\":\"ColumnDataSource\"},{\"attributes\":{\"x0\":{\"value\":4},\"x1\":{\"value\":4},\"y0\":{\"value\":89.0},\"y1\":{\"value\":71.0}},\"id\":\"3297\",\"type\":\"Segment\"},{\"attributes\":{\"data_source\":{\"id\":\"3064\"},\"glyph\":{\"id\":\"3065\"},\"hover_glyph\":null,\"muted_glyph\":null,\"nonselection_glyph\":{\"id\":\"3066\"},\"selection_glyph\":null,\"view\":{\"id\":\"3068\"}},\"id\":\"3067\",\"type\":\"GlyphRenderer\"},{\"attributes\":{},\"id\":\"3444\",\"type\":\"Selection\"},{\"attributes\":{\"source\":{\"id\":\"3064\"}},\"id\":\"3068\",\"type\":\"CDSView\"},{\"attributes\":{\"data\":{},\"selected\":{\"id\":\"3456\"},\"selection_policy\":{\"id\":\"3457\"}},\"id\":\"3200\",\"type\":\"ColumnDataSource\"},{\"attributes\":{\"data\":{},\"selected\":{\"id\":\"3440\"},\"selection_policy\":{\"id\":\"3441\"}},\"id\":\"3069\",\"type\":\"ColumnDataSource\"},{\"attributes\":{},\"id\":\"3445\",\"type\":\"UnionRenderers\"},{\"attributes\":{\"bottom\":{\"value\":69.0},\"fill_alpha\":{\"value\":0.1},\"fill_color\":{\"value\":\"#FDE725\"},\"line_alpha\":{\"value\":0.1},\"top\":{\"value\":61.0},\"width\":{\"value\":0.7},\"x\":{\"value\":2}},\"id\":\"3066\",\"type\":\"VBar\"},{\"attributes\":{\"source\":{\"id\":\"3195\"}},\"id\":\"3199\",\"type\":\"CDSView\"},{\"attributes\":{\"fill_color\":{\"value\":\"#1f77b4\"},\"height\":{\"units\":\"data\",\"value\":0.01},\"width\":{\"units\":\"data\",\"value\":0.2},\"x\":{\"value\":2},\"y\":{\"value\":0.0}},\"id\":\"3075\",\"type\":\"Rect\"},{\"attributes\":{},\"id\":\"3446\",\"type\":\"Selection\"},{\"attributes\":{},\"id\":\"3447\",\"type\":\"UnionRenderers\"},{\"attributes\":{\"data_source\":{\"id\":\"3195\"},\"glyph\":{\"id\":\"3196\"},\"hover_glyph\":null,\"muted_glyph\":null,\"nonselection_glyph\":{\"id\":\"3197\"},\"selection_glyph\":null,\"view\":{\"id\":\"3199\"}},\"id\":\"3198\",\"type\":\"GlyphRenderer\"},{\"attributes\":{\"data_source\":{\"id\":\"3069\"},\"glyph\":{\"id\":\"3070\"},\"hover_glyph\":null,\"muted_glyph\":null,\"nonselection_glyph\":{\"id\":\"3071\"},\"selection_glyph\":null,\"view\":{\"id\":\"3073\"}},\"id\":\"3072\",\"type\":\"GlyphRenderer\"},{\"attributes\":{\"fill_alpha\":{\"value\":0.1},\"fill_color\":{\"value\":\"#1f77b4\"},\"height\":{\"units\":\"data\",\"value\":0.01},\"line_alpha\":{\"value\":0.1},\"width\":{\"units\":\"data\",\"value\":0.2},\"x\":{\"value\":3},\"y\":{\"value\":0.0}},\"id\":\"3197\",\"type\":\"Rect\"},{\"attributes\":{},\"id\":\"3448\",\"type\":\"Selection\"},{\"attributes\":{\"source\":{\"id\":\"3069\"}},\"id\":\"3073\",\"type\":\"CDSView\"},{\"attributes\":{\"fill_alpha\":{\"value\":0.1},\"fill_color\":{\"value\":\"#1f77b4\"},\"height\":{\"units\":\"data\",\"value\":0.01},\"line_alpha\":{\"value\":0.1},\"width\":{\"units\":\"data\",\"value\":0.2},\"x\":{\"value\":3},\"y\":{\"value\":92.0}},\"id\":\"3202\",\"type\":\"Rect\"},{\"attributes\":{},\"id\":\"3449\",\"type\":\"UnionRenderers\"},{\"attributes\":{},\"id\":\"3422\",\"type\":\"Selection\"},{\"attributes\":{\"bottom\":{\"value\":61.0},\"fill_alpha\":{\"value\":0.1},\"fill_color\":{\"value\":\"#440154\"},\"line_alpha\":{\"value\":0.1},\"top\":{\"value\":28.0},\"width\":{\"value\":0.7},\"x\":{\"value\":2}},\"id\":\"3071\",\"type\":\"VBar\"},{\"attributes\":{},\"id\":\"3450\",\"type\":\"Selection\"},{\"attributes\":{\"fill_color\":{\"value\":\"#1f77b4\"},\"height\":{\"units\":\"data\",\"value\":0.01},\"width\":{\"units\":\"data\",\"value\":0.2},\"x\":{\"value\":2},\"y\":{\"value\":87.0}},\"id\":\"3080\",\"type\":\"Rect\"},{\"attributes\":{\"source\":{\"id\":\"3200\"}},\"id\":\"3204\",\"type\":\"CDSView\"},{\"attributes\":{},\"id\":\"3451\",\"type\":\"UnionRenderers\"},{\"attributes\":{\"data_source\":{\"id\":\"3200\"},\"glyph\":{\"id\":\"3201\"},\"hover_glyph\":null,\"muted_glyph\":null,\"nonselection_glyph\":{\"id\":\"3202\"},\"selection_glyph\":null,\"view\":{\"id\":\"3204\"}},\"id\":\"3203\",\"type\":\"GlyphRenderer\"},{\"attributes\":{\"data\":{},\"selected\":{\"id\":\"3442\"},\"selection_policy\":{\"id\":\"3443\"}},\"id\":\"3074\",\"type\":\"ColumnDataSource\"},{\"attributes\":{},\"id\":\"3452\",\"type\":\"Selection\"},{\"attributes\":{\"fill_alpha\":{\"value\":0.1},\"fill_color\":{\"value\":\"#1f77b4\"},\"height\":{\"units\":\"data\",\"value\":0.01},\"line_alpha\":{\"value\":0.1},\"width\":{\"units\":\"data\",\"value\":0.2},\"x\":{\"value\":4},\"y\":{\"value\":89.0}},\"id\":\"3323\",\"type\":\"Rect\"},{\"attributes\":{},\"id\":\"3453\",\"type\":\"UnionRenderers\"},{\"attributes\":{\"data\":{},\"selected\":{\"id\":\"3444\"},\"selection_policy\":{\"id\":\"3445\"}},\"id\":\"3079\",\"type\":\"ColumnDataSource\"},{\"attributes\":{\"bottom\":{\"value\":71.0},\"fill_color\":{\"value\":\"#FDE725\"},\"top\":{\"value\":63.0},\"width\":{\"value\":0.7},\"x\":{\"value\":4}},\"id\":\"3307\",\"type\":\"VBar\"},{\"attributes\":{},\"id\":\"3454\",\"type\":\"Selection\"},{\"attributes\":{\"source\":{\"id\":\"3074\"}},\"id\":\"3078\",\"type\":\"CDSView\"},{\"attributes\":{\"line_alpha\":{\"value\":0.1},\"x0\":{\"value\":4},\"x1\":{\"value\":4},\"y0\":{\"value\":0.0},\"y1\":{\"value\":25.0}},\"id\":\"3303\",\"type\":\"Segment\"},{\"attributes\":{\"data\":{},\"selected\":{\"id\":\"3462\"},\"selection_policy\":{\"id\":\"3463\"}},\"id\":\"3306\",\"type\":\"ColumnDataSource\"},{\"attributes\":{},\"id\":\"3455\",\"type\":\"UnionRenderers\"},{\"attributes\":{\"data_source\":{\"id\":\"3301\"},\"glyph\":{\"id\":\"3302\"},\"hover_glyph\":null,\"muted_glyph\":null,\"nonselection_glyph\":{\"id\":\"3303\"},\"selection_glyph\":null,\"view\":{\"id\":\"3305\"}},\"id\":\"3304\",\"type\":\"GlyphRenderer\"},{\"attributes\":{},\"id\":\"3456\",\"type\":\"Selection\"},{\"attributes\":{\"data_source\":{\"id\":\"3074\"},\"glyph\":{\"id\":\"3075\"},\"hover_glyph\":null,\"muted_glyph\":null,\"nonselection_glyph\":{\"id\":\"3076\"},\"selection_glyph\":null,\"view\":{\"id\":\"3078\"}},\"id\":\"3077\",\"type\":\"GlyphRenderer\"},{\"attributes\":{\"source\":{\"id\":\"3301\"}},\"id\":\"3305\",\"type\":\"CDSView\"},{\"attributes\":{\"fill_alpha\":{\"value\":0.1},\"fill_color\":{\"value\":\"#1f77b4\"},\"height\":{\"units\":\"data\",\"value\":0.01},\"line_alpha\":{\"value\":0.1},\"width\":{\"units\":\"data\",\"value\":0.2},\"x\":{\"value\":2},\"y\":{\"value\":0.0}},\"id\":\"3076\",\"type\":\"Rect\"},{\"attributes\":{},\"id\":\"3457\",\"type\":\"UnionRenderers\"},{\"attributes\":{},\"id\":\"3458\",\"type\":\"Selection\"},{\"attributes\":{\"data\":{},\"selected\":{\"id\":\"3460\"},\"selection_policy\":{\"id\":\"3461\"}},\"id\":\"3301\",\"type\":\"ColumnDataSource\"},{\"attributes\":{},\"id\":\"3459\",\"type\":\"UnionRenderers\"},{\"attributes\":{\"source\":{\"id\":\"3079\"}},\"id\":\"3083\",\"type\":\"CDSView\"},{\"attributes\":{\"source\":{\"id\":\"3296\"}},\"id\":\"3300\",\"type\":\"CDSView\"},{\"attributes\":{},\"id\":\"3460\",\"type\":\"Selection\"},{\"attributes\":{\"line_alpha\":{\"value\":0.1},\"x0\":{\"value\":4},\"x1\":{\"value\":4},\"y0\":{\"value\":89.0},\"y1\":{\"value\":71.0}},\"id\":\"3298\",\"type\":\"Segment\"},{\"attributes\":{},\"id\":\"3461\",\"type\":\"UnionRenderers\"},{\"attributes\":{\"data_source\":{\"id\":\"3079\"},\"glyph\":{\"id\":\"3080\"},\"hover_glyph\":null,\"muted_glyph\":null,\"nonselection_glyph\":{\"id\":\"3081\"},\"selection_glyph\":null,\"view\":{\"id\":\"3083\"}},\"id\":\"3082\",\"type\":\"GlyphRenderer\"},{\"attributes\":{\"x0\":{\"value\":4},\"x1\":{\"value\":4},\"y0\":{\"value\":0.0},\"y1\":{\"value\":25.0}},\"id\":\"3302\",\"type\":\"Segment\"},{\"attributes\":{\"data_source\":{\"id\":\"3296\"},\"glyph\":{\"id\":\"3297\"},\"hover_glyph\":null,\"muted_glyph\":null,\"nonselection_glyph\":{\"id\":\"3298\"},\"selection_glyph\":null,\"view\":{\"id\":\"3300\"}},\"id\":\"3299\",\"type\":\"GlyphRenderer\"},{\"attributes\":{\"fill_alpha\":{\"value\":0.1},\"fill_color\":{\"value\":\"#1f77b4\"},\"height\":{\"units\":\"data\",\"value\":0.01},\"line_alpha\":{\"value\":0.1},\"width\":{\"units\":\"data\",\"value\":0.2},\"x\":{\"value\":2},\"y\":{\"value\":87.0}},\"id\":\"3081\",\"type\":\"Rect\"},{\"attributes\":{},\"id\":\"3462\",\"type\":\"Selection\"},{\"attributes\":{\"data\":{},\"selected\":{\"id\":\"3446\"},\"selection_policy\":{\"id\":\"3447\"}},\"id\":\"3175\",\"type\":\"ColumnDataSource\"},{\"attributes\":{\"data\":{},\"selected\":{\"id\":\"3458\"},\"selection_policy\":{\"id\":\"3459\"}},\"id\":\"3296\",\"type\":\"ColumnDataSource\"},{\"attributes\":{},\"id\":\"3463\",\"type\":\"UnionRenderers\"},{\"attributes\":{},\"id\":\"3464\",\"type\":\"Selection\"},{\"attributes\":{\"x0\":{\"value\":3},\"x1\":{\"value\":3},\"y0\":{\"value\":92.0},\"y1\":{\"value\":69.0}},\"id\":\"3176\",\"type\":\"Segment\"}],\"root_ids\":[\"2814\"]},\"title\":\"Bokeh Application\",\"version\":\"2.2.3\"}};\n",
       "  var render_items = [{\"docid\":\"fd16e2a4-64cf-46f9-97aa-ddd4bc17ae4f\",\"root_ids\":[\"2814\"],\"roots\":{\"2814\":\"c824b6b2-935f-49d2-99fd-8c69d0e43844\"}}];\n",
       "  root.Bokeh.embed.embed_items_notebook(docs_json, render_items);\n",
       "\n",
       "  }\n",
       "  if (root.Bokeh !== undefined) {\n",
       "    embed_document(root);\n",
       "  } else {\n",
       "    var attempts = 0;\n",
       "    var timer = setInterval(function(root) {\n",
       "      if (root.Bokeh !== undefined) {\n",
       "        clearInterval(timer);\n",
       "        embed_document(root);\n",
       "      } else {\n",
       "        attempts++;\n",
       "        if (attempts > 100) {\n",
       "          clearInterval(timer);\n",
       "          console.log(\"Bokeh: ERROR: Unable to run BokehJS code because BokehJS library is missing\");\n",
       "        }\n",
       "      }\n",
       "    }, 10, root)\n",
       "  }\n",
       "})(window);"
      ],
      "application/vnd.bokehjs_exec.v0+json": ""
     },
     "metadata": {
      "application/vnd.bokehjs_exec.v0+json": {
       "id": "2814"
      }
     },
     "output_type": "display_data"
    }
   ],
   "source": [
    "if analyse_phase == \"training\":\n",
    "    display(Markdown(\"\"\"### GPU memory\\n\\n\"\"\"))\n",
    "    \n",
    "    report = load_report('GPUMemoryIncrease')\n",
    "    if report:\n",
    "        params = report['RuleParameters'].split('\\n')\n",
    "        increase = float(params[0].split(':')[1])\n",
    "        patience = params[1].split(':')[1]\n",
    "        window = params[2].split(':')[1]\n",
    "        violations = report['Violations']\n",
    "        triggered = report['RuleTriggered']\n",
    "        datapoints = report['Datapoints']\n",
    "    \n",
    "        text=Paragraph(text=f\"\"\"The GPUMemoryIncrease rule helps to detect large increase in memory usage on GPUs. \n",
    "        The rule checked if the moving average of memory increased by more than {increase}%. \n",
    "        So if the moving average increased for instance from 10% to {11+increase}%, \n",
    "        the rule would have triggered. During initialization utilization  is likely 0, so the rule skipped the first {patience} datapoints.\n",
    "        The moving average was computed on a window size of {window} continuous datapoints. The rule detected {violations} violations\n",
    "        where the moving average between previous and current time window increased by more than {increase}%.\n",
    "        The rule analysed {datapoints} datapoints and triggered {triggered} times.\"\"\",\n",
    "                       width=900)\n",
    "        show(text)\n",
    "\n",
    "        if len(report['Details']) > 0:\n",
    "            \n",
    "            timestamp = us_since_epoch_to_human_readable_time(report['Details']['last_timestamp'])\n",
    "            date = datetime.datetime.strptime(timestamp, '%Y-%m-%dT%H:%M:%S:%f')\n",
    "            day = date.date().strftime(\"%m/%d/%Y\")\n",
    "            hour = date.time().strftime(\"%H:%M:%S\")\n",
    "            text = Paragraph(text=f\"\"\"Your training job triggered memory spikes. \n",
    "            The last time the GPUMemoryIncrease rule triggered in your training job was on {day} at {hour}.\n",
    "            The following boxplots are a snapshot from the timestamps. They show for each node and GPU the corresponding\n",
    "            memory utilization (without outliers).\"\"\", width=900)\n",
    "            show(text)\n",
    "            \n",
    "            del report['Details']['last_timestamp']\n",
    "            \n",
    "            for node_id in report['Details']:\n",
    "    \n",
    "                plot = figure(plot_height=350, \n",
    "                          plot_width=1000,\n",
    "                          toolbar_location='right',\n",
    "                          tools=\"hover,wheel_zoom,reset,pan\", \n",
    "                          title=f\"Node {node_id}\",\n",
    "                          x_range=(0,17),\n",
    "                          )\n",
    "\n",
    "                for index, key in enumerate(report['Details'][node_id]):\n",
    "                    display(Markdown(f\"\"\"**Memory utilization of {key} on node {node_id}:**\"\"\"))\n",
    "                    text = \"\"\n",
    "                    gpu_max = report['Details'][node_id][key]['gpu_max']\n",
    "                    text = f\"\"\"{text} The max memory utilization of {key} on node {node_id} was {gpu_max}%.\"\"\"\n",
    "                    \n",
    "                    p_95 = int(report['Details'][node_id][key]['p95'])\n",
    "                    p_5 = report['Details'][node_id][key]['p05']\n",
    "                    if p_95 < int(50): \n",
    "                        text = f\"\"\"{text} The 95th percentile was only {p_95}%.\"\"\"\n",
    "                    if p_5 < int(5): \n",
    "                        text = f\"\"\"{text} The 5th percentile was only {p_5}%.\"\"\"\n",
    "                    if p_95 - p_5 > 50:\n",
    "                        text = f\"\"\"{text} The difference between 5th percentile {p_5}% and 95th percentile {p_95}% is quite \n",
    "                        significant, which means that memory utilization on {key} is fluctuating quite a lot.\"\"\"\n",
    "                        \n",
    "                    text = Paragraph(text=f\"\"\"{text}\"\"\", width=900)\n",
    "                    show(text)\n",
    "                    \n",
    "                    upper = report['Details'][node_id][key]['upper']\n",
    "                    lower = report['Details'][node_id][key]['lower']\n",
    "                    p75 = report['Details'][node_id][key]['p75']\n",
    "                    p25 = report['Details'][node_id][key]['p25']\n",
    "                    p50 = report['Details'][node_id][key]['p50']\n",
    "\n",
    "                    plot.segment(index+1, upper, index+1, p75, line_color=\"black\")\n",
    "                    plot.segment(index+1, lower, index+1, p25, line_color=\"black\")\n",
    "\n",
    "                    plot.vbar(index+1, 0.7, p50, p75, fill_color=\"#FDE725\", line_color=\"black\")\n",
    "                    plot.vbar(index+1, 0.7, p25, p50, fill_color=\"#440154\", line_color=\"black\")\n",
    "\n",
    "                    plot.rect(index+1, lower, 0.2, 0.01, line_color=\"black\")\n",
    "                    plot.rect(index+1, upper, 0.2, 0.01, line_color=\"black\")\n",
    "\n",
    "                    plot.xaxis.major_label_overrides[index+1] = key\n",
    "                    plot.xgrid.grid_line_color = None\n",
    "                    plot.ygrid.grid_line_color = \"white\"\n",
    "                    plot.grid.grid_line_width = 0\n",
    "\n",
    "                    plot.xaxis.major_label_text_font_size=\"10px\"\n",
    "                plot.xaxis.ticker = np.arange(index+2)\n",
    "                plot.yaxis.axis_label = \"Utilization in %\"\n",
    "                show(plot)"
   ]
  }
 ],
 "metadata": {
  "celltoolbar": "Tags",
  "kernelspec": {
   "name": "python369jvsc74a57bd0b19f05f9342924ce7a5103d60a033f2d0ed3b1132f3eb0781eae98efaac103a9",
   "display_name": "Python 3.6.9 64-bit ('tf_1.14.0': virtualenvwrapper)"
  },
  "language_info": {
   "codemirror_mode": {
    "name": "ipython",
    "version": 3
   },
   "file_extension": ".py",
   "mimetype": "text/x-python",
   "name": "python",
   "nbconvert_exporter": "python",
   "pygments_lexer": "ipython3",
   "version": "3.6.9"
  },
  "papermill": {
   "duration": 5.056222,
   "end_time": "2021-05-30T22:12:57.479956",
   "environment_variables": {},
   "exception": null,
   "input_path": "/opt/ml/code/profiler_report.ipynb",
   "output_path": "/opt/ml/processing/output/rule/profiler-output/.sagemaker-ignore/out.tmp",
   "parameters": {},
   "start_time": "2021-05-30T22:12:52.423734",
   "version": "2.1.2"
  }
 },
 "nbformat": 4,
 "nbformat_minor": 4
}