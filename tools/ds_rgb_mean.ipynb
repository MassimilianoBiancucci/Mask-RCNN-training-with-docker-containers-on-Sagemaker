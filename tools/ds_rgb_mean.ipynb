{
 "metadata": {
  "language_info": {
   "codemirror_mode": {
    "name": "ipython",
    "version": 3
   },
   "file_extension": ".py",
   "mimetype": "text/x-python",
   "name": "python",
   "nbconvert_exporter": "python",
   "pygments_lexer": "ipython3",
   "version": "3.6.9"
  },
  "orig_nbformat": 2,
  "kernelspec": {
   "name": "python369jvsc74a57bd0b19f05f9342924ce7a5103d60a033f2d0ed3b1132f3eb0781eae98efaac103a9",
   "display_name": "Python 3.6.9 64-bit ('tf_1.14.0': virtualenvwrapper)"
  }
 },
 "nbformat": 4,
 "nbformat_minor": 2,
 "cells": [
  {
   "cell_type": "code",
   "execution_count": 4,
   "metadata": {},
   "outputs": [],
   "source": [
    "import os\n",
    "import cv2\n",
    "import numpy as np\n",
    "\n",
    "    "
   ]
  },
  {
   "cell_type": "code",
   "execution_count": 5,
   "metadata": {},
   "outputs": [],
   "source": [
    "# dataset paths\n",
    "\n",
    "DATASET_PATH_DEF = \"/home/massi/Dataset/archive/casting_512x512/casting_512x512/def_front\"\n",
    "DATASET_PATH_OK = \"/home/massi/Dataset/archive/casting_512x512/casting_512x512/ok_front\"\n"
   ]
  },
  {
   "cell_type": "code",
   "execution_count": 6,
   "metadata": {},
   "outputs": [],
   "source": [
    "def load_all_images(path):\n",
    "    \"\"\"\n",
    "    load all images in the given path\n",
    "    into a tuple and return\n",
    "    \"\"\"\n",
    "\n",
    "    image_paths = [os.path.join(path, f) for f in os.listdir(path)]\n",
    "    img_num = len(image_paths)\n",
    "    print(f\"num of images: {img_num}\")\n",
    "\n",
    "    if img_num:\n",
    "        print(image_paths[0])\n",
    "        img_1 = cv2.imread(image_paths[0])\n",
    "\n",
    "        images = np.zeros((img_num, img_1.shape[0], img_1.shape[1], img_1.shape[2]), dtype=\"uint8\")\n",
    "        images[0, :, :, :] = img_1\n",
    "\n",
    "        for i in range(1, img_num):\n",
    "            img = cv2.imread(image_paths[i])\n",
    "            images[i, :, :, :] = img\n",
    "    else:\n",
    "        print(\"no images found\")\n",
    "\n",
    "    return images"
   ]
  },
  {
   "cell_type": "code",
   "execution_count": 7,
   "metadata": {},
   "outputs": [
    {
     "output_type": "stream",
     "name": "stdout",
     "text": [
      "num of images: 781\n",
      "/home/massi/Dataset/archive/casting_512x512/casting_512x512/def_front/cast_def_0_42.jpeg\n",
      "(781, 512, 512, 3)\n",
      "rgb mean: [138.55649767 138.55649767 138.55649767]\n",
      "r mean: 138.55649767398225\n",
      "g mean: 138.55649767398225\n",
      "b mean: 138.55649767398225\n"
     ]
    }
   ],
   "source": [
    "images = load_all_images(DATASET_PATH_DEF)\n",
    "rgb_mean = np.mean(images, axis=(0, 1, 2))\n",
    "\n",
    "r_mean = np.mean(images[:, :, :, 0])\n",
    "g_mean = np.mean(images[:, :, :, 1])\n",
    "b_mean = np.mean(images[:, :, :, 2])\n",
    "\n",
    "\n",
    "print(images.shape)\n",
    "print(f'rgb mean: {rgb_mean}')\n",
    "\n",
    "print(f'r mean: {r_mean}')\n",
    "print(f'g mean: {g_mean}')\n",
    "print(f'b mean: {b_mean}')"
   ]
  },
  {
   "cell_type": "code",
   "execution_count": null,
   "metadata": {},
   "outputs": [],
   "source": [
    "img_test = np.zeros((100, 100, 3), dtype='uint8')\n",
    "\n",
    "img_test[:, :, 0] = 255\n",
    "img_test[:, :, 0] = 120\n",
    "img_test[:, :, 0] = 0\n",
    "\n"
   ]
  }
 ]
}