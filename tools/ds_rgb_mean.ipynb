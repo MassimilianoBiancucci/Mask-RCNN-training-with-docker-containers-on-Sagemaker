{
 "metadata": {
  "language_info": {
   "codemirror_mode": {
    "name": "ipython",
    "version": 3
   },
   "file_extension": ".py",
   "mimetype": "text/x-python",
   "name": "python",
   "nbconvert_exporter": "python",
   "pygments_lexer": "ipython3",
   "version": "3.6.9"
  },
  "orig_nbformat": 2,
  "kernelspec": {
   "name": "python369jvsc74a57bd0b19f05f9342924ce7a5103d60a033f2d0ed3b1132f3eb0781eae98efaac103a9",
   "display_name": "Python 3.6.9 64-bit ('tf_1.14.0': virtualenvwrapper)"
  }
 },
 "nbformat": 4,
 "nbformat_minor": 2,
 "cells": [
  {
   "cell_type": "code",
   "execution_count": 1,
   "metadata": {},
   "outputs": [],
   "source": [
    "import os\n",
    "import cv2\n",
    "import numpy as np\n",
    "import matplotlib.pyplot as plt\n",
    "    "
   ]
  },
  {
   "cell_type": "code",
   "execution_count": 2,
   "metadata": {},
   "outputs": [],
   "source": [
    "# dataset paths\n",
    "\n",
    "DATASET_PATH_DEF = \"/home/massi/Dataset/archive/casting_512x512/casting_512x512/def_front\"\n",
    "DATASET_PATH_OK = \"/home/massi/Dataset/archive/casting_512x512/casting_512x512/ok_front\"\n"
   ]
  },
  {
   "cell_type": "code",
   "execution_count": 3,
   "metadata": {},
   "outputs": [],
   "source": [
    "def load_all_images(path):\n",
    "    \"\"\"\n",
    "    load all images in the given path\n",
    "    into a tuple and return\n",
    "    \"\"\"\n",
    "\n",
    "    image_paths = [os.path.join(path, f) for f in os.listdir(path)]\n",
    "    img_num = len(image_paths)\n",
    "    print(f\"num of images: {img_num}\")\n",
    "\n",
    "    if img_num:\n",
    "        img_1 = cv2.imread(image_paths[0])\n",
    "\n",
    "        images = np.zeros((img_num, img_1.shape[0], img_1.shape[1], img_1.shape[2]), dtype=\"uint8\")\n",
    "        images[0, :, :, :] = img_1\n",
    "\n",
    "        for i in range(1, img_num):\n",
    "            img = cv2.imread(image_paths[i])\n",
    "            #print(f' opencv img shape: {img.shape}')\n",
    "            images[i, :, :, :] = img\n",
    "    else:\n",
    "        print(\"no images found\")\n",
    "\n",
    "    return images"
   ]
  },
  {
   "cell_type": "code",
   "execution_count": 4,
   "metadata": {},
   "outputs": [
    {
     "output_type": "stream",
     "name": "stdout",
     "text": [
      "num of images: 781\n",
      "num of images: 519\n",
      "r mean: 143.75494593553384\n",
      "g mean: 143.75494593553384\n",
      "b mean: 143.75494593553384\n"
     ]
    }
   ],
   "source": [
    "def_images = load_all_images(DATASET_PATH_DEF)\n",
    "ok_images = load_all_images(DATASET_PATH_OK)\n",
    "\n",
    "rgb_mean_ok = np.mean(ok_images, axis=(0, 1, 2))\n",
    "rgb_mean_def = np.mean(def_images, axis=(0, 1, 2))\n",
    "\n",
    "\n",
    "print(f'r mean: {(rgb_mean_ok[0] + rgb_mean_def[0])/2}')\n",
    "print(f'g mean: {(rgb_mean_ok[1] + rgb_mean_def[1])/2}')\n",
    "print(f'b mean: {(rgb_mean_ok[2] + rgb_mean_def[2])/2}')\n",
    "\n"
   ]
  }
 ]
}