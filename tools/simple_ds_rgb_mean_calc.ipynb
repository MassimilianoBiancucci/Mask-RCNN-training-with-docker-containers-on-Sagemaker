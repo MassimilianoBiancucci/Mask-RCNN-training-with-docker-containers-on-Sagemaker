{
 "metadata": {
  "language_info": {
   "codemirror_mode": {
    "name": "ipython",
    "version": 3
   },
   "file_extension": ".py",
   "mimetype": "text/x-python",
   "name": "python",
   "nbconvert_exporter": "python",
   "pygments_lexer": "ipython3",
   "version": "3.6.9"
  },
  "orig_nbformat": 2,
  "kernelspec": {
   "name": "python369jvsc74a57bd0b19f05f9342924ce7a5103d60a033f2d0ed3b1132f3eb0781eae98efaac103a9",
   "display_name": "Python 3.6.9 64-bit ('tf_1.14.0': virtualenvwrapper)"
  }
 },
 "nbformat": 4,
 "nbformat_minor": 2,
 "cells": [
  {
   "cell_type": "code",
   "execution_count": 1,
   "metadata": {},
   "outputs": [],
   "source": [
    "import os\n",
    "import cv2\n",
    "import numpy as np"
   ]
  },
  {
   "cell_type": "code",
   "execution_count": 2,
   "metadata": {},
   "outputs": [],
   "source": [
    "# dataset paths\n",
    "\n",
    "DATASET_PATH_DEF = \"/root/datasets/casting product image data for quality inspection/dataset/casting_512x512/casting_512x512/def_front\"\n",
    "DATASET_PATH_OK = \"/root/datasets/casting product image data for quality inspection/dataset/casting_512x512/casting_512x512/ok_front\""
   ]
  },
  {
   "cell_type": "code",
   "execution_count": 3,
   "metadata": {},
   "outputs": [],
   "source": [
    "def load_all_images(path):\n",
    "    \"\"\"\n",
    "    load all images in the given path\n",
    "    into a tuple and return\n",
    "    \"\"\"\n",
    "\n",
    "    image_paths = [os.path.join(path, f) for f in os.listdir(path)]\n",
    "    img_num = len(image_paths)\n",
    "    print(f\"num of images: {img_num}\")\n",
    "\n",
    "    if img_num:\n",
    "        img_1 = cv2.imread(image_paths[0])\n",
    "\n",
    "        images = np.zeros((img_num, img_1.shape[0], img_1.shape[1], img_1.shape[2]), dtype=\"uint8\")\n",
    "        images[0, :, :, :] = img_1\n",
    "\n",
    "        for i in range(1, img_num):\n",
    "            img = cv2.imread(image_paths[i])\n",
    "            #print(f' opencv img shape: {img.shape}')\n",
    "            images[i, :, :, :] = img\n",
    "    else:\n",
    "        print(\"no images found\")\n",
    "\n",
    "    return images"
   ]
  },
  {
   "cell_type": "code",
   "execution_count": 4,
   "metadata": {},
   "outputs": [
    {
     "output_type": "error",
     "ename": "FileNotFoundError",
     "evalue": "[Errno 2] No such file or directory: '/root/datasets/casting product image data for quality inspection/dataset/casting_512x512/casting_512x512/def_front'",
     "traceback": [
      "\u001b[0;31m---------------------------------------------------------------------------\u001b[0m",
      "\u001b[0;31mFileNotFoundError\u001b[0m                         Traceback (most recent call last)",
      "\u001b[0;32m<ipython-input-4-2fb40346f95b>\u001b[0m in \u001b[0;36m<module>\u001b[0;34m\u001b[0m\n\u001b[0;32m----> 1\u001b[0;31m \u001b[0mdef_images\u001b[0m \u001b[0;34m=\u001b[0m \u001b[0mload_all_images\u001b[0m\u001b[0;34m(\u001b[0m\u001b[0mDATASET_PATH_DEF\u001b[0m\u001b[0;34m)\u001b[0m\u001b[0;34m\u001b[0m\u001b[0;34m\u001b[0m\u001b[0m\n\u001b[0m\u001b[1;32m      2\u001b[0m \u001b[0mok_images\u001b[0m \u001b[0;34m=\u001b[0m \u001b[0mload_all_images\u001b[0m\u001b[0;34m(\u001b[0m\u001b[0mDATASET_PATH_OK\u001b[0m\u001b[0;34m)\u001b[0m\u001b[0;34m\u001b[0m\u001b[0;34m\u001b[0m\u001b[0m\n\u001b[1;32m      3\u001b[0m \u001b[0;34m\u001b[0m\u001b[0m\n\u001b[1;32m      4\u001b[0m \u001b[0mrgb_mean_ok\u001b[0m \u001b[0;34m=\u001b[0m \u001b[0mnp\u001b[0m\u001b[0;34m.\u001b[0m\u001b[0mmean\u001b[0m\u001b[0;34m(\u001b[0m\u001b[0mok_images\u001b[0m\u001b[0;34m,\u001b[0m \u001b[0maxis\u001b[0m\u001b[0;34m=\u001b[0m\u001b[0;34m(\u001b[0m\u001b[0;36m0\u001b[0m\u001b[0;34m,\u001b[0m \u001b[0;36m1\u001b[0m\u001b[0;34m,\u001b[0m \u001b[0;36m2\u001b[0m\u001b[0;34m)\u001b[0m\u001b[0;34m)\u001b[0m\u001b[0;34m\u001b[0m\u001b[0;34m\u001b[0m\u001b[0m\n\u001b[1;32m      5\u001b[0m \u001b[0mrgb_mean_def\u001b[0m \u001b[0;34m=\u001b[0m \u001b[0mnp\u001b[0m\u001b[0;34m.\u001b[0m\u001b[0mmean\u001b[0m\u001b[0;34m(\u001b[0m\u001b[0mdef_images\u001b[0m\u001b[0;34m,\u001b[0m \u001b[0maxis\u001b[0m\u001b[0;34m=\u001b[0m\u001b[0;34m(\u001b[0m\u001b[0;36m0\u001b[0m\u001b[0;34m,\u001b[0m \u001b[0;36m1\u001b[0m\u001b[0;34m,\u001b[0m \u001b[0;36m2\u001b[0m\u001b[0;34m)\u001b[0m\u001b[0;34m)\u001b[0m\u001b[0;34m\u001b[0m\u001b[0;34m\u001b[0m\u001b[0m\n",
      "\u001b[0;32m<ipython-input-3-86fdb53f88cb>\u001b[0m in \u001b[0;36mload_all_images\u001b[0;34m(path)\u001b[0m\n\u001b[1;32m      5\u001b[0m     \"\"\"\n\u001b[1;32m      6\u001b[0m \u001b[0;34m\u001b[0m\u001b[0m\n\u001b[0;32m----> 7\u001b[0;31m     \u001b[0mimage_paths\u001b[0m \u001b[0;34m=\u001b[0m \u001b[0;34m[\u001b[0m\u001b[0mos\u001b[0m\u001b[0;34m.\u001b[0m\u001b[0mpath\u001b[0m\u001b[0;34m.\u001b[0m\u001b[0mjoin\u001b[0m\u001b[0;34m(\u001b[0m\u001b[0mpath\u001b[0m\u001b[0;34m,\u001b[0m \u001b[0mf\u001b[0m\u001b[0;34m)\u001b[0m \u001b[0;32mfor\u001b[0m \u001b[0mf\u001b[0m \u001b[0;32min\u001b[0m \u001b[0mos\u001b[0m\u001b[0;34m.\u001b[0m\u001b[0mlistdir\u001b[0m\u001b[0;34m(\u001b[0m\u001b[0mpath\u001b[0m\u001b[0;34m)\u001b[0m\u001b[0;34m]\u001b[0m\u001b[0;34m\u001b[0m\u001b[0;34m\u001b[0m\u001b[0m\n\u001b[0m\u001b[1;32m      8\u001b[0m     \u001b[0mimg_num\u001b[0m \u001b[0;34m=\u001b[0m \u001b[0mlen\u001b[0m\u001b[0;34m(\u001b[0m\u001b[0mimage_paths\u001b[0m\u001b[0;34m)\u001b[0m\u001b[0;34m\u001b[0m\u001b[0;34m\u001b[0m\u001b[0m\n\u001b[1;32m      9\u001b[0m     \u001b[0mprint\u001b[0m\u001b[0;34m(\u001b[0m\u001b[0;34mf\"num of images: {img_num}\"\u001b[0m\u001b[0;34m)\u001b[0m\u001b[0;34m\u001b[0m\u001b[0;34m\u001b[0m\u001b[0m\n",
      "\u001b[0;31mFileNotFoundError\u001b[0m: [Errno 2] No such file or directory: '/root/datasets/casting product image data for quality inspection/dataset/casting_512x512/casting_512x512/def_front'"
     ]
    }
   ],
   "source": [
    "def_images = load_all_images(DATASET_PATH_DEF)\n",
    "ok_images = load_all_images(DATASET_PATH_OK)\n",
    "\n",
    "rgb_mean_ok = np.mean(ok_images, axis=(0, 1, 2))\n",
    "rgb_mean_def = np.mean(def_images, axis=(0, 1, 2))\n",
    "\n",
    "\n",
    "print(f'r mean: {(rgb_mean_ok[0] + rgb_mean_def[0])/2}')\n",
    "print(f'g mean: {(rgb_mean_ok[1] + rgb_mean_def[1])/2}')\n",
    "print(f'b mean: {(rgb_mean_ok[2] + rgb_mean_def[2])/2}')"
   ]
  },
  {
   "cell_type": "code",
   "execution_count": null,
   "metadata": {},
   "outputs": [],
   "source": []
  }
 ]
}